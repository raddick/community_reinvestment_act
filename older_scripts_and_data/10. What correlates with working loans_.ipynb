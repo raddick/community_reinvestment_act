{
 "cells": [
  {
   "cell_type": "code",
   "metadata": {},
   "outputs": [
    {
     "name": "stdout",
     "output_type": "stream",
     "text": [
      "ok\n"
     ]
    }
   ],
   "source": [
    "import numpy as np\n",
    "import pandas\n",
    "from matplotlib import pyplot as plt\n",
    "from IPython.display import display, HTML\n",
    "import scipy as sp\n",
    "from scipy import stats as stats\n",
    "from pprint import pprint\n",
    "thisdir = '/home/idies/workspace/Storage/raddick/Baltimore/community_reinvestment_act/'\n",
    "datadir = thisdir + 'datasets_for_analysis/'\n",
    "shapefile_basedir = '/home/idies/workspace/Storage/raddick/Baltimore/shapefiles/'\n",
    "census_shapefile_tiger_basedir = '/home/idies/workspace/Temporary/raddick/census_scratch/shapefiles/'\n",
    "\n",
    "debug = 1\n",
    "\n",
    "print('ok')"
   ]
  },
  {
   "cell_type": "code",
   "execution_count": 3,
   "metadata": {
    "scrolled": false
   },
   "outputs": [
    {
     "data": {
      "text/plain": [
       "['mfi', 'mfi_err', 'mfi_adj']"
      ]
     },
     "execution_count": 3,
     "metadata": {},
     "output_type": "execute_result"
    }
   ],
   "source": [
    "\n",
    "df = pandas.read_csv(datadir+'reinvestment_by_census_tract_for_smallest_businesses.csv', encoding='utf-8')#, index_col=['census_tract', 'activity_year'])\n",
    "[x for x in df.columns if 'mfi' in x]\n"
   ]
  },
  {
   "cell_type": "code",
   "execution_count": 5,
   "metadata": {
    "scrolled": false
   },
   "outputs": [
    {
     "name": "stdout",
     "output_type": "stream",
     "text": [
      "Correlation between pop_white_pct and amtWorkingLoans_adj_per_sbjob (n = 185): 0.123 (p = 0.096)\n",
      "Correlation between pop_black_pct and amtWorkingLoans_adj_per_sbjob (n = 185): -0.129 (p = 0.080)\n",
      "Correlation between white_householder_pct and amtWorkingLoans_adj_per_sbjob (n = 185): 0.123 (p = 0.095)\n",
      "Correlation between black_householder_pct and amtWorkingLoans_adj_per_sbjob (n = 185): -0.134 (p = 0.069)\n",
      "Correlation between female_householder_pct and amtWorkingLoans_adj_per_sbjob (n = 185): -0.023 (p = 0.754)\n",
      "Correlation between hs_grad_25plus_pct and amtWorkingLoans_adj_per_sbjob (n = 185): 0.015 (p = 0.842)\n",
      "Correlation between unemployed_16plus_pct and amtWorkingLoans_adj_per_sbjob (n = 185): -0.073 (p = 0.323)\n",
      "Correlation between poverty_past_12_months_pct and amtWorkingLoans_adj_per_sbjob (n = 185): -0.027 (p = 0.717)\n",
      "Correlation between mfi_adj and amtWorkingLoans_adj_per_sbjob (n = 183): 0.034 (p = 0.650)\n"
     ]
    }
   ],
   "source": [
    "df = pandas.read_csv(datadir+'reinvestment_by_census_tract_for_smallest_businesses.csv', encoding='utf-8')#, index_col=['census_tract', 'activity_year'])\n",
    "\n",
    "cra_info_columns = ['census_tract', 'activity_year', 'income_group_code', 'income_group', 'cra_level']\n",
    "\n",
    "cra_loan_columns = ['census_tract', 'nLoans1', 'nLoans100k', 'nLoans250k']\n",
    "cra_loan_columns += ['nLoansToSmallest', 'nLoansTotal', 'nWorkingLoans']\n",
    "cra_loan_columns += ['amtLoans1_adj', 'amtLoans100k_adj', 'amtLoans250k_adj']\n",
    "cra_loan_columns += ['amtLoansToSmallest_adj', 'amtLoansTotal_adj', 'amtWorkingLoans_adj']\n",
    "\n",
    "census_columns = ['census_tract', 'pop_total', 'total_householders', 'pop_white', 'pop_black']\n",
    "census_columns += ['black_householder', 'white_householder', 'owner_occ_housing_units', 'mfi']\n",
    "census_columns += ['female_householder', 'hs_grad_25plus', 'unemployed_16plus', 'mfi_adj']\n",
    "census_columns += ['poverty_past_12_months', 'median_home_value', 'median_year_built']\n",
    "census_columns += ['pop_25plus', 'labor_force_16plus', 'poverty_status_known_last12months_total']\n",
    "census_columns += [x for x in df.columns.tolist() if x[-4:] == '_pct']\n",
    "\n",
    "census_error_columns = ['census_tract', 'pop_total_err', 'total_householders_err', 'pop_white_err', 'pop_black_err']\n",
    "census_error_columns += ['black_householder_err', 'white_householder_err', 'owner_occ_housing_units_err', 'mfi_err']\n",
    "census_error_columns += ['female_householder_err', 'hs_grad_25plus_serr', 'unemployed_16plus_err']\n",
    "census_error_columns += ['poverty_past_12_months_err', 'median_home_value_err', 'median_year_built_err']\n",
    "census_error_columns += ['pop_25plus_serr', 'labor_force_16plus_err', 'poverty_status_known_last12months_total_err']\n",
    "\n",
    "\n",
    "jobs_columns = ['census_tract']\n",
    "jobs_columns += [x for x in df.columns.tolist() if 'jobs' in x.lower()]\n",
    "\n",
    "\n",
    "census_tract_list = df['census_tract'].dropna().drop_duplicates().sort_values().tolist()\n",
    "\n",
    "census_tracts_df = pandas.DataFrame(census_tract_list, columns=['census_tract'])\n",
    "census_tracts_df = census_tracts_df.set_index('census_tract')\n",
    "census_tracts_df = census_tracts_df.assign(nYears = df.groupby('census_tract').size())\n",
    "census_tracts_df = census_tracts_df.join(df.groupby('census_tract')[cra_loan_columns].sum(), how='left')\n",
    "\n",
    "census_tracts_df = census_tracts_df.join(df[jobs_columns][df['activity_year'] == 2015].set_index('census_tract'), how='left')\n",
    "\n",
    "census_tracts_df = census_tracts_df.join(df[census_columns][df['activity_year'] == 2017].set_index('census_tract'), how='left')\n",
    "census_tracts_df = census_tracts_df.join(df[census_error_columns][df['activity_year'] == 2017].set_index('census_tract'), how='left')\n",
    "\n",
    "#census_tracts_df[census_tracts_df['nYears'] == 7].sample(1).T\n",
    "#df.columns.tolist()\n",
    "\n",
    "\n",
    "#et_columns = cra_loan_columns + ['Number of jobs for workers at firms with Firm Size: 0-19 Employees']\n",
    "census_tracts_df = census_tracts_df.assign(nLoans1_per_sbjob = census_tracts_df['nLoans1'] / census_tracts_df['Number of jobs for workers at firms with Firm Size: 0-19 Employees'])\n",
    "census_tracts_df = census_tracts_df.assign(nLoans100k_per_sbjob = census_tracts_df['nLoans100k'] / census_tracts_df['Number of jobs for workers at firms with Firm Size: 0-19 Employees'])\n",
    "census_tracts_df = census_tracts_df.assign(nLoans250k_per_sbjob = census_tracts_df['nLoans250k'] / census_tracts_df['Number of jobs for workers at firms with Firm Size: 0-19 Employees'])\n",
    "census_tracts_df = census_tracts_df.assign(nLoansToSmallest_per_sbjob = census_tracts_df['nLoansToSmallest'] / census_tracts_df['Number of jobs for workers at firms with Firm Size: 0-19 Employees'])\n",
    "census_tracts_df = census_tracts_df.assign(nLoansTotal_per_sbjob = census_tracts_df['nLoansTotal'] / census_tracts_df['Number of jobs for workers at firms with Firm Size: 0-19 Employees'])\n",
    "census_tracts_df = census_tracts_df.assign(nWorkingLoans_per_sbjob = census_tracts_df['nWorkingLoans'] / census_tracts_df['Number of jobs for workers at firms with Firm Size: 0-19 Employees'])\n",
    "census_tracts_df = census_tracts_df.assign(amtLoans1_adj_per_sbjob = census_tracts_df['amtLoans1_adj'] / census_tracts_df['Number of jobs for workers at firms with Firm Size: 0-19 Employees'])\n",
    "census_tracts_df = census_tracts_df.assign(amtLoans100k_adj_per_sbjob = census_tracts_df['amtLoans100k_adj'] / census_tracts_df['Number of jobs for workers at firms with Firm Size: 0-19 Employees'])\n",
    "census_tracts_df = census_tracts_df.assign(amtLoans250k_adj_per_sbjob = census_tracts_df['amtLoans250k_adj'] / census_tracts_df['Number of jobs for workers at firms with Firm Size: 0-19 Employees'])\n",
    "census_tracts_df = census_tracts_df.assign(amtLoansTotal_adj_per_sbjob = census_tracts_df['amtLoansTotal_adj'] / census_tracts_df['Number of jobs for workers at firms with Firm Size: 0-19 Employees'])\n",
    "census_tracts_df = census_tracts_df.assign(amtWorkingLoans_adj_per_sbjob = census_tracts_df['amtWorkingLoans_adj'] / census_tracts_df['Number of jobs for workers at firms with Firm Size: 0-19 Employees'])\n",
    "census_tracts_df.loc[(census_tracts_df['amtWorkingLoans_adj_per_sbjob'] == np.inf), 'amtWorkingLoans_adj_per_sbjob'] = np.nan\n",
    "\n",
    "#print('backing up...')\n",
    "#census_tracts_df_bk = census_tracts_df\n",
    "#print('ok')\n",
    "\n",
    "display_census_columns = [x for x in df.columns.tolist() if x[-4:] == '_pct']\n",
    "display_census_columns += ['mfi_adj']\n",
    "\n",
    "#for tract, thisrow in census_tracts_df[(census_tracts_df['nYears'] == 7)].iterrows():\n",
    "#    for thiscol in display_census_columns:\n",
    "#        print('Tract {0:.2f}: Population {1:,.0f}, Loan amount ${2:,.0f}'.format(tract, thisrow[thiscol], thisrow['amtWorkingLoans_adj_per_sbjob']))\n",
    "\n",
    "#print(census_tracts_df['pop_total'][(census_tracts_df['nYears'] == 7) & (census_tracts_df['amtWorkingLoans_adj_per_sbjob'].notnull())].values.shape)\n",
    "#print(census_tracts_df['amtWorkingLoans_adj_per_sbjob'][(census_tracts_df['nYears'] == 7) & (census_tracts_df['amtWorkingLoans_adj_per_sbjob'].notnull())].values.shape)\n",
    "not_significant_columns = []\n",
    "for thiscol in display_census_columns:\n",
    "    (r, p) = stats.pearsonr(\n",
    "        census_tracts_df[thiscol][(census_tracts_df['nYears'] == 7) & (census_tracts_df['amtWorkingLoans_adj_per_sbjob'].notnull()) & (census_tracts_df[thiscol].notnull())].values, \n",
    "        census_tracts_df['amtWorkingLoans_adj_per_sbjob'][(census_tracts_df['nYears'] == 7) & (census_tracts_df['amtWorkingLoans_adj_per_sbjob'].notnull()) & (census_tracts_df[thiscol].notnull())].values\n",
    "    )\n",
    "    #if (p < 0.05):\n",
    "    print('Correlation between {0:} and amtWorkingLoans_adj_per_sbjob (n = {1:,.0f}): {2:.3f} (p = {3:.3f})'.format(\n",
    "        thiscol, \n",
    "        len(census_tracts_df[(census_tracts_df['nYears'] == 7) & (census_tracts_df['amtWorkingLoans_adj_per_sbjob'].notnull()) & (census_tracts_df[thiscol].notnull())]), \n",
    "        r, p\n",
    "    ))\n",
    "#    else:\n",
    "#        not_significant_columns.append(thiscol)\n",
    "\n",
    "              #census_tracts_df['amtWorkingLoans_adj_per_sbjob'][(census_tracts_df['nYears'] == 7)].values\n",
    "#print('\\n')\n",
    "#print('Columns whose correlations with working loan amounts are not statistically significant:')\n",
    "#pprint(not_significant_columns)\n",
    "#for thiscol in display_census_columns:\n",
    "#    \n",
    "#    print(\n",
    "#        stats.pearsonr(\n",
    "#            census_tracts_df[thiscol][(census_tracts_df[thiscol].notnull()) & (census_tracts_df['nYears'] == 7)].tolist(),\n",
    "#            census_tracts_df['amtWorkingLoans_adj_per_sbjob'][(census_tracts_df[thiscol].notnull()) & (census_tracts_df['nYears'] == 7)].tolist()\n",
    "#        )\n",
    "#    )\n",
    "    \n"
   ]
  },
  {
   "cell_type": "code",
   "execution_count": 6,
   "metadata": {},
   "outputs": [
    {
     "data": {
      "text/plain": [
       "['pop_white_pct',\n",
       " 'pop_black_pct',\n",
       " 'white_householder_pct',\n",
       " 'black_householder_pct',\n",
       " 'female_householder_pct',\n",
       " 'hs_grad_25plus_pct',\n",
       " 'unemployed_16plus_pct',\n",
       " 'poverty_past_12_months_pct',\n",
       " 'mfi_adj']"
      ]
     },
     "execution_count": 6,
     "metadata": {},
     "output_type": "execute_result"
    }
   ],
   "source": [
    "display_census_columns"
   ]
  },
  {
   "cell_type": "code",
   "execution_count": null,
   "metadata": {},
   "outputs": [],
   "source": []
  }
 ],
 "metadata": {
  "kernelspec": {
   "display_name": "Python 3",
   "language": "python",
   "name": "python3"
  },
  "language_info": {
   "codemirror_mode": {
    "name": "ipython",
    "version": 3
   },
   "file_extension": ".py",
   "mimetype": "text/x-python",
   "name": "python",
   "nbconvert_exporter": "python",
   "pygments_lexer": "ipython3",
   "version": "3.6.6"
  }
 },
 "nbformat": 4,
 "nbformat_minor": 2
}
