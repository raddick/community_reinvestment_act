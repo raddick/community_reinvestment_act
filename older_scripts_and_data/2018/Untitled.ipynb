{
 "cells": [
  {
   "cell_type": "code",
   "execution_count": 11,
   "metadata": {},
   "outputs": [
    {
     "name": "stdout",
     "output_type": "stream",
     "text": [
      "ok\n"
     ]
    }
   ],
   "source": [
    "import os\n",
    "import urllib\n",
    "import time\n",
    "import zipfile\n",
    "\n",
    "thisdir = '/home/idies/workspace/Storage/raddick/Baltimore/community_reinvestment_act/'\n",
    "data_dir = '/home/idies/workspace/Temporary/raddick/cra_scratch_final/'\n",
    "code_lookup_dir = thisdir + 'code_guide_lookups/'\n",
    "g = 0\n",
    "print('ok')"
   ]
  },
  {
   "cell_type": "code",
   "execution_count": 12,
   "metadata": {},
   "outputs": [
    {
     "name": "stdout",
     "output_type": "stream",
     "text": [
      "Downloading aggregate data flatfiles...\n",
      "Starting to download 96exp_aggr.zip...\n",
      "Starting to download 97exp_aggr.zip...\n",
      "Starting to download 98exp_aggr.zip...\n",
      "Starting to download 99exp_aggr.zip...\n",
      "Starting to download 00exp_aggr.zip...\n",
      "Starting to download 01exp_aggr.zip...\n",
      "Starting to download 02exp_aggr.zip...\n",
      "Starting to download 03exp_aggr.zip...\n",
      "Starting to download 04exp_aggr.zip...\n",
      "Starting to download 05exp_aggr.zip...\n",
      "Starting to download 06exp_aggr.zip...\n",
      "Starting to download 07exp_aggr.zip...\n",
      "Starting to download 08exp_aggr.zip...\n",
      "Starting to download 09exp_aggr.zip...\n",
      "Starting to download 10exp_aggr.zip...\n",
      "Starting to download 11exp_aggr.zip...\n",
      "Starting to download 12exp_aggr.zip...\n",
      "Starting to download 13exp_aggr.zip...\n",
      "Starting to download 14exp_aggr.zip...\n",
      "Starting to download 15exp_aggr.zip...\n",
      "Starting to download 16exp_aggr.zip...\n",
      "Starting to download 17exp_aggr.zip...\n",
      "Got 22 files in 17 seconds!\n"
     ]
    }
   ],
   "source": [
    "# Get aggregate datafiles from ffiec.gov\n",
    "s = time.time()\n",
    "print('Downloading aggregate data flatfiles...')\n",
    "thatpath = 'https://www.ffiec.gov/cra/xls/'\n",
    "theyears = list(range(96,100))\n",
    "theyears += list(range(0,18))\n",
    "\n",
    "filenames = []\n",
    "\n",
    "for i in theyears:\n",
    "    filenames.append('{:02d}exp_aggr.zip'.format(i))\n",
    "#filenames\n",
    "\n",
    "for thisfile in filenames:\n",
    "    print('Starting to download {:}...'.format(thisfile))\n",
    "    with urllib.request.urlopen(thatpath+thisfile) as response:    \n",
    "        it = response.read()\n",
    "        with open(thisfile, 'wb') as f:\n",
    "            f.write(it)\n",
    "            \n",
    "e = time.time()\n",
    "g = g + (e-s)\n",
    "print('Got {0:,.0f} files in {1:,.0f} seconds!'.format(len(filenames), e-s))\n"
   ]
  },
  {
   "cell_type": "code",
   "execution_count": 14,
   "metadata": {},
   "outputs": [
    {
     "name": "stdout",
     "output_type": "stream",
     "text": [
      "Extracting 96exp_aggr.zip...\n",
      "Extracting 97exp_aggr.zip...\n",
      "Extracting 98exp_aggr.zip...\n",
      "Extracting 99exp_aggr.zip...\n",
      "Extracting 00exp_aggr.zip...\n",
      "Extracting 01exp_aggr.zip...\n",
      "Extracting 02exp_aggr.zip...\n",
      "Extracting 03exp_aggr.zip...\n",
      "Extracting 04exp_aggr.zip...\n",
      "Extracting 05exp_aggr.zip...\n",
      "Extracting 06exp_aggr.zip...\n",
      "Extracting 07exp_aggr.zip...\n",
      "Extracting 08exp_aggr.zip...\n",
      "Extracting 09exp_aggr.zip...\n",
      "Extracting 10exp_aggr.zip...\n",
      "Extracting 11exp_aggr.zip...\n",
      "Extracting 12exp_aggr.zip...\n",
      "Extracting 13exp_aggr.zip...\n",
      "Extracting 14exp_aggr.zip...\n",
      "Extracting 15exp_aggr.zip...\n",
      "Extracting 16exp_aggr.zip...\n",
      "Extracting 17exp_aggr.zip...\n",
      "Deleting zipfiles...\n",
      "Extracted 23 zipfiles in 22 seconds!\n"
     ]
    }
   ],
   "source": [
    "theyears = list(range(96,100))\n",
    "theyears += list(range(0,18))\n",
    "\n",
    "s = time.time()\n",
    "for i in theyears:\n",
    "    thisfile = '{0:02d}exp_aggr.zip'.format(i)\n",
    "    if (thisfile in os.listdir()):\n",
    "        print('Extracting {0:}...'.format(thisfile))\n",
    "    else:\n",
    "        print(thisfile+' not found!!!')\n",
    "    thezipfile = zipfile.ZipFile(thisfile)\n",
    "    thezipfile.extractall()\n",
    "    thezipfile.close()\n",
    "#    if ((i >= 8) & (i <= 15)):\n",
    "#        os.rename('exp_discl.dat', '{0:02d}exp_discl.dat'.format(i))\n",
    "\n",
    "print('Deleting zipfiles...')\n",
    "thezipfiles = [x for x in os.listdir() if '.zip' in x]\n",
    "for thiszip in thezipfiles:\n",
    "    os.remove(thiszip)\n",
    "e = time.time()\n",
    "g = g + (e-s)\n",
    "print('Extracted {0:,.0f} zipfiles in {1:,.0f} seconds!'.format(len(thezipfiles), e-s))\n"
   ]
  },
  {
   "cell_type": "code",
   "execution_count": null,
   "metadata": {},
   "outputs": [],
   "source": []
  }
 ],
 "metadata": {
  "kernelspec": {
   "display_name": "Python 3",
   "language": "python",
   "name": "python3"
  },
  "language_info": {
   "codemirror_mode": {
    "name": "ipython",
    "version": 3
   },
   "file_extension": ".py",
   "mimetype": "text/x-python",
   "name": "python",
   "nbconvert_exporter": "python",
   "pygments_lexer": "ipython3",
   "version": "3.6.6"
  }
 },
 "nbformat": 4,
 "nbformat_minor": 2
}
