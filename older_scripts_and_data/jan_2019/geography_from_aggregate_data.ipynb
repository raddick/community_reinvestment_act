{
 "cells": [
  {
   "cell_type": "markdown",
   "metadata": {},
   "source": [
    "# Import packages, set directories"
   ]
  },
  {
   "cell_type": "code",
   "execution_count": 14,
   "metadata": {
    "scrolled": true
   },
   "outputs": [
    {
     "name": "stdout",
     "output_type": "stream",
     "text": [
      "Importing packages...\n"
     ]
    },
    {
     "data": {
      "text/plain": [
       "'/home/idies/workspace/Storage/raddick/Baltimore/community_reinvestment_act'"
      ]
     },
     "execution_count": 14,
     "metadata": {},
     "output_type": "execute_result"
    }
   ],
   "source": [
    "print('Importing packages...')\n",
    "import os\n",
    "import pandas\n",
    "import time\n",
    "import numpy as np\n",
    "from matplotlib import pyplot as plt\n",
    "import geopandas\n",
    "import re\n",
    "from IPython.display import display, HTML\n",
    "\n",
    "pandas.set_option('display.max_colwidth', -1)\n",
    "\n",
    "acs5_data_basedir = '/home/idies/workspace/Temporary/raddick/census_scratch/acs5/'\n",
    "#shapefiledir = '/home/idies/workspace/Storage/raddick/Baltimore/shapefiles/'\n",
    "tiger_basedir = '/home/idies/workspace/Temporary/raddick/census_scratch/shapefiles/'\n",
    "\n",
    "#basedir = '/home/idies/workspace/Storage/raddick/Baltimore/community_reinvestment_act/datasets/acs5/'\n",
    "#census_data_basedir = '/home/idies/workspace/Storage/raddick/Baltimore/community_reinvestment_act/datasets/acs5/'\n",
    "\n",
    "thisdir = '/home/idies/workspace/Storage/raddick/Baltimore/community_reinvestment_act/'\n",
    "datadir = thisdir + 'datasets/'\n",
    "census_data_dir = datadir + 'acs5/'\n",
    "figdir = thisdir + 'figures/'\n",
    "\n",
    "for x in [acs5_data_basedir, thisdir, datadir, figdir]:\n",
    "    if not(os.path.exists(x)):\n",
    "        os.makedirs(x)\n",
    "\n",
    "os.chdir(thisdir)\n",
    "os.getcwd()\n",
    "#os.listdir()"
   ]
  },
  {
   "cell_type": "markdown",
   "metadata": {},
   "source": [
    "# Read loan data"
   ]
  },
  {
   "cell_type": "code",
   "execution_count": 15,
   "metadata": {},
   "outputs": [
    {
     "name": "stdout",
     "output_type": "stream",
     "text": [
      "Keeping only 2011-2017 data...\n"
     ]
    },
    {
     "data": {
      "text/html": [
       "<div>\n",
       "<style scoped>\n",
       "    .dataframe tbody tr th:only-of-type {\n",
       "        vertical-align: middle;\n",
       "    }\n",
       "\n",
       "    .dataframe tbody tr th {\n",
       "        vertical-align: top;\n",
       "    }\n",
       "\n",
       "    .dataframe thead th {\n",
       "        text-align: right;\n",
       "    }\n",
       "</style>\n",
       "<table border=\"1\" class=\"dataframe\">\n",
       "  <thead>\n",
       "    <tr style=\"text-align: right;\">\n",
       "      <th></th>\n",
       "      <th>census_tract</th>\n",
       "      <th>activity_year</th>\n",
       "      <th>income_group_code</th>\n",
       "      <th>nLoans1</th>\n",
       "      <th>amtLoans1</th>\n",
       "      <th>nLoans100k</th>\n",
       "      <th>amtLoans100k</th>\n",
       "      <th>nLoans250k</th>\n",
       "      <th>amtLoans250k</th>\n",
       "      <th>nLoansToSmallest</th>\n",
       "      <th>amtLoansToSmallest</th>\n",
       "      <th>nLoansTotal</th>\n",
       "      <th>amtLoansTotal</th>\n",
       "      <th>CSA2010</th>\n",
       "      <th>income_group</th>\n",
       "      <th>cra_level</th>\n",
       "    </tr>\n",
       "  </thead>\n",
       "  <tbody>\n",
       "    <tr>\n",
       "      <th>0</th>\n",
       "      <td>101.0</td>\n",
       "      <td>2017</td>\n",
       "      <td>13</td>\n",
       "      <td>73</td>\n",
       "      <td>1047000</td>\n",
       "      <td>0</td>\n",
       "      <td>0</td>\n",
       "      <td>0</td>\n",
       "      <td>0</td>\n",
       "      <td>43</td>\n",
       "      <td>621000</td>\n",
       "      <td>73</td>\n",
       "      <td>1047000</td>\n",
       "      <td>Canton</td>\n",
       "      <td>&gt; 120% of MFI</td>\n",
       "      <td>upper</td>\n",
       "    </tr>\n",
       "  </tbody>\n",
       "</table>\n",
       "</div>"
      ],
      "text/plain": [
       "   census_tract  activity_year  income_group_code  nLoans1  amtLoans1  \\\n",
       "0  101.0         2017           13                 73       1047000     \n",
       "\n",
       "   nLoans100k  amtLoans100k  nLoans250k  amtLoans250k  nLoansToSmallest  \\\n",
       "0  0           0             0           0             43                 \n",
       "\n",
       "   amtLoansToSmallest  nLoansTotal  amtLoansTotal CSA2010   income_group  \\\n",
       "0  621000              73           1047000        Canton  > 120% of MFI   \n",
       "\n",
       "  cra_level  \n",
       "0  upper     "
      ]
     },
     "execution_count": 15,
     "metadata": {},
     "output_type": "execute_result"
    }
   ],
   "source": [
    "# read aggregate data\n",
    "agg_tracts_df = pandas.read_csv(datadir+'loans_by_census_tract_2010_2017.csv', encoding='utf-8', low_memory=False)\n",
    "#agg_tracts_df = agg_tracts_df[agg_tracts_df['activity_year'] >= 2012]\n",
    "\n",
    "# parse amounts in dollars into numerics\n",
    "for thiscol in ['amtLoans1', 'amtLoans100k', 'amtLoans250k', 'amtLoansToSmallest', 'amtLoansTotal']:\n",
    "    agg_tracts_df.loc[:, thiscol] = pandas.to_numeric(agg_tracts_df[thiscol].apply(lambda x: str(x).replace(',','')[1:]), errors='coerce')\n",
    "\n",
    "# Add community statistical area names\n",
    "tract_to_csa_df = pandas.read_csv('census_tract_to_neighborhood.csv', index_col='NAME10')\n",
    "agg_tracts_df = agg_tracts_df.assign(CSA2010 = agg_tracts_df.join(tract_to_csa_df, how='left', on='census_tract')['CSA2010'])\n",
    "\n",
    "# Get income group names\n",
    "agg_tracts_df = agg_tracts_df.assign(income_group = np.nan)\n",
    "agg_tracts_df.loc[agg_tracts_df['income_group_code'] == 1, 'income_group'] = '< 10% of Median Family Income (MFI)'\n",
    "agg_tracts_df.loc[agg_tracts_df['income_group_code'] == 2, 'income_group'] = '10% to 20% of MFI'\n",
    "agg_tracts_df.loc[agg_tracts_df['income_group_code'] == 3, 'income_group'] = '20% to 30% of MFI'\n",
    "agg_tracts_df.loc[agg_tracts_df['income_group_code'] == 4, 'income_group'] = '30% to 40% of MFI'\n",
    "agg_tracts_df.loc[agg_tracts_df['income_group_code'] == 5, 'income_group'] = '40% to 50% of MFI'\n",
    "agg_tracts_df.loc[agg_tracts_df['income_group_code'] == 6, 'income_group'] = '50% to 60% of MFI'\n",
    "agg_tracts_df.loc[agg_tracts_df['income_group_code'] == 7, 'income_group'] = '60% to 70% of MFI'\n",
    "agg_tracts_df.loc[agg_tracts_df['income_group_code'] == 8, 'income_group'] = '70% to 80% of MFI'\n",
    "agg_tracts_df.loc[agg_tracts_df['income_group_code'] == 9, 'income_group'] = '80% to 90% of MFI'\n",
    "agg_tracts_df.loc[agg_tracts_df['income_group_code'] == 10, 'income_group'] = '90% to 100% of MFI'\n",
    "agg_tracts_df.loc[agg_tracts_df['income_group_code'] == 11, 'income_group'] = '100% to 110% of MFI'\n",
    "agg_tracts_df.loc[agg_tracts_df['income_group_code'] == 12, 'income_group'] = '110% to 120% of MFI'\n",
    "agg_tracts_df.loc[agg_tracts_df['income_group_code'] == 13, 'income_group'] = '> 120% of MFI'\n",
    "\n",
    "# Get levels (low, moderate, middle, upper)\n",
    "agg_tracts_df = agg_tracts_df.assign(cra_level = np.nan)\n",
    "agg_tracts_df.loc[(agg_tracts_df['income_group_code'] >= 1) & (agg_tracts_df['income_group_code'] <= 5), 'cra_level'] = 'low'\n",
    "agg_tracts_df.loc[(agg_tracts_df['income_group_code'] >= 6) & (agg_tracts_df['income_group_code'] <= 8), 'cra_level'] = 'moderate'\n",
    "agg_tracts_df.loc[(agg_tracts_df['income_group_code'] >= 9) & (agg_tracts_df['income_group_code'] <= 12), 'cra_level'] = 'middle'\n",
    "agg_tracts_df.loc[(agg_tracts_df['income_group_code'] == 13), 'cra_level'] = 'upper'\n",
    "agg_tracts_df.loc[(agg_tracts_df['income_group_code'] == 14), 'cra_level'] = 'unknown'\n",
    "\n",
    "#agg_tracts_df = agg_tracts_df.merge(tract_shapes_gdf, how='left', left_on='census_tract', right_on='NAME')\n",
    "\n",
    "#agg_tracts_gdf = geopandas.GeoDataFrame(agg_tracts_df, crs=tract_shapes_gdf.crs, geometry='geometry')\n",
    "\n",
    "#agg_tracts_df.groupby('activity_year').size()\n",
    "#print('Done')\n",
    "\n",
    "print('Keeping only 2011-2017 data...')\n",
    "agg_tracts_df = agg_tracts_df[agg_tracts_df['activity_year'] >= 2011]\n",
    "agg_tracts_df.head(1)\n",
    "\n"
   ]
  },
  {
   "cell_type": "code",
   "execution_count": 16,
   "metadata": {},
   "outputs": [
    {
     "name": "stdout",
     "output_type": "stream",
     "text": [
      "Number of census tracts with loans per year, 2011-2017\n"
     ]
    },
    {
     "data": {
      "text/plain": [
       "activity_year\n",
       "2011    197\n",
       "2012    198\n",
       "2013    197\n",
       "2014    198\n",
       "2015    199\n",
       "2016    200\n",
       "2017    199\n",
       "dtype: int64"
      ]
     },
     "execution_count": 16,
     "metadata": {},
     "output_type": "execute_result"
    }
   ],
   "source": [
    "print(\"Number of census tracts with loans per year, 2011-2017\")\n",
    "agg_tracts_df.groupby('activity_year').size()"
   ]
  },
  {
   "cell_type": "markdown",
   "metadata": {},
   "source": [
    "# Get census data from ACS 5-year estimates"
   ]
  },
  {
   "cell_type": "code",
   "execution_count": 27,
   "metadata": {
    "scrolled": false
   },
   "outputs": [
    {
     "name": "stdout",
     "output_type": "stream",
     "text": [
      "selecting 2016...\n",
      "reading ACS5 data...\n",
      "keeping only Baltimore City census tracts...\n",
      "joining census data...\n",
      "joining shapefiles...\n",
      "Done!\n",
      "selecting 2017...\n",
      "reading ACS5 data...\n",
      "keeping only Baltimore City census tracts...\n",
      "joining census data...\n",
      "joining shapefiles...\n",
      "Done!\n"
     ]
    },
    {
     "data": {
      "text/plain": [
       "<matplotlib.axes._subplots.AxesSubplot at 0x7ff1c6822860>"
      ]
     },
     "execution_count": 27,
     "metadata": {},
     "output_type": "execute_result"
    },
    {
     "data": {
      "image/png": "[encoded data removed]",
      "text/plain": [
       "<Figure size 432x288 with 1 Axes>"
      ]
     },
     "metadata": {
      "needs_background": "light"
     },
     "output_type": "display_data"
    }
   ],
   "source": [
    "for thisyear in [2016, 2017]:\n",
    "    print('selecting {0:.0f}...'.format(thisyear))\n",
    "    #agg_tracts_gdf = agg_tracts_gdf.set_index(['census_tract', 'activity_year'])\n",
    "    xdf = agg_tracts_df[agg_tracts_df['activity_year'] == thisyear]\n",
    "    xdf = xdf.set_index('census_tract')\n",
    "\n",
    "    print('reading ACS5 data...')\n",
    "    metadata_df = pandas.read_csv(census_data_dir+'acs5_metadata_md_2017.csv', encoding='utf-8', index_col='varnum')\n",
    "    metadata_df = metadata_df.sort_index()\n",
    "    #metadata_df.sample(3)\n",
    "    acs5_x_df = pandas.read_csv(census_data_dir+'acs5_md_2017.csv', encoding='utf-8')#, index_col='GEOID')\n",
    "    print('keeping only Baltimore City census tracts...')\n",
    "    acs5_x_df = acs5_x_df[acs5_x_df['GEOID'].apply(lambda x: '14000US24510' in x)]\n",
    "\n",
    "    print('joining census data...')\n",
    "    acs5_x_df = acs5_x_df.assign(census_tract = pandas.to_numeric(acs5_x_df['GEOID'].apply(lambda x: x[12:16]+'.'+x[16:]), errors='coerce'))\n",
    "    xdf = xdf.reset_index().merge(acs5_x_df, how='left', on='census_tract').set_index('census_tract')\n",
    "\n",
    "    # add shapefiles\n",
    "    print('joining shapefiles...')\n",
    "    \n",
    "    \n",
    "    \n",
    "    tract_shapes_gdf = geopandas.read_file(tiger_basedir +'{0:.0f}/TRACT/tl_{0:.0f}_24_tract.shp'.format(thisyear))\n",
    "    tract_shapes_gdf = tract_shapes_gdf[tract_shapes_gdf['COUNTYFP'] == '510']\n",
    "    tract_shapes_gdf.loc[:, 'NAME'] = pandas.to_numeric(tract_shapes_gdf['NAME'], errors='coerce')\n",
    "    tract_shapes_gdf = tract_shapes_gdf.assign(census_tract = pandas.to_numeric(tract_shapes_gdf['GEOID'].apply(lambda x: x[5:9]+'.'+x[9:]), errors='coerce'))\n",
    "    xgdf = geopandas.GeoDataFrame(xdf.reset_index().merge(tract_shapes_gdf, how='left', on='census_tract').set_index('census_tract'), crs=tract_shapes_gdf.crs, geometry='geometry')\n",
    "    print('Done!')\n",
    "xgdf.plot()\n"
   ]
  },
  {
   "cell_type": "markdown",
   "metadata": {},
   "source": [
    "# Add shapefiles for 2016 or 2017"
   ]
  },
  {
   "cell_type": "code",
   "execution_count": 24,
   "metadata": {
    "scrolled": false
   },
   "outputs": [
    {
     "name": "stdout",
     "output_type": "stream",
     "text": [
      "backing up...\n"
     ]
    },
    {
     "data": {
      "text/plain": [
       "<matplotlib.axes._subplots.AxesSubplot at 0x7ff1f0100320>"
      ]
     },
     "execution_count": 24,
     "metadata": {},
     "output_type": "execute_result"
    },
    {
     "data": {
      "image/png": "[encoded data removed]",
      "text/plain": [
       "<Figure size 432x288 with 1 Axes>"
      ]
     },
     "metadata": {
      "needs_background": "light"
     },
     "output_type": "display_data"
    }
   ],
   "source": [
    "\n",
    "#tract_shapes_gdf = tract_shapes_gdf.set_index('tractnum')\n",
    "\n",
    "#agg_tracts_gdf[agg_tracts_gdf.index.get_level_values('activity_year') == 2016].plot(column='nLoans1')\n",
    "#plt.show()\n",
    "#agg_tracts_gdf['census_tract'][(agg_tracts_gdf['activity_year'] == 2016)].drop_duplicates()#[:40] #& (agg_tracts_gdf['census_tract'].apply(lambda x: int(str(x)[0]) > 2))]\n",
    "#--101.00, 201.00 801.01, 801.02, 1001.00, 1308.03, 2001.00, 2101.00, 2501.01, 2606.01, 2701.01, 2801.01\n",
    "\n",
    "#print('backing up...')\n",
    "#agg_tracts_2015_gdf_bk = agg_tracts_2015_gdf\n",
    "\n",
    "#print('Done')\n",
    "#agg_tracts_2015_gdf.geometry\n",
    "#agg_tracts_2017_df#.merge(tract_shapes_gdf, how='left', on='tractnum')\n",
    "#agg_tracts_2017_df.join(tract_shapes_gdf)\n",
    "\n",
    "\n",
    "print('backing up...')\n",
    "\n",
    "agg_tracts_2017_gdf.plot()\n",
    "\n",
    "#tract_shapes_gdf.geometry\n",
    "\n"
   ]
  },
  {
   "cell_type": "markdown",
   "metadata": {},
   "source": [
    "## Add working loans column (ask Mac)"
   ]
  },
  {
   "cell_type": "code",
   "execution_count": null,
   "metadata": {},
   "outputs": [],
   "source": [
    "print('getting from backup...')\n",
    "agg_tracts_2017_df = agg_tracts_2015_gdf_bk\n",
    "\n",
    "\n",
    "agg_tracts_2015_gdf = agg_tracts_2015_gdf.assign(avgSmallLoan = (agg_tracts_2015_gdf['amtLoans1'] / agg_tracts_2015_gdf['nLoans1']))\n",
    "\n",
    "agg_tracts_2015_gdf = agg_tracts_2015_gdf.assign(nWorkingLoans = agg_tracts_2015_gdf['nLoansTotal'][agg_tracts_2015_gdf['avgSmallLoan'] < 10000] - agg_tracts_2015_gdf['nLoans1'][agg_tracts_2015_gdf['avgSmallLoan'] < 10000])\n",
    "agg_tracts_2015_gdf = agg_tracts_2015_gdf.assign(amtWorkingLoans = agg_tracts_2015_gdf['amtLoansTotal'][agg_tracts_2015_gdf['avgSmallLoan'] < 10000] - agg_tracts_2015_gdf['amtLoans1'][agg_tracts_2015_gdf['avgSmallLoan'] < 10000])\n",
    "\n",
    "#agg_tracts_2015_gdf['amtWorkingLoans']\n",
    "        \n",
    "\n",
    "\n",
    "agg_tracts_2015_gdf.loc[agg_tracts_2015_gdf['avgSmallLoan'] >= 10000, 'nWorkingLoans'] = agg_tracts_2015_gdf['nLoansTotal'][agg_tracts_2015_gdf['avgSmallLoan'] >= 10000]\n",
    "agg_tracts_2015_gdf.loc[agg_tracts_2015_gdf['avgSmallLoan'] >= 10000, 'amtWorkingLoans'] = agg_tracts_2015_gdf['amtLoansTotal'][agg_tracts_2015_gdf['avgSmallLoan'] >= 10000]\n",
    "\n",
    "\n",
    "print('backing up...')\n",
    "agg_tracts_2015_gdf_bk = agg_tracts_2015_gdf\n",
    "\n",
    "print('Done')\n"
   ]
  },
  {
   "cell_type": "markdown",
   "metadata": {},
   "source": [
    "# Figure out which tracts will require special casing below"
   ]
  },
  {
   "cell_type": "code",
   "execution_count": null,
   "metadata": {},
   "outputs": [],
   "source": [
    "fig, ax = plt.subplots(figsize=(12,8))\n",
    "ax.set_aspect('equal')\n",
    "agg_tracts_2015_gdf[\n",
    "    (agg_tracts_2015_gdf.index <= 1201)    # Part a\n",
    "    #((agg_tracts_2015_gdf.index == 1202.01) | (agg_tracts_2015_gdf.index == 1202.02))   # Part b\n",
    "    #(agg_tracts_2015_gdf.index >= 1203) & (agg_tracts_2015_gdf.index < 1308)   # Part c\n",
    "    #(agg_tracts_2015_gdf.index >= 1308) & (agg_tracts_2015_gdf.index < 1400)   # Part d\n",
    "    #(agg_tracts_2015_gdf.index >= 1400) & (agg_tracts_2015_gdf.index < 1507)   # Part e\n",
    "    #(agg_tracts_2015_gdf.index >= 1507) & (agg_tracts_2015_gdf.index < 1508)   # Part f\n",
    "    #(agg_tracts_2015_gdf.index >= 1508) & (agg_tracts_2015_gdf.index < 1608)   # Part g\n",
    "    #(agg_tracts_2015_gdf.index >= 1608) & (agg_tracts_2015_gdf.index < 1700)   # Part h\n",
    "    #(agg_tracts_2015_gdf.index >= 1700) & (agg_tracts_2015_gdf.index < 2007)   # Part i\n",
    "    #(agg_tracts_2015_gdf.index >= 2007) & (agg_tracts_2015_gdf.index < 2008)   # Part j\n",
    "    #(agg_tracts_2015_gdf.index >= 2008) & (agg_tracts_2015_gdf.index < 2500)   # Part k\n",
    "    #(agg_tracts_2015_gdf.index >= 2806) & (agg_tracts_2015_gdf.index < 2810)   # Part l\n",
    "].plot(ax=ax, color='white', edgecolor='black')\n",
    "\n",
    "for ix, thisrow in agg_tracts_2015_gdf[\n",
    "    (agg_tracts_2015_gdf.index <= 1201)    # Part a\n",
    "    #((agg_tracts_2015_gdf.index == 1202.01) | (agg_tracts_2015_gdf.index == 1202.02))   # Part b\n",
    "    #(agg_tracts_2015_gdf.index >= 1203) & (agg_tracts_2015_gdf.index < 1308)   # Part c\n",
    "    #(agg_tracts_2015_gdf.index >= 1308) & (agg_tracts_2015_gdf.index < 1400)    # Part d\n",
    "    #(agg_tracts_2015_gdf.index >= 1400) & (agg_tracts_2015_gdf.index < 1507)   # Part e\n",
    "    #(agg_tracts_2015_gdf.index >= 1507) & (agg_tracts_2015_gdf.index < 1508)   # Part f\n",
    "    #(agg_tracts_2015_gdf.index >= 1508) & (agg_tracts_2015_gdf.index < 1608)   # Part g\n",
    "    #(agg_tracts_2015_gdf.index >= 1608) & (agg_tracts_2015_gdf.index < 1700)   # Part h\n",
    "    #(agg_tracts_2015_gdf.index >= 1700) & (agg_tracts_2015_gdf.index < 2007)   # Part i\n",
    "    #(agg_tracts_2015_gdf.index >= 2007) & (agg_tracts_2015_gdf.index < 2008)   # Part j\n",
    "    #(agg_tracts_2015_gdf.index >= 2008) & (agg_tracts_2015_gdf.index < 2500)   # Part k\n",
    "    #(agg_tracts_2015_gdf.index >= 2806) & (agg_tracts_2015_gdf.index < 2810)   # Part l\n",
    "].iterrows():\n",
    "    annotator = str(ix)\n",
    "    annotator = annotator.replace('/','/\\n')\n",
    "    ax.annotate(annotator, \n",
    "                xy=(thisrow.geometry.centroid.x, thisrow.geometry.centroid.y), \n",
    "                xytext=(thisrow.geometry.centroid.x, thisrow.geometry.centroid.y), \n",
    "                ha='center', va='center', backgroundcolor='white', fontsize=9)\n",
    "plt.show()\n",
    "#agg_tracts_2015_gdf.index.values"
   ]
  },
  {
   "cell_type": "markdown",
   "metadata": {},
   "source": [
    "# Add number of jobs per census tract"
   ]
  },
  {
   "cell_type": "markdown",
   "metadata": {},
   "source": [
    "## Find number of jobs per census tract\n",
    "\n",
    "Takes a lot of finagling."
   ]
  },
  {
   "cell_type": "code",
   "execution_count": null,
   "metadata": {},
   "outputs": [],
   "source": [
    "print('getting from backup...')\n",
    "agg_tracts_2015_gdf = agg_tracts_2015_gdf_bk\n",
    "\n",
    "print('reading job data...')\n",
    "#agg_tracts_2016_acs5_2017.to\n",
    "raw_jobs_df = pandas.read_csv(datadir+'md_wac_S000_JT02_2010_to_2015.csv')\n",
    "raw_jobs_df.columns = [x.strip() for x in raw_jobs_df.columns.tolist()]\n",
    "\n",
    "# GeoID format is STATE+COUNTY+TRACT+BLOCK (2+3+6+4 = 15 characters)\n",
    "raw_jobs_df = raw_jobs_df.assign(\n",
    "    census_tract = pandas.to_numeric(\n",
    "            (\n",
    "            raw_jobs_df['Workplace Census Block Code'].apply(lambda x: str(x)[5:9]) + '.' + \n",
    "            raw_jobs_df['Workplace Census Block Code'].apply(lambda x: str(x)[10:12])\n",
    "            ).astype('str')\n",
    "            , errors='coerce'\n",
    "        )\n",
    ")\n",
    "#sum_columns = [x in \n",
    "sum_columns = [x for x in raw_jobs_df.columns.tolist() if x not in ('Workplace Census Block Code', 'Year')]\n",
    "\n",
    "jobs_2015_df = raw_jobs_df[sum_columns][raw_jobs_df['Year'] == 2015].groupby('census_tract', as_index=False).sum()\n",
    "\n",
    "special_cases = [801, 803, 1202, 1308, 1507, 1608, 2007, 2501, 2502, 2503, 2504, 2601]\n",
    "special_cases += [2602, 2603, 2604, 2605, 2606, 2701, 2703, 2704, 2705, 2707, 2708]\n",
    "special_cases += [2709, 2710, 2711, 2715, 2718, 2720, 2801, 2803, 2804]\n",
    "\n",
    "jobs_2015_df = jobs_2015_df.assign(census_tract_big = np.nan)\n",
    "\n",
    "for x in special_cases:\n",
    "    jobs_2015_df.loc[\n",
    "        (jobs_2015_df['census_tract'] >= x) & (jobs_2015_df['census_tract'] < x+1)\n",
    "        , 'census_tract_big'] = pandas.to_numeric(\n",
    "        jobs_2015_df['census_tract'][\n",
    "        (jobs_2015_df['census_tract'] >= x) & (jobs_2015_df['census_tract'] < x+1)\n",
    "    ].apply(lambda x: str(x)[0:str(x).find('.')]+'.0'+str(x)[str(x).find('.')+1:-1])\n",
    "        , errors='coerce')\n",
    "    \n",
    "special_case_tract_list = jobs_2015_df['census_tract_big'].dropna().drop_duplicates().tolist()\n",
    "\n",
    "sum_columns = [x for x in sum_columns if x != 'census_tract']\n",
    "\n",
    "joiner_2015_special_case_df = jobs_2015_df[jobs_2015_df['census_tract_big'].isin(special_case_tract_list)].groupby('census_tract_big')[sum_columns].sum()\n",
    "\n",
    "\n",
    "\n",
    "jobs_2015_df.loc[jobs_2015_df['census_tract_big'].isnull(), 'census_tract_big'] = pandas.to_numeric(jobs_2015_df['census_tract'][jobs_2015_df['census_tract_big'].isnull()].apply(lambda x: np.floor(x)), errors='coerce')\n",
    "\n",
    "joiner_2015_df = jobs_2015_df[~jobs_2015_df['census_tract_big'].isin(special_case_tract_list)].groupby('census_tract_big')[sum_columns].sum()\n",
    "\n",
    "joiner_2015_df = pandas.concat((joiner_2015_df, joiner_2015_special_case_df), axis=0)\n",
    "joiner_2015_df = joiner_2015_df.sort_index()\n",
    "\n",
    "\n",
    "agg_tracts_2015_gdf = agg_tracts_2015_gdf.join(joiner_2015_df, how='left')\n",
    "\n",
    "print('backing up...')\n",
    "agg_tracts_2015_gdf_bk = agg_tracts_2015_gdf\n",
    "\n",
    "print('ok')"
   ]
  },
  {
   "cell_type": "markdown",
   "metadata": {},
   "source": [
    "## Calculate number of loans per job in each census tract"
   ]
  },
  {
   "cell_type": "code",
   "execution_count": null,
   "metadata": {},
   "outputs": [],
   "source": [
    "print('getting from backup...')\n",
    "agg_tracts_2015_gdf = agg_tracts_2015_gdf_bk\n",
    "\n",
    "#'Total number of jobs'\n",
    "\n",
    "loan_columns = ['nLoans1', 'amtLoans1', 'nLoans100k', 'amtLoans100k']\n",
    "loan_columns += ['nLoans250k', 'amtLoans250k', 'nLoansToSmallest', 'amtLoansToSmallest']\n",
    "loan_columns += ['nLoansTotal', 'amtLoansTotal']\n",
    "\n",
    "agg_tracts_2015_gdf = agg_tracts_2015_gdf.assign(\n",
    "    nLoans1_per_job = agg_tracts_2015_gdf['nLoans1'] / agg_tracts_2015_gdf['Total number of jobs']\n",
    ")\n",
    "agg_tracts_2015_gdf = agg_tracts_2015_gdf.assign(\n",
    "    amtLoans1_per_job = agg_tracts_2015_gdf['amtLoans1'] / agg_tracts_2015_gdf['Total number of jobs']\n",
    ")\n",
    "agg_tracts_2015_gdf = agg_tracts_2015_gdf.assign(\n",
    "    nLoans100k_per_job = agg_tracts_2015_gdf['nLoans100k'] / agg_tracts_2015_gdf['Total number of jobs']\n",
    ")\n",
    "agg_tracts_2015_gdf = agg_tracts_2015_gdf.assign(\n",
    "    amtLoans100k_per_job = agg_tracts_2015_gdf['amtLoans100k'] / agg_tracts_2015_gdf['Total number of jobs']\n",
    ")\n",
    "agg_tracts_2015_gdf = agg_tracts_2015_gdf.assign(\n",
    "    nLoans250k_per_job = agg_tracts_2015_gdf['nLoans250k'] / agg_tracts_2015_gdf['Total number of jobs']\n",
    ")\n",
    "agg_tracts_2015_gdf = agg_tracts_2015_gdf.assign(\n",
    "    amtLoans250k_per_job = agg_tracts_2015_gdf['amtLoans250k'] / agg_tracts_2015_gdf['Total number of jobs']\n",
    ")\n",
    "agg_tracts_2015_gdf = agg_tracts_2015_gdf.assign(\n",
    "    nLoansToSmallest_per_job = agg_tracts_2015_gdf['nLoansToSmallest'] / agg_tracts_2015_gdf['Total number of jobs']\n",
    ")\n",
    "agg_tracts_2015_gdf = agg_tracts_2015_gdf.assign(\n",
    "    amtLoansToSmallest_per_job = agg_tracts_2015_gdf['amtLoansToSmallest'] / agg_tracts_2015_gdf['Total number of jobs']\n",
    ")\n",
    "agg_tracts_2015_gdf = agg_tracts_2015_gdf.assign(\n",
    "    nLoansTotal_per_job = agg_tracts_2015_gdf['nLoansTotal'] / agg_tracts_2015_gdf['Total number of jobs']\n",
    ")\n",
    "agg_tracts_2015_gdf = agg_tracts_2015_gdf.assign(\n",
    "    amtLoansTotal_per_job = agg_tracts_2015_gdf['amtLoansTotal'] / agg_tracts_2015_gdf['Total number of jobs']\n",
    ")\n",
    "\n",
    "agg_tracts_2015_gdf = agg_tracts_2015_gdf.assign(\n",
    "    nLoansTotal_per_job = agg_tracts_2015_gdf['nWorkingLoans'] / agg_tracts_2015_gdf['Total number of jobs']\n",
    ")\n",
    "agg_tracts_2015_gdf = agg_tracts_2015_gdf.assign(\n",
    "    amtLoansTotal_per_job = agg_tracts_2015_gdf['amtWorkingLoans'] / agg_tracts_2015_gdf['Total number of jobs']\n",
    ")\n",
    "\n",
    "print('backing up...')\n",
    "agg_tracts_2015_gdf_bk = agg_tracts_2015_gdf\n",
    "\n",
    "print('Done')\n",
    "\n",
    "\n",
    "#agg_tracts_2015_gdf\n",
    "#agg_tracts_2015_gdf[loan_columns].columns.tolist()\n",
    "    \n",
    "\n",
    "#df\n",
    "#agg_tracts_2015_gdf.columns"
   ]
  },
  {
   "cell_type": "code",
   "execution_count": null,
   "metadata": {
    "scrolled": true
   },
   "outputs": [],
   "source": [
    "print('getting from backup...')\n",
    "agg_tracts_2015_gdf = agg_tracts_2015_gdf_bk\n",
    "\n",
    "agg_tracts_2015_gdf = agg_tracts_2015_gdf.assign(\n",
    "    nWorkingLoans_per_job = agg_tracts_2015_gdf['nWorkingLoans'] / \n",
    "    agg_tracts_2015_gdf['Total number of jobs'])\n",
    "\n",
    "agg_tracts_2015_gdf = agg_tracts_2015_gdf.assign(\n",
    "    amtWorkingLoans_per_job = agg_tracts_2015_gdf['amtWorkingLoans'] / \n",
    "    agg_tracts_2015_gdf['Total number of jobs'])\n",
    "\n",
    "\n",
    "agg_tracts_2015_gdf = agg_tracts_2015_gdf.assign(\n",
    "    nWorkingLoans_per_white_job = agg_tracts_2015_gdf['nWorkingLoans'] / \n",
    "    agg_tracts_2015_gdf['Number of jobs for workers with Race: White, Alone'])\n",
    "agg_tracts_2015_gdf = agg_tracts_2015_gdf.assign(\n",
    "    amtWorkingLoans_per_white_job = agg_tracts_2015_gdf['amtWorkingLoans'] / \n",
    "    agg_tracts_2015_gdf['Number of jobs for workers with Race: White, Alone'])\n",
    "\n",
    "agg_tracts_2015_gdf = agg_tracts_2015_gdf.assign(\n",
    "    nWorkingLoans_per_black_job = agg_tracts_2015_gdf['nWorkingLoans'] / \n",
    "    agg_tracts_2015_gdf['Number of jobs for workers with Race: Black or African American Alone'])\n",
    "agg_tracts_2015_gdf = agg_tracts_2015_gdf.assign(\n",
    "    amtWorkingLoans_per_black_job = agg_tracts_2015_gdf['amtWorkingLoans'] / \n",
    "    agg_tracts_2015_gdf['Number of jobs for workers with Race: Black or African American Alone'])\n",
    "\n",
    "print('backing up...')\n",
    "agg_tracts_2015_gdf_bk = agg_tracts_2015_gdf\n",
    "\n",
    "#print('Done')\n",
    "#agg_tracts_2015_gdf.columns\n",
    "print('Done')"
   ]
  },
  {
   "cell_type": "markdown",
   "metadata": {},
   "source": [
    "# Add ACS 5-year estimates from 2017"
   ]
  },
  {
   "cell_type": "code",
   "execution_count": null,
   "metadata": {},
   "outputs": [],
   "source": [
    "print('getting from backup...')\n",
    "agg_tracts_2015_gdf = agg_tracts_2015_gdf_bk\n",
    "\n",
    "print('getting ACS 5-year estimates for 2012-2017...')\n",
    "acs5_2017_df = pandas.read_csv(datadir+'acs5/cra_iv_estimates.csv', low_memory=False, index_col='tract')\n",
    "acs5_2017_df.index.name = 'census_tract'\n",
    "\n",
    "print('Getting these columns...')\n",
    "acs5_2017_df.columns.tolist()\n",
    "\n",
    "for x in acs5_2017_df.columns.tolist():\n",
    "    acs5_2017_df.loc[:, x] = pandas.to_numeric(acs5_2017_df[x], errors='coerce')\n",
    "\n",
    "acs5_2017_df"
   ]
  },
  {
   "cell_type": "code",
   "execution_count": null,
   "metadata": {
    "scrolled": false
   },
   "outputs": [],
   "source": [
    "\n",
    "agg_tracts_2015_gdf = agg_tracts_2015_gdf.join(acs5_2017_df, how='left')\n",
    "\n",
    "print('backing up...')\n",
    "agg_tracts_2015_gdf_bk = agg_tracts_2015_gdf\n",
    "\n",
    "print('Done!')"
   ]
  },
  {
   "cell_type": "code",
   "execution_count": null,
   "metadata": {},
   "outputs": [],
   "source": [
    "print('getting from backup...')\n",
    "agg_tracts_2015_gdf = agg_tracts_2015_gdf_bk\n",
    "print('\\n')\n",
    "print('writing outfiles...')\n",
    "neworder = [x for x in agg_tracts_2015_gdf.columns.tolist() if x != 'geometry']\n",
    "\n",
    "\n",
    "agg_tracts_2015_gdf[neworder].to_csv(datadir+'cra_data_final_for_mac_2015.csv', encoding='utf-8')\n",
    "agg_tracts_2015_gdf.to_file('cra_data_final_for_mac_2015.shp')\n",
    "\n",
    "neworder.append('geometry')\n",
    "agg_tracts_2015_gdf[neworder].reset_index().to_file(datadir+'cra_data_final_for_mac_2015.shp')  # need to do a reset_index() so index gets written too\n",
    "\n",
    "with open(datadir+'column_names.csv', 'w') as f:\n",
    "    for x in agg_tracts_2015_gdf[neworder].reset_index().columns.tolist():  # need to do a reset_index() so index gets written too\n",
    "        if (x.find(\",\") > -1):\n",
    "            x = x.replace(\",\",\"\\,'\")\n",
    "        f.write(x)\n",
    "        if (x not in agg_tracts_2015_gdf[neworder].reset_index().columns.tolist()[-1:]):\n",
    "            f.write(', ')\n",
    "print('Done!')\n"
   ]
  },
  {
   "cell_type": "code",
   "execution_count": null,
   "metadata": {},
   "outputs": [],
   "source": [
    "\n",
    "# Unit of analysis: census tract\n",
    "# DV: nLoans1, amtLoans1, etc. Also: (overall minus \"credit card loans\")\n",
    "#### where credit card loans\" are <$100k to businesses with <$10k budget\n",
    "# IV: [population by race; owner-occupied units; MFI; hs grad pct; \n",
    "### female hoh pct; unemployment pct; poverty pct; median home value;\n",
    "### median home year built"
   ]
  },
  {
   "cell_type": "code",
   "execution_count": null,
   "metadata": {},
   "outputs": [],
   "source": []
  }
 ],
 "metadata": {
  "kernelspec": {
   "display_name": "Python 3",
   "language": "python",
   "name": "python3"
  },
  "language_info": {
   "codemirror_mode": {
    "name": "ipython",
    "version": 3
   },
   "file_extension": ".py",
   "mimetype": "text/x-python",
   "name": "python",
   "nbconvert_exporter": "python",
   "pygments_lexer": "ipython3",
   "version": "3.6.6"
  }
 },
 "nbformat": 4,
 "nbformat_minor": 2
}
