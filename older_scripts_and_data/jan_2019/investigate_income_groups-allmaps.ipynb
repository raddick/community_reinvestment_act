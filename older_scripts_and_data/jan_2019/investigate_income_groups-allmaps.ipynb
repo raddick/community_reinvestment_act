{
 "cells": [
  {
   "cell_type": "code",
   "execution_count": 1,
   "metadata": {},
   "outputs": [
    {
     "name": "stdout",
     "output_type": "stream",
     "text": [
      "/home/idies/workspace/Temporary/raddick/cra_scratch\n",
      "/home/idies/workspace/Storage/raddick/Baltimore/community_reinvestment_act/\n",
      "/home/idies/workspace/Storage/raddick/Baltimore/shapefiles/\n",
      "DONE\n"
     ]
    }
   ],
   "source": [
    "import os\n",
    "import pandas\n",
    "import numpy as np\n",
    "from matplotlib import pyplot as plt\n",
    "from matplotlib import ticker\n",
    "from IPython.display import display, HTML\n",
    "import geopandas as gpd\n",
    "import time\n",
    "import io\n",
    "from pprint import pprint\n",
    "os.chdir('/home/idies/workspace/Temporary/raddick/cra_scratch/')\n",
    "print(os.getcwd())\n",
    "outdir = '/home/idies/workspace/Storage/raddick/Baltimore/community_reinvestment_act/'\n",
    "print(outdir)\n",
    "shapefiledir = '/home/idies/workspace/Storage/raddick/Baltimore/shapefiles/'\n",
    "print(shapefiledir)\n",
    "print('DONE')"
   ]
  },
  {
   "cell_type": "markdown",
   "metadata": {},
   "source": [
    "## Load shapefiles"
   ]
  },
  {
   "cell_type": "code",
   "execution_count": 2,
   "metadata": {},
   "outputs": [
    {
     "name": "stdout",
     "output_type": "stream",
     "text": [
      "reading shapefile...\n",
      "Read 200 Maryland census tracts in 0.140 seconds.\n",
      "Calculating percent white...\n",
      "\n",
      "reading city boundary...\n",
      "\n",
      "reading water features...\n",
      "\n",
      "reading street centerlines...\n",
      "Read 48,160 streets in 11.558 seconds.\n",
      "Cutting off streets at city boundary...\n"
     ]
    },
    {
     "name": "stderr",
     "output_type": "stream",
     "text": [
      "/home/idies/miniconda3/lib/python3.6/site-packages/geopandas/tools/sjoin.py:44: UserWarning: CRS of frames being joined does not match!\n",
      "  warn('CRS of frames being joined does not match!')\n"
     ]
    },
    {
     "name": "stdout",
     "output_type": "stream",
     "text": [
      "Remaining: 47,642 streets after 16 seconds of processing.\n",
      "DONE\n"
     ]
    }
   ],
   "source": [
    "s = time.time()\n",
    "print('reading shapefile...')\n",
    "\n",
    "tract_shapes_gdf = gpd.read_file(shapefiledir+'census_tracts_2010/geo_export_c50bbe56-543e-4878-9c9f-c56be327600a.shp', encoding='utf-8')\n",
    "tract_shapes_gdf = tract_shapes_gdf.assign(tractname = pandas.to_numeric(tract_shapes_gdf['name'].apply(lambda x: x.split(' ')[-1]), errors='coerce'))\n",
    "tract_shapes_gdf = tract_shapes_gdf.set_index('tractname')\n",
    "e = time.time()\n",
    "print('Read {0:,.0f} Maryland census tracts in {1:.3f} seconds.'.format(len(tract_shapes_gdf), e-s))\n",
    "\n",
    "print('Calculating percent white...')\n",
    "tract_shapes_gdf = tract_shapes_gdf.assign(percent_white = tract_shapes_gdf['white'] / tract_shapes_gdf['population'])\n",
    "\n",
    "print('\\nreading city boundary...')\n",
    "boundary_gdf = gpd.read_file(shapefiledir+'baltimore_city_polygon/baltimore_city_polygon.shp')\n",
    "\n",
    "print('\\nreading water features...')\n",
    "water_gdf = gpd.read_file(shapefiledir+'water/water.shp', encoding='utf-8')\n",
    "water_gdf = water_gdf.set_index('OBJECTID')\n",
    "\n",
    "s = time.time()\n",
    "print('\\nreading street centerlines...')\n",
    "streets_gdf = gpd.read_file(shapefiledir+'streets/streetcl.shp', encoding='utf-8')\n",
    "e = time.time()\n",
    "print('Read {0:,.0f} streets in {1:.3f} seconds.'.format(len(streets_gdf), e-s))\n",
    "\n",
    "s = time.time()\n",
    "streets_gdf = streets_gdf.drop('OBJECTID_1', axis=1)\n",
    "streets_gdf = streets_gdf.set_index('OBJECTID')\n",
    "print('Cutting off streets at city boundary...')\n",
    "s = time.time()\n",
    "streets_gdf = gpd.sjoin(streets_gdf, boundary_gdf, op='within')\n",
    "e = time.time()\n",
    "print('Remaining: {0:,.0f} streets after {1:,.0f} seconds of processing.'.format(len(streets_gdf), e-s))\n",
    "#streets_gdf = gpd.overlay(streets_gdf, boundary_gdf, how='intersection')\n",
    "\n",
    "#print('\\nSetting CRSes...')\n",
    "#for x in (boundary_gdf, water_gdf, streets_gdf):\n",
    "#    x.crs = tract_shapes_gdf.crs\n",
    "\n",
    "print('DONE')\n"
   ]
  },
  {
   "cell_type": "markdown",
   "metadata": {},
   "source": [
    "# Lending by geography of borrowers"
   ]
  },
  {
   "cell_type": "markdown",
   "metadata": {},
   "source": [
    "## Load all data"
   ]
  },
  {
   "cell_type": "code",
   "execution_count": null,
   "metadata": {},
   "outputs": [],
   "source": [
    "s = time.time()\n",
    "baltimore_tracts_df = pandas.read_csv('tracts_processed.csv', encoding='utf-8', index_col='rownumber')\n",
    "print('{0:,.0f} tract datas nationwide.'.format(len(baltimore_tracts_df)))\n",
    "print('backing up...')\n",
    "baltimore_tracts_df_bk = baltimore_tracts_df\n",
    "e = time.time()\n",
    "print('DONE in {0:,.0f} seconds.'.format(e-s))"
   ]
  },
  {
   "cell_type": "markdown",
   "metadata": {},
   "source": [
    "## Select Baltimore City, convert income tract data to low/moderate/medium/high"
   ]
  },
  {
   "cell_type": "code",
   "execution_count": null,
   "metadata": {},
   "outputs": [],
   "source": [
    "print('retrieving from backup...')\n",
    "baltimore_tracts_df = baltimore_tracts_df_bk\n",
    "\n",
    "baltimore_tracts_df = baltimore_tracts_df[(baltimore_tracts_df['state'] == 24) & (baltimore_tracts_df['county'] == 510)]\n",
    "print('{0:,.0f} tract datas in Baltimore.'.format(len(baltimore_tracts_df)))\n",
    "\n",
    "baltimore_tracts_df = baltimore_tracts_df[baltimore_tracts_df['loan_indicator'] == 'Y']\n",
    "print('{0:,.0f} of them had loans.'.format(len(baltimore_tracts_df)))\n",
    "\n",
    "print('Converting full level system to low/moderate/medium/upper...')\n",
    "baltimore_tracts_df = baltimore_tracts_df.assign(cra_level = '')\n",
    "baltimore_tracts_df.loc[(baltimore_tracts_df['income_group_total'].apply(lambda x: (x >= 1) & (x <=5))), 'cra_level'] = 'low'\n",
    "baltimore_tracts_df.loc[(baltimore_tracts_df['income_group_total'].apply(lambda x: (x >= 6) & (x <=8))), 'cra_level'] = 'moderate'\n",
    "baltimore_tracts_df.loc[(baltimore_tracts_df['income_group_total'].apply(lambda x: (x >= 9) & (x <=12))), 'cra_level'] = 'middle'\n",
    "baltimore_tracts_df.loc[(baltimore_tracts_df['income_group_total'].apply(lambda x: (x == 13))), 'cra_level'] = 'upper'\n",
    "baltimore_tracts_df.loc[(baltimore_tracts_df['income_group_total'].apply(lambda x: (x >= 14) & (x <=15))), 'cra_level'] = 'unknown'\n",
    "\n",
    "print('backing up...')\n",
    "baltimore_tracts_df_bk = baltimore_tracts_df\n",
    "print('DONE')\n"
   ]
  },
  {
   "cell_type": "markdown",
   "metadata": {},
   "source": [
    "# Aggregate all loans within census tracts"
   ]
  },
  {
   "cell_type": "code",
   "execution_count": null,
   "metadata": {},
   "outputs": [],
   "source": [
    "print('retrieving from backup...')\n",
    "baltimore_tracts_df = baltimore_tracts_df_bk\n",
    "\n",
    "print('grouping...')\n",
    "\n",
    "tractdata = baltimore_tracts_df[baltimore_tracts_df['loan_indicator'] == 'Y'].groupby(['census_tract', 'activity_year', 'institution_name']).size()\n",
    "\n",
    "tractdata = tractdata.sort_index()\n",
    "# Run this to get every index value to display in every row:\n",
    "#pandas.set_option('display.multi_sparse', False)\n",
    "\n",
    "# GET ALL ROWS THAT MATCH A GIVEN CRITERION FROM A GIVEN LEVEL\n",
    "#tractdata.xs(101.00, level=0) #Access all loans given in census tract 101\n",
    "#tractdata.xs('low', level=1) # Access all loans given to low income group \n",
    "#tractdata.xs(2016, level=2) # Access all loans given in 2016\n",
    "#tractdata.xs('WELLS FARGO BANK, N.A. (CA)', level=3) # Access all loans given by Wells Fargo\n",
    "\n",
    "# FIND NUMBER OF LOANS FOR EACH VALUE AT EACH LEVEL\n",
    "\n",
    "#tractdata.groupby([pandas.Grouper(level='census_tract')]).sum() # Number of loans given in each census tract\n",
    "#tractdata.groupby([pandas.Grouper(level='cra_level')]).sum() # Number of loans given at each CRA income level\n",
    "#tractdata.groupby([pandas.Grouper(level='activity_year')]).sum() # Number of loans given per year\n",
    "#tractdata.groupby([pandas.Grouper(level='institution_name')]).sum() # Number of loans given per institution\n",
    "\n",
    "\n",
    "# ITERATE THROUGH VALUES OF AN INDEX LEVEL AND SEE THE GROUPS FORMED BY THOSE VALUES\n",
    "#grouped_by_census_tract = tractdata.groupby('census_tract')\n",
    "#for name, group in grouped_by_census_tract:\n",
    "#    print(name)\n",
    "#    print(group)\n",
    "#    print('\\n')\n",
    "\n",
    "# ACCESS A GROUP ASSOCIATED WITH A SPECIFIC VALUE ONE ONE LEVEL...\n",
    "#grouped_by_census_tract = tractdata.groupby('census_tract')\n",
    "#grouped_by_census_tract.get_group(101.00)\n",
    "# OR ON MULTIPLE LEVELS...\n",
    "#tractdata.groupby(['census_tract', 'institution_name']).get_group((101, '1ST MARINER BANK (MD)')) # note get_group takes a tuple\n",
    "\n",
    "print('backing up...')\n",
    "tractdata_bk = tractdata\n",
    "\n",
    "print('OK')\n",
    "#tractdata"
   ]
  },
  {
   "cell_type": "markdown",
   "metadata": {},
   "source": [
    "# Connect census tract aggregates with shapefiles"
   ]
  },
  {
   "cell_type": "code",
   "execution_count": null,
   "metadata": {},
   "outputs": [],
   "source": [
    "print('getting tract loan data from backup...')\n",
    "tractdata = tractdata_bk\n",
    "\n",
    "#tractdata\n",
    "print('Grouping by tract only...')\n",
    "grouped_by_census_tract = tractdata.groupby('census_tract').sum()\n",
    "\n",
    "print('\\nAdding loan data to shape data...')\n",
    "tract_shapes_gdf = tract_shapes_gdf.assign(nLoans=grouped_by_census_tract)\n",
    "\n",
    "#print('\\nCalculating loans per 10,000 pepole...')\n",
    "#tract_shapes_gdf = tract_shapes_gdf.assign(nLoansPer10k = (10000 * tract_shapes_gdf['nLoans']) / tract_shapes_gdf['population'])\n",
    "\n",
    "print('matching up CSAs...')\n",
    "tract_shapes_gdf = tract_shapes_gdf.to_crs(water_gdf.crs)\n",
    "\n",
    "print('\\nbacking up...')\n",
    "tract_shapes_gdf_bk = tract_shapes_gdf\n",
    "\n",
    "print('ok')"
   ]
  },
  {
   "cell_type": "markdown",
   "metadata": {},
   "source": [
    "# For each tract, look up median family income (MFI) from ACS 2011-2016"
   ]
  },
  {
   "cell_type": "code",
   "execution_count": null,
   "metadata": {},
   "outputs": [],
   "source": [
    "print('retrieving from backup...')\n",
    "tract_shapes_gdf = tract_shapes_gdf_bk\n",
    "\n",
    "print('reading MFI data...')\n",
    "df = pandas.read_csv(outdir+'mfi_and_business_data/ACS_16_5YR_B19113_with_ann.csv', header=1)\n",
    "df = df.assign(census_tract = pandas.to_numeric(df['Geography'].apply(lambda x: x.split(',')[0][12:])))\n",
    "#outdir = '/home/idies/workspace/Storage/raddick/Baltimore/community_reinvestment_act/'\n",
    "df = df.rename(columns={'Estimate; Median family income in the past 12 months (in 2016 inflation-adjusted dollars)': 'mfi'})\n",
    "#df\n",
    "#tract_shapes_gdf\n",
    "df = df.set_index('census_tract')\n",
    "df.loc[df['mfi'] == '-', 'mfi'] = np.nan\n",
    "\n",
    "print('assigning MFI to census tracts...')\n",
    "tract_shapes_gdf = tract_shapes_gdf.assign(mfi = pandas.to_numeric(tract_shapes_gdf.join(df['mfi'], how='left')['mfi']))\n",
    "\n",
    "print('backing up...')\n",
    "tract_shapes_gdf_bk = tract_shapes_gdf\n",
    "\n",
    "print('Done!')"
   ]
  },
  {
   "cell_type": "markdown",
   "metadata": {},
   "source": [
    "# Make maps"
   ]
  },
  {
   "cell_type": "markdown",
   "metadata": {},
   "source": [
    "## Locator map"
   ]
  },
  {
   "cell_type": "code",
   "execution_count": null,
   "metadata": {},
   "outputs": [],
   "source": [
    "scale = 1#0.25\n",
    "fig, ax = plt.subplots(figsize=(48*scale,48*scale))\n",
    "ax.set_aspect('equal')\n",
    "ax.tick_params(axis='both', which='both', bottom=False, left=False, labelleft=False, labelbottom=False)\n",
    "\n",
    "tract_shapes_gdf.plot(ax=ax, alpha=0.15, color='red', edgecolor='black', linewidth=2*scale)\n",
    "\n",
    "water_gdf[water_gdf['NAME'] == 'Harbor'].plot(ax=ax)\n",
    "\n",
    "boundary_gdf.plot(ax=ax, color='none', edgecolor='black', linewidth=10*scale)\n",
    "\n",
    "streets_gdf.plot(ax=ax, color='black', linewidth=0.5*scale)\n",
    "\n",
    "for ix, thisrow in tract_shapes_gdf[tract_shapes_gdf['population'].notnull()].iterrows():\n",
    "    annotator = str(ix)\n",
    "    ax.annotate(annotator, \n",
    "                xy=(thisrow.geometry.centroid.x, thisrow.geometry.centroid.y), \n",
    "                xytext=(thisrow.geometry.centroid.x, thisrow.geometry.centroid.y), \n",
    "                ha='center', va='center', backgroundcolor='white', fontsize=20*scale)\n",
    "plt.show()"
   ]
  },
  {
   "cell_type": "markdown",
   "metadata": {},
   "source": [
    "## Simple map of MFI"
   ]
  },
  {
   "cell_type": "code",
   "execution_count": null,
   "metadata": {},
   "outputs": [],
   "source": [
    "fig, ax = plt.subplots()\n",
    "tract_shapes_gdf[tract_shapes_gdf['mfi'].notnull()].plot(column='mfi', ax=ax)\n",
    "water_gdf[water_gdf['NAME'] == 'Harbor'].plot(ax=ax, color='gray')\n",
    "plt.show()"
   ]
  },
  {
   "cell_type": "markdown",
   "metadata": {},
   "source": [
    "## Simple map of number of loans (NOT normalized by businesses)"
   ]
  },
  {
   "cell_type": "code",
   "execution_count": null,
   "metadata": {},
   "outputs": [],
   "source": [
    "fig, ax = plt.subplots()\n",
    "tract_shapes_gdf[tract_shapes_gdf['nLoans'].notnull()].plot(column='nLoans', ax=ax)\n",
    "water_gdf[water_gdf['NAME'] == 'Harbor'].plot(ax=ax, color='gray')\n",
    "plt.show()\n",
    "#tract_shapes_gdf_bk = tract_shapes_gdf"
   ]
  },
  {
   "cell_type": "markdown",
   "metadata": {},
   "source": [
    "## Full-size pretty map showing both"
   ]
  },
  {
   "cell_type": "code",
   "execution_count": null,
   "metadata": {},
   "outputs": [],
   "source": [
    "fig, (ax1, ax2) = plt.subplots(1, 2, sharex=True, sharey=True, figsize=(60,34))\n",
    "\n",
    "ax1 = tract_shapes_gdf.plot(ax=ax1, column='nLoans', cmap='viridis', edgecolor='black')\n",
    "ax1.set_title('Number of CRA loans originated', fontsize=36)\n",
    "ax1.set_aspect('equal')\n",
    "water_gdf[water_gdf['NAME'] == 'Harbor'].plot(ax=ax1, color='w')\n",
    "\n",
    "for ix, thisrow in tract_shapes_gdf[tract_shapes_gdf['population'].notnull()].iterrows():\n",
    "    annotator = str(ix)\n",
    "    if (thisrow['population'] > 0):\n",
    "        annotator += '\\n' + '{0:,.0f}'.format(thisrow['nLoans'])\n",
    "#        annotator += '\\n' + '(n = {0:,.0f})'.format(thisrow['population'])\n",
    "    ax1.annotate(annotator, \n",
    "                xy=(thisrow.geometry.centroid.x, thisrow.geometry.centroid.y), \n",
    "                xytext=(thisrow.geometry.centroid.x, thisrow.geometry.centroid.y), \n",
    "                ha='center', va='center', backgroundcolor='white', fontsize=11)\n",
    "\n",
    "ax2 = tract_shapes_gdf[tract_shapes_gdf['mfi'].notnull()].plot(ax=ax2, column='mfi', cmap='viridis', edgecolor='black')\n",
    "ax2.set_title('Median family income', fontsize=36)\n",
    "ax2.set_aspect('equal')\n",
    "water_gdf[water_gdf['NAME'] == 'Harbor'].plot(ax=ax2, color='w')\n",
    "\n",
    "for ix, thisrow in tract_shapes_gdf[tract_shapes_gdf['mfi'].notnull()].iterrows():\n",
    "    annotator = str(ix)\n",
    "#    if (thisrow['population'] > 0):\n",
    "    annotator += '\\n' + '${0:,.0f}'.format(thisrow['mfi'])\n",
    "        #annotator += '\\n' + '(n = {0:,.0f})'.format(thisrow['population'])\n",
    "    ax2.annotate(annotator, \n",
    "                xy=(thisrow.geometry.centroid.x, thisrow.geometry.centroid.y), \n",
    "                xytext=(thisrow.geometry.centroid.x, thisrow.geometry.centroid.y), \n",
    "                ha='center', va='center', backgroundcolor='white', fontsize=11)\n",
    "\n",
    "\n",
    "ax1.tick_params(axis='both', which='both', bottom=False, left=False, labelleft=False, labelbottom=False)\n",
    "ax2.tick_params(axis='both', which='both', bottom=False, left=False, labelleft=False, labelbottom=False)\n",
    "\n",
    "# add colorbar\n",
    "cax1 = fig.add_axes([0.12, 0.08, 0.36, 0.03])\n",
    "\n",
    "sm1 = plt.cm.ScalarMappable(cmap='viridis', norm=plt.Normalize(vmin=0, vmax=tract_shapes_gdf['nLoans'].max()))\n",
    "\n",
    "# fake up the array of the scalar mappable. Urgh...\n",
    "sm1._A = []\n",
    "\n",
    "cbar1 = fig.colorbar(sm1, cax=cax1, orientation='horizontal')\n",
    "\n",
    "cax1.tick_params(labelsize=38)\n",
    "cbar1.set_label('Number of CRA loans', fontsize=46)\n",
    "\n",
    "\n",
    "# add colorbar\n",
    "\n",
    "sm2 = plt.cm.ScalarMappable(cmap='viridis', norm=plt.Normalize(vmin=0, vmax=220000))\n",
    "\n",
    "# fake up the array of the scalar mappable. Urgh...\n",
    "sm2._A = []\n",
    "\n",
    "cax2 = fig.add_axes([0.545, 0.08, 0.36, 0.03])\n",
    "cbar2 = fig.colorbar(sm2, cax=cax2, format='%.0f', ticks=np.arange(0, 300000, 50000), orientation='horizontal')\n",
    "cax2.tick_params(labelsize=38)\n",
    "cbar2.set_label('Median Family Income', fontsize=46)\n",
    "\n",
    "plt.show()\n",
    "\n",
    "#print('Saving...')\n",
    "#plt.savefig(outdir+'baltimore_loans_and_mfi_by_census_tract.svg', format='svg', dpi=300)\n",
    "#print('DONE!')\n"
   ]
  },
  {
   "cell_type": "markdown",
   "metadata": {},
   "source": [
    "# Examine two census tracts: 1207 (Charles Village) and 1403 (Druid Heights)"
   ]
  },
  {
   "cell_type": "code",
   "execution_count": null,
   "metadata": {},
   "outputs": [],
   "source": [
    "import matplotlib.patches as mpatches\n",
    "#tract_shapes_gdf = tract_shapes_gdf_bk# 1207 1403\n",
    "\n",
    "scale = 1\n",
    "fig, ax = plt.subplots(figsize=(48*scale,48*scale))\n",
    "ax.set_aspect('equal')\n",
    "ax.tick_params(axis='both', which='both', bottom=False, left=False, labelleft=False, labelbottom=False)\n",
    "\n",
    "csa1 = tract_shapes_gdf[tract_shapes_gdf.index == 1207].plot(ax=ax, alpha=0.5, color='red', edgecolor='black', linewidth=2*scale)\n",
    "csa2 = tract_shapes_gdf[tract_shapes_gdf.index == 1403].plot(ax=ax, alpha=0.5, color='green', edgecolor='black', linewidth=2*scale)\n",
    "\n",
    "water_gdf[water_gdf['NAME'] == 'Harbor'].plot(ax=ax)\n",
    "boundary_gdf.plot(ax=ax, color='none', edgecolor='black', linewidth=10*scale)\n",
    "streets_gdf.plot(ax=ax, color='black', linewidth=0.5*scale)\n",
    "\n",
    "#https://stackoverflow.com/questions/44098362/using-mpatches-patch-for-a-custom-legend\n",
    "colors = [\"r\", \"g\"]\n",
    "texts = [\"Census tract 1207\", \"Census tract 1403\"]\n",
    "patches = [plt.plot([],[], marker=\"s\", ms=100*scale, ls=\"\", mec=None, color=colors[i], \n",
    "            label=\"{:s}\".format(texts[i]) )[0]  for i in range(len(texts)) ]\n",
    "plt.legend(handles=patches, bbox_to_anchor=(0.25, 0.15), \n",
    "           loc='center', ncol=1, numpoints=1, fontsize=80*scale, labelspacing=1*scale)\n",
    "plt.title('Locator map for Baltimore census tracts', fontsize=84*scale)\n",
    "\n",
    "plt.savefig(outdir+'figures/locator_cv_dhu.svg', format='svg')\n",
    "print('Figure saved')\n",
    "#plt.show()"
   ]
  },
  {
   "cell_type": "markdown",
   "metadata": {},
   "source": [
    "## Number of loans by assessment area for those census tracts"
   ]
  },
  {
   "cell_type": "markdown",
   "metadata": {},
   "source": [
    "### Census tract 1207"
   ]
  },
  {
   "cell_type": "code",
   "execution_count": null,
   "metadata": {},
   "outputs": [],
   "source": [
    "loans_1207_by_assessment_area_s = pandas.Series(\n",
    "    data=baltimore_tracts_df[baltimore_tracts_df['census_tract'] == 1207].fillna('none or unknown').groupby('assessment_area_number').size(), \n",
    ")\n",
    "#loans_1207_by_assessment_area_s.name = 'nLoans'\n",
    "loans_1207_by_assessment_area_df = pandas.DataFrame(data=loans_1207_by_assessment_area_s.values, columns=['nLoans'], index=loans_1207_by_assessment_area_s.index)\n",
    "loans_1207_by_assessment_area_df"
   ]
  },
  {
   "cell_type": "markdown",
   "metadata": {},
   "source": [
    "### Census tract 1403"
   ]
  },
  {
   "cell_type": "code",
   "execution_count": null,
   "metadata": {},
   "outputs": [],
   "source": [
    "loans_1403_by_assessment_area_s = pandas.Series(\n",
    "    data=baltimore_tracts_df[baltimore_tracts_df['census_tract'] == 1403].fillna('none or unknown').groupby('assessment_area_number').size(), \n",
    ")\n",
    "loans_1403_by_assessment_area_df = pandas.DataFrame(data=loans_1403_by_assessment_area_s.values, columns=['nLoans'], index=loans_1403_by_assessment_area_s.index)\n",
    "loans_1403_by_assessment_area_df"
   ]
  },
  {
   "cell_type": "markdown",
   "metadata": {},
   "source": [
    "## Number of loans by income group for those census tracts"
   ]
  },
  {
   "cell_type": "markdown",
   "metadata": {},
   "source": [
    "### Census tract 1207"
   ]
  },
  {
   "cell_type": "code",
   "execution_count": null,
   "metadata": {},
   "outputs": [],
   "source": [
    "loans_1207_by_income_group_s = pandas.Series(\n",
    "    data=baltimore_tracts_df[baltimore_tracts_df['census_tract'] == 1207].fillna('none or unknown').groupby('income_group').size(), \n",
    ")\n",
    "loans_1207_by_income_group_df = pandas.DataFrame(data=loans_1207_by_income_group_s.values, columns=['nLoans'], index=loans_1207_by_income_group_s.index)\n",
    "loans_1207_by_income_group_df"
   ]
  },
  {
   "cell_type": "markdown",
   "metadata": {},
   "source": [
    "### Census tract 1403"
   ]
  },
  {
   "cell_type": "code",
   "execution_count": null,
   "metadata": {},
   "outputs": [],
   "source": [
    "loans_1403_by_income_group_s = pandas.Series(\n",
    "    data=baltimore_tracts_df[baltimore_tracts_df['census_tract'] == 1403].fillna('none or unknown').groupby('income_group').size(), \n",
    ")\n",
    "loans_1403_by_income_group_df = pandas.DataFrame(data=loans_1403_by_income_group_s.values, columns=['nLoans'], index=loans_1403_by_income_group_s.index)\n",
    "loans_1403_by_income_group_df"
   ]
  },
  {
   "cell_type": "markdown",
   "metadata": {},
   "source": [
    "## List of all loans in those census tracts"
   ]
  },
  {
   "cell_type": "markdown",
   "metadata": {},
   "source": [
    "### Census tract 1207"
   ]
  },
  {
   "cell_type": "code",
   "execution_count": null,
   "metadata": {},
   "outputs": [],
   "source": [
    "output = baltimore_tracts_df[[\n",
    "    'census_tract', 'assessment_area_number', 'income_group', 'cra_level', 'institution_name'\n",
    "]][baltimore_tracts_df['census_tract'] == 1207].fillna('').sort_values('income_group')\n",
    "\n",
    "htmlString = '<table>'\n",
    "htmlString += '<tr><th>Census tract</th><th>Assessment area</th><th>Income group</th><th>CRA level</th><th>Institution name</th></tr>'\n",
    "for ix, thisrow in output.iterrows():\n",
    "    htmlString += '<tr>'\n",
    "    for thiscol in thisrow:\n",
    "        htmlString += '<td>'+str(thiscol)+'</td>'\n",
    "    htmlString += '<tr>'\n",
    "htmlString += '</table>'\n",
    "\n",
    "display(HTML(htmlString))"
   ]
  },
  {
   "cell_type": "markdown",
   "metadata": {},
   "source": [
    "### Census tract 1403"
   ]
  },
  {
   "cell_type": "code",
   "execution_count": null,
   "metadata": {},
   "outputs": [],
   "source": [
    "output = baltimore_tracts_df[[\n",
    "    'census_tract', 'assessment_area_number', 'income_group', 'cra_level', 'institution_name'\n",
    "]][baltimore_tracts_df['census_tract'] == 1403].fillna('').sort_values('income_group')\n",
    "\n",
    "htmlString = '<table>'\n",
    "htmlString += '<tr><th>Census tract</th><th>Assessment area</th><th>Income group</th><th>CRA level</th><th>Institution name</th></tr>'\n",
    "for ix, thisrow in output.iterrows():\n",
    "    htmlString += '<tr>'\n",
    "    for thiscol in thisrow:\n",
    "        htmlString += '<td>'+str(thiscol)+'</td>'\n",
    "    htmlString += '<tr>'\n",
    "htmlString += '</table>'\n",
    "\n",
    "display(HTML(htmlString))"
   ]
  },
  {
   "cell_type": "code",
   "execution_count": null,
   "metadata": {},
   "outputs": [],
   "source": []
  }
 ],
 "metadata": {
  "kernelspec": {
   "display_name": "Python 3",
   "language": "python",
   "name": "python3"
  },
  "language_info": {
   "codemirror_mode": {
    "name": "ipython",
    "version": 3
   },
   "file_extension": ".py",
   "mimetype": "text/x-python",
   "name": "python",
   "nbconvert_exporter": "python",
   "pygments_lexer": "ipython3",
   "version": "3.6.6"
  }
 },
 "nbformat": 4,
 "nbformat_minor": 2
}
