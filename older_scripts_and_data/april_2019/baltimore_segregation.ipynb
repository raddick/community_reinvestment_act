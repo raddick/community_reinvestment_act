{
 "cells": [
  {
   "cell_type": "code",
   "execution_count": null,
   "metadata": {
    "collapsed": true
   },
   "outputs": [],
   "source": [
    "#!pip install --upgrade pip\n",
    "#!pip install --upgrade setuptools\n",
    "#!pip install GEOS\n",
    "\n",
    "#!pip install GeobricksProj4ToEPSG\n",
    "#!conda install -c conda-forge cartopy --yes\n",
    "#!pip install geopandas\n",
    "#print('ok')"
   ]
  },
  {
   "cell_type": "code",
   "execution_count": null,
   "metadata": {},
   "outputs": [],
   "source": [
    "import os\n",
    "import pandas\n",
    "import numpy as np\n",
    "from matplotlib import pyplot as plt\n",
    "from matplotlib import ticker\n",
    "from IPython.display import display, HTML\n",
    "import geopandas as gpd\n",
    "from shapely.geometry import Polygon\n",
    "from shapely.ops import cascaded_union, unary_union#, union\n",
    "import time\n",
    "#import rtree\n",
    "\n",
    "os.chdir('/home/idies/workspace/Temporary/raddick/cra_scratch/')\n",
    "print(os.getcwd())"
   ]
  },
  {
   "cell_type": "code",
   "execution_count": null,
   "metadata": {},
   "outputs": [],
   "source": [
    "nfile = '/home/idies/workspace/Storage/raddick/persistent/cra/metadata/shapefiles/Neighborhoods.shp'\n",
    "ngeo = gpd.read_file(nfile)\n",
    "print('Geographies read')\n",
    "#ngeo = ngeo.set_index('Name')\n",
    "#ngeo = ngeo.assign(percent_white=100*(ngeo['White']/ngeo['Population']))\n",
    "#ngeo = ngeo.assign(percent_black=100*(ngeo['Blk_AfAm']/ngeo['Population']))\n",
    "ngeo = ngeo.assign(percent_white=(ngeo['White']/ngeo['Population']))\n",
    "ngeo = ngeo.assign(percent_black=(ngeo['Blk_AfAm']/ngeo['Population']))\n",
    "\n",
    "#ngeo.head(1)\n",
    "\n",
    "ngeo.loc[ngeo['Population'] == 0, 'percent_black'] = np.nan\n",
    "#ngeo['percent_black'] = np.nan\n",
    "#print('OK')\n",
    "ngeo[['Name', 'Population', 'percent_black']].sort_values(by='Population')"
   ]
  },
  {
   "cell_type": "code",
   "execution_count": null,
   "metadata": {
    "scrolled": false
   },
   "outputs": [],
   "source": [
    "fig, ax = plt.subplots(figsize=(48,48))\n",
    "\n",
    "#thecmap = plt.cm.Greys\n",
    "thecmap = plt.cm.viridis_r\n",
    "thecmap.set_under(color='r', alpha=0.2)\n",
    "ngeo.plot(column='percent_black', ax=ax, cmap=thecmap, edgecolor='black')\n",
    "\n",
    "ax.set_aspect('equal')\n",
    "ax.tick_params(axis='both', which='both', bottom='off', left='off', labelleft='off', labelbottom='off')\n",
    "#ax.annotate('ED', xy=(-76.609383, 39.299236), xytext=(-42.5, 35),\n",
    "#             arrowprops=dict(facecolor='black', shrink=0.05),\n",
    "#             fontsize=22\n",
    "#            )\n",
    "\n",
    "for ix, thisrow in ngeo.iterrows():\n",
    "    thisrow['Name'] = thisrow['Name'].replace('-', '- ')\n",
    "    thisrow['Name'] = thisrow['Name'].replace('/', '/ ')\n",
    "    thisrow['Name'] = thisrow['Name'].replace(' ', '\\n')\n",
    "    annotator = thisrow['Name']\n",
    "    if (thisrow['Population'] > 0):\n",
    "        annotator += '\\n' + '{0:,.0%}'.format(thisrow['percent_black'])\n",
    "        annotator += '\\n' + '(n = {0:,.0f})'.format(thisrow['Population'])\n",
    "    ax.annotate(annotator, \n",
    "                xy=(thisrow.geometry.centroid.x, thisrow.geometry.centroid.y), \n",
    "                xytext=(thisrow.geometry.centroid.x, thisrow.geometry.centroid.y), \n",
    "                ha='center', va='center', backgroundcolor='white', fontsize=11)\n",
    "    \n",
    "\n",
    "# add colorbar\n",
    "cax1 = fig.add_axes([0.21, 0.08, 0.61, 0.03])\n",
    "sm1 = plt.cm.ScalarMappable(cmap=thecmap, norm=plt.Normalize(vmin=0, vmax=100))\n",
    "\n",
    "\n",
    "# fake up the array of the scalar mappable. Urgh...\n",
    "sm1._A = []\n",
    "\n",
    "cbar1 = fig.colorbar(sm1, cax=cax1, format='%.0f', ticks=np.arange(0, 110, 10), orientation='horizontal')\n",
    "\n",
    "cax1.tick_params(labelsize=48)\n",
    "cbar1.set_label('Percent black', fontsize=64)\n",
    "\n",
    "plt.savefig('/home/idies/workspace/Storage/raddick/persistent/cra/segregation_labeled_huge.svg', format='svg')\n",
    "print('ok')"
   ]
  },
  {
   "cell_type": "code",
   "execution_count": null,
   "metadata": {
    "collapsed": true
   },
   "outputs": [],
   "source": [
    "ngeo.columns"
   ]
  },
  {
   "cell_type": "code",
   "execution_count": null,
   "metadata": {
    "collapsed": true
   },
   "outputs": [],
   "source": [
    "cfile = '/home/idies/workspace/Storage/raddick/persistent/cra/metadata/shapefiles/census2010_neighborhoods.shp'\n",
    "#dfile = '/home/idies/workspace/Storage/raddick/persistent/cra/metadata/shapefiles/census2010_neighborhoods.shp'\n",
    "c2010 = gpd.read_file(cfile)\n",
    "c2010.columns#head(1)"
   ]
  },
  {
   "cell_type": "markdown",
   "metadata": {},
   "source": [
    "# Just print neighborhoods with labels, no color scale"
   ]
  },
  {
   "cell_type": "code",
   "execution_count": null,
   "metadata": {},
   "outputs": [],
   "source": [
    "nfile = '/home/idies/workspace/Storage/raddick/persistent/cra/metadata/shapefiles/Neighborhoods.shp'\n",
    "ngeo = gpd.read_file(nfile)\n",
    "ngeo = ngeo.set_index('OBJECTID')\n",
    "\n",
    "print('Geographies read')\n",
    "\n",
    "ngeo['percent_black'] = np.nan\n",
    "\n",
    "fig, ax = plt.subplots(figsize=(48,48))\n",
    "\n",
    "thecmap = plt.cm.viridis_r\n",
    "thecmap.set_under(color='w')#, alpha=0.2)\n",
    "ngeo.plot(column='percent_black', ax=ax, cmap=thecmap, edgecolor='black')\n",
    "\n",
    "ax.set_aspect('equal')\n",
    "ax.tick_params(axis='both', which='both', bottom='off', left='off', labelleft='off', labelbottom='off')\n",
    "\n",
    "for ix, thisrow in ngeo.iterrows():\n",
    "    thisrow['Name'] = thisrow['Name'].replace('-', '- ')\n",
    "    thisrow['Name'] = thisrow['Name'].replace('/', '/ ')\n",
    "    thisrow['Name'] = thisrow['Name'].replace(' ', '\\n')\n",
    "    annotator = thisrow['Name']\n",
    "    ax.annotate(annotator, \n",
    "                xy=(thisrow.geometry.centroid.x, thisrow.geometry.centroid.y), \n",
    "                xytext=(thisrow.geometry.centroid.x, thisrow.geometry.centroid.y), \n",
    "                ha='center', va='center', fontsize=14)\n",
    "    \n",
    "#plt.savefig('/home/idies/workspace/Storage/raddick/persistent/cra/just_neighborhoods_huge.svg', format='svg')\n",
    "#print('ok')\n",
    "plt.show()"
   ]
  },
  {
   "cell_type": "code",
   "execution_count": null,
   "metadata": {},
   "outputs": [],
   "source": [
    "#os.getcwd()\n",
    "ngeo[['Name', 'Population']].sort_values(by='Name').to_csv('/home/idies/workspace/Storage/raddick/persistent/cra/metadata/neighborhoods_list.csv')\n",
    "print('ok')"
   ]
  },
  {
   "cell_type": "code",
   "execution_count": null,
   "metadata": {},
   "outputs": [],
   "source": [
    "# PLOT CSAs\n",
    "\n",
    "csafile = '/home/idies/workspace/Storage/raddick/persistent/cra/metadata/shapefiles/csa/community_statistical_area.shp'\n",
    "csa_gdf = gpd.read_file(csafile)\n",
    "csa_gdf = csa_gdf.set_index('NEIG55ID')\n",
    "csa_gdf['percent_black'] = np.nan\n",
    "csa_gdf = csa_gdf.set_geometry('geometry')\n",
    "csa_gdf.sample(1)\n",
    "\n",
    "fig, ax = plt.subplots(figsize=(48,48))\n",
    "\n",
    "thecmap = plt.cm.viridis_r\n",
    "thecmap.set_under(color='w')#, alpha=0.2)\n",
    "csa_gdf.plot(column='percent_black', ax=ax, cmap=thecmap, edgecolor='black')\n",
    "\n",
    "ax.set_aspect('equal')\n",
    "ax.tick_params(axis='both', which='both', bottom='off', left='off', labelleft='off', labelbottom='off')\n",
    "\n",
    "for ix, thisrow in csa_gdf[csa_gdf['DC55NEIG'] != 'Tract Not Assigned'].iterrows():\n",
    "    thisrow['DC55NEIG'] = thisrow['DC55NEIG'].replace('-', '- ')\n",
    "    thisrow['DC55NEIG'] = thisrow['DC55NEIG'].replace('/', '/ ')\n",
    "    thisrow['DC55NEIG'] = thisrow['DC55NEIG'].replace(' ', '\\n')\n",
    "    annotator = thisrow['DC55NEIG']\n",
    "    ax.annotate(annotator, \n",
    "                xy=(thisrow.geometry.centroid.x, thisrow.geometry.centroid.y), \n",
    "                xytext=(thisrow.geometry.centroid.x, thisrow.geometry.centroid.y), \n",
    "                ha='center', va='center', fontsize=14)\n",
    "plt.show()\n",
    "\n",
    "#plt.savefig('/home/idies/workspace/Storage/raddick/persistent/cra/metadata/shapefiles/csa/all_csa.svg', format='svg')\n",
    "#print('OK')"
   ]
  },
  {
   "cell_type": "code",
   "execution_count": null,
   "metadata": {},
   "outputs": [],
   "source": [
    "# PLOT CSAs\n",
    "\n",
    "csafile = '/home/idies/workspace/Storage/raddick/persistent/cra/metadata/shapefiles/csa/community_statistical_area.shp'\n",
    "csa_gdf = gpd.read_file(csafile)\n",
    "csa_gdf = csa_gdf.set_index('NEIG55ID')\n",
    "csa_gdf['percent_black'] = np.nan\n",
    "csa_gdf = csa_gdf.set_geometry('geometry')\n",
    "csa_gdf.sample(1)\n",
    "\n",
    "fig, ax = plt.subplots(figsize=(48,48))\n",
    "\n",
    "thecmap = plt.cm.viridis_r\n",
    "thecmap.set_under(color='w', alpha=0)\n",
    "csa_gdf.plot(column='percent_black', ax=ax, cmap=thecmap, edgecolor='red', linewidth=6)\n",
    "ngeo.plot(column='percent_black', ax=ax, cmap=thecmap, edgecolor='black')\n",
    "\n",
    "ax.set_aspect('equal')\n",
    "ax.tick_params(axis='both', which='both', bottom='off', left='off', labelleft='off', labelbottom='off')\n",
    "\n",
    "for ix, thisrow in csa_gdf[csa_gdf['DC55NEIG'] != 'Tract Not Assigned'].iterrows():\n",
    "    thisrow['DC55NEIG'] = thisrow['DC55NEIG'].replace('-', '- ')\n",
    "    thisrow['DC55NEIG'] = thisrow['DC55NEIG'].replace('/', '/ ')\n",
    "    thisrow['DC55NEIG'] = thisrow['DC55NEIG'].replace(' ', '\\n')\n",
    "    thisrow['DC55NEIG'] = thisrow['DC55NEIG'].upper()\n",
    "    annotator = thisrow['DC55NEIG']\n",
    "    ax.annotate(annotator, \n",
    "                xy=(thisrow.geometry.centroid.x, thisrow.geometry.centroid.y), \n",
    "                xytext=(thisrow.geometry.centroid.x, thisrow.geometry.centroid.y), \n",
    "                ha='center', va='center', fontsize=18, color='red')\n",
    "\n",
    "for ix, thisrow in ngeo.iterrows():\n",
    "    thisrow['Name'] = thisrow['Name'].replace('-', '- ')\n",
    "    thisrow['Name'] = thisrow['Name'].replace('/', '/ ')\n",
    "    thisrow['Name'] = thisrow['Name'].replace(' ', '\\n')\n",
    "    annotator = thisrow['Name']\n",
    "    ax.annotate(annotator, \n",
    "                xy=(thisrow.geometry.centroid.x, thisrow.geometry.centroid.y), \n",
    "                xytext=(thisrow.geometry.centroid.x, thisrow.geometry.centroid.y), \n",
    "                ha='center', va='center', fontsize=14)\n",
    "\n",
    "#plt.show()\n",
    "\n",
    "plt.savefig('/home/idies/workspace/Storage/raddick/persistent/cra/metadata/shapefiles/neighborhood_and_csa.svg', format='svg')\n",
    "print('OK')"
   ]
  },
  {
   "cell_type": "code",
   "execution_count": null,
   "metadata": {
    "collapsed": true
   },
   "outputs": [],
   "source": []
  }
 ],
 "metadata": {
  "kernelspec": {
   "display_name": "Python 3",
   "language": "python",
   "name": "python3"
  },
  "language_info": {
   "codemirror_mode": {
    "name": "ipython",
    "version": 3
   },
   "file_extension": ".py",
   "mimetype": "text/x-python",
   "name": "python",
   "nbconvert_exporter": "python",
   "pygments_lexer": "ipython3",
   "version": "3.6.1"
  }
 },
 "nbformat": 4,
 "nbformat_minor": 2
}
