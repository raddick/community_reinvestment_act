{
 "cells": [
  {
   "cell_type": "code",
   "execution_count": 1,
   "metadata": {},
   "outputs": [
    {
     "name": "stderr",
     "output_type": "stream",
     "text": [
      "/home/idies/miniconda3/lib/python3.6/importlib/_bootstrap.py:219: RuntimeWarning: numpy.dtype size changed, may indicate binary incompatibility. Expected 96, got 88\n",
      "  return f(*args, **kwds)\n",
      "/home/idies/miniconda3/lib/python3.6/importlib/_bootstrap.py:219: RuntimeWarning: numpy.dtype size changed, may indicate binary incompatibility. Expected 96, got 88\n",
      "  return f(*args, **kwds)\n"
     ]
    },
    {
     "data": {
      "text/plain": [
       "'/home/idies/workspace/Temporary/raddick/cra_scratch'"
      ]
     },
     "execution_count": 1,
     "metadata": {},
     "output_type": "execute_result"
    }
   ],
   "source": [
    "import os\n",
    "import pandas\n",
    "import time\n",
    "data_dir = '/home/idies/workspace/Temporary/raddick/cra_scratch'\n",
    "os.chdir(data_dir)\n",
    "os.getcwd()"
   ]
  },
  {
   "cell_type": "code",
   "execution_count": 2,
   "metadata": {},
   "outputs": [
    {
     "name": "stdout",
     "output_type": "stream",
     "text": [
      "Loaded in 64 seconds.\n"
     ]
    }
   ],
   "source": [
    "s = time.time()\n",
    "loans_df = pandas.read_csv('loans_df.csv', encoding='utf-8')\n",
    "loans_df = loans_df.set_index('rownumber')\n",
    "loans_df_bk = loans_df\n",
    "e = time.time()\n",
    "print('Loaded in {0:,.0f} seconds.'.format(e-s))"
   ]
  },
  {
   "cell_type": "code",
   "execution_count": 4,
   "metadata": {},
   "outputs": [
    {
     "name": "stdout",
     "output_type": "stream",
     "text": [
      "Loaded from backup.\n",
      "Loaded respondentIDs (n = 87).\n",
      "\n",
      "Adding institution (from respondentID)...\n",
      "Found institutions for 11,243,729 (87 unique).\n",
      "Converting assessment_area_number to numeric...\n",
      "\n",
      "Assigning codes...\n",
      "agency_code -> agency...\n",
      "loan_type -> loan_to...\n",
      "action_taken_type -> action_taken...\n",
      "income_group_total -> income_group\n",
      "\n",
      "Multiplying amount columns by 1000 to convert to real dollars...\n",
      "amtLoans1...\n",
      "amtLoans100k...\n",
      "amtLoans250k...\n",
      "amtLoansToSmallest...\n",
      "amtLoansAff...\n",
      "\n",
      "Loading inflation data...\n",
      "Adjusting loan amount columns...\n",
      "amtLoans1 -> amtLoans1_adjusted...\n",
      "amtLoans100k -> amtLoans100k_adjusted...\n",
      "amtLoans250k -> amtLoans250k_adjusted...\n",
      "amtLoansToSmallest -> amtLoansToSmallest_adjusted...\n",
      "amtLoansAff -> amtLoansAff_adjusted...\n",
      "\n",
      "Writing outfile...\n",
      "Outfile written\n",
      "\n",
      "DONE!\n"
     ]
    }
   ],
   "source": [
    "# loans_df.sample(3).T\n",
    "loans_df = loans_df_bk\n",
    "print('Loaded from backup.')\n",
    "\n",
    "respondents_df = pandas.read_csv('/home/idies/workspace/Storage/raddick/raddick_cra/respondentid.csv', encoding='utf-8', index_col='respondentID')\n",
    "print('Loaded respondentIDs (n = {0:,.0f}).'.format(len(respondents_df['institution_name'].drop_duplicates())))\n",
    "print('\\nAdding institution (from respondentID)...')\n",
    "loans_df = loans_df.join(respondents_df, how='left', on='respondentID')\n",
    "# There are only 87 unique institutions represented?\n",
    "print('Found institutions for {0:,.0f} ({1:,.0f} unique).'.format(len(loans_df['institution_name'].notnull()), len(loans_df['institution_name'].drop_duplicates().notnull())))\n",
    "loans_df['institution_name'] = loans_df['institution_name'].fillna('Unknown')\n",
    "\n",
    "\n",
    "print('Converting assessment_area_number to numeric...')\n",
    "loans_df.loc[loans_df['assessment_area_number'] == 'A  ', 'assessment_area_number'] = '-1'\n",
    "loans_df['assessment_area_number'] = pandas.to_numeric(loans_df['assessment_area_number'], errors='coerce')\n",
    "\n",
    "\n",
    "#loans_df.sample(3)\n",
    "print('\\nAssigning codes...')\n",
    "print('agency_code -> agency...')\n",
    "loans_df.assign(agency='')\n",
    "loans_df.loc[loans_df['agency_code'] == 1, 'agency'] = 'OCC'\n",
    "loans_df.loc[loans_df['agency_code'] == 2, 'agency'] = 'FRS'\n",
    "loans_df.loc[loans_df['agency_code'] == 3, 'agency'] = 'FDIC'\n",
    "loans_df.loc[loans_df['agency_code'] == 4, 'agency'] = 'OTS'\n",
    "\n",
    "print('loan_type -> loan_to...')\n",
    "loans_df.assign(loan_to='')\n",
    "loans_df.loc[loans_df['loan_type'] == 4, 'loan_to'] = 'Business'\n",
    "loans_df.loc[loans_df['loan_type'] == 5, 'loan_to'] = 'Farm'\n",
    "\n",
    "print('action_taken_type -> action_taken...')\n",
    "loans_df.assign(action_taken='')\n",
    "loans_df.loc[loans_df['action_taken_type'] == 1, 'action_taken'] = 'Origination'\n",
    "loans_df.loc[loans_df['action_taken_type'] == 6, 'action_taken'] = 'Purchase'\n",
    "\n",
    "#print('state -> state_name')\n",
    "#statecodes_df = pandas.read_csv(\n",
    "#    '/home/idies/workspace/Storage/raddick/persistent/cra/metadata/statecodes.csv', \n",
    "#    encoding='utf-8', index_col='STATE')\n",
    "#statecodes_df = statecodes_df.rename(columns={'STUSAB': 'state_name'})\n",
    "#statecodes_df.index.name = 'state'\n",
    "#loans_df = loans_df.join(statecodes_df, how='left', on='state')\n",
    "\n",
    "print('income_group_total -> income_group')\n",
    "loans_df['income_group_total'] = pandas.to_numeric(loans_df['income_group_total'], errors='coerce')\n",
    "\n",
    "loans_df.assign(income_group='')\n",
    "loans_df.loc[loans_df['income_group_total'] == 1, 'income_group'] = '< 10% of Median Family Income (MFI)'\n",
    "loans_df.loc[loans_df['income_group_total'] == 2, 'income_group'] = '10% to 20% of MFI'\n",
    "loans_df.loc[loans_df['income_group_total'] == 3, 'income_group'] = '20% to 30% of MFI'\n",
    "loans_df.loc[loans_df['income_group_total'] == 4, 'income_group'] = '30% to 40% of MFI'\n",
    "loans_df.loc[loans_df['income_group_total'] == 5, 'income_group'] = '40% to 50% of MFI'\n",
    "loans_df.loc[loans_df['income_group_total'] == 6, 'income_group'] = '50% to 60% of MFI'\n",
    "loans_df.loc[loans_df['income_group_total'] == 7, 'income_group'] = '60% to 70% of MFI'\n",
    "loans_df.loc[loans_df['income_group_total'] == 8, 'income_group'] = '70% to 80% of MFI'\n",
    "loans_df.loc[loans_df['income_group_total'] == 9, 'income_group'] = '80% to 90% of MFI'\n",
    "loans_df.loc[loans_df['income_group_total'] == 10, 'income_group'] = '90% to 100% of MFI'\n",
    "loans_df.loc[loans_df['income_group_total'] == 11, 'income_group'] = '100% to 110% of MFI'\n",
    "loans_df.loc[loans_df['income_group_total'] == 12, 'income_group'] = '110% to 120% of MFI'\n",
    "loans_df.loc[loans_df['income_group_total'] == 13, 'income_group'] = '> 120% of MFI'\n",
    "loans_df.loc[loans_df['income_group_total'] == 14, 'income_group'] = 'MFI not known (income percentage = 0)'\n",
    "loans_df.loc[loans_df['income_group_total'] == 15, 'income_group'] = 'Tract not Known (reported as NA)'\n",
    "loans_df.loc[loans_df['income_group_total'] == 101, 'income_group'] = 'Low Income (< 50% of MFI) - excluding 0)'\n",
    "loans_df.loc[loans_df['income_group_total'] == 102, 'income_group'] = 'Moderate Income (50% to 80% of MFI)'\n",
    "loans_df.loc[loans_df['income_group_total'] == 103, 'income_group'] = 'Middle Income (80% to 120% of MFI)'\n",
    "loans_df.loc[loans_df['income_group_total'] == 104, 'income_group'] = 'Upper Income (> 120% of MFI)'\n",
    "loans_df.loc[loans_df['income_group_total'] == 105, 'income_group'] = 'Income Not Known (0)'\n",
    "loans_df.loc[loans_df['income_group_total'] == 106, 'income_group'] = 'Tract not Known (NA)'\n",
    "\n",
    "print('\\nMultiplying amount columns by 1000 to convert to real dollars...')\n",
    "amtloancolumns = ['amtLoans1', 'amtLoans100k', 'amtLoans250k', 'amtLoansToSmallest', 'amtLoansAff']\n",
    "for thiscol in amtloancolumns:\n",
    "    print(thiscol+'...')\n",
    "    loans_df[thiscol] = 1000*loans_df[thiscol]#.apply(lambda x: 1000*x)\n",
    "\n",
    "# Read inflation data, which comes from: https://data.bls.gov/pdq/SurveyOutputServlet\n",
    "print('\\nLoading inflation data...')\n",
    "inflation_df = pandas.read_csv('/home/idies/workspace/Storage/raddick/persistent/cra/metadata/inflation_to_2016.csv', encoding='utf-8')\n",
    "inflation_df = inflation_df[(inflation_df['Year'] >= 2004) & (inflation_df['Year'] <= 2016)]\n",
    "inflation_df = inflation_df.drop(['Jan', 'Feb', 'Mar', 'Apr', 'May', 'Jun', 'Jul', 'Aug', 'Sep', 'Oct', 'Nov'], axis=1)\n",
    "inflation_df = inflation_df.rename(columns={'Year': 'activity_year', 'Dec': 'inflation_factor'})\n",
    "inflation_df = inflation_df.set_index('activity_year')\n",
    "\n",
    "loans_df = loans_df.join(inflation_df, how='left', on='activity_year')\n",
    "\n",
    "# adjust\n",
    "print('Adjusting loan amount columns...')\n",
    "\n",
    "print('amtLoans1 -> amtLoans1_adjusted...')\n",
    "loans_df = loans_df.assign(amtLoans1_adjusted = loans_df['amtLoans1'] * loans_df['inflation_factor'])\n",
    "print('amtLoans100k -> amtLoans100k_adjusted...')\n",
    "loans_df = loans_df.assign(amtLoans100k_adjusted = loans_df['amtLoans100k'] * loans_df['inflation_factor'])\n",
    "print('amtLoans250k -> amtLoans250k_adjusted...')\n",
    "loans_df = loans_df.assign(amtLoans250k_adjusted = loans_df['amtLoans250k'] * loans_df['inflation_factor'])\n",
    "print('amtLoansToSmallest -> amtLoansToSmallest_adjusted...')\n",
    "loans_df = loans_df.assign(amtLoansToSmallest_adjusted = loans_df['amtLoansToSmallest'] * loans_df['inflation_factor'])\n",
    "print('amtLoansAff -> amtLoansAff_adjusted...')\n",
    "loans_df = loans_df.assign(amtLoansAff_adjusted = loans_df['amtLoansAff'] * loans_df['inflation_factor'])\n",
    "\n",
    "# remove tableID, it is redundant with loan_type and action_taken_type\n",
    "#loans_df = loans_df.drop('tableID', axis=1)\n",
    "\n",
    "print('\\nWriting outfile...')\n",
    "loans_df.to_csv('loans_processed.csv', encoding='utf-8')\n",
    "print('Outfile written')\n",
    "\n",
    "loans_df_bk = loans_df\n",
    "\n",
    "print('\\nDONE!')\n"
   ]
  },
  {
   "cell_type": "markdown",
   "metadata": {
    "collapsed": true
   },
   "source": [
    "# Get MSA names (this gives memory error, figure out later)"
   ]
  },
  {
   "cell_type": "code",
   "execution_count": 5,
   "metadata": {},
   "outputs": [
    {
     "name": "stdout",
     "output_type": "stream",
     "text": [
      "Loading from backup...\n",
      "Converting MSA to numeric...\n",
      "Reading MSA list...\n",
      "Merging...\n"
     ]
    },
    {
     "ename": "MemoryError",
     "evalue": "",
     "output_type": "error",
     "traceback": [
      "\u001b[0;31m\u001b[0m",
      "\u001b[0;31mMemoryError\u001b[0mTraceback (most recent call last)",
      "\u001b[0;32m<ipython-input-5-a625be277146>\u001b[0m in \u001b[0;36m<module>\u001b[0;34m()\u001b[0m\n\u001b[1;32m     16\u001b[0m \u001b[0;31m#    ], how='left', left_on='msa', right_on='msa_code')\u001b[0m\u001b[0;34m\u001b[0m\u001b[0;34m\u001b[0m\u001b[0m\n\u001b[1;32m     17\u001b[0m \u001b[0;34m\u001b[0m\u001b[0m\n\u001b[0;32m---> 18\u001b[0;31m \u001b[0mloans_df\u001b[0m \u001b[0;34m=\u001b[0m \u001b[0mloans_df\u001b[0m\u001b[0;34m.\u001b[0m\u001b[0mmerge\u001b[0m\u001b[0;34m(\u001b[0m\u001b[0mmsa_df\u001b[0m\u001b[0;34m[\u001b[0m\u001b[0;34m[\u001b[0m\u001b[0;34m'msa'\u001b[0m\u001b[0;34m,\u001b[0m \u001b[0;34m'msa_title'\u001b[0m\u001b[0;34m]\u001b[0m\u001b[0;34m]\u001b[0m\u001b[0;34m,\u001b[0m \u001b[0mhow\u001b[0m\u001b[0;34m=\u001b[0m\u001b[0;34m'left'\u001b[0m\u001b[0;34m,\u001b[0m \u001b[0mon\u001b[0m\u001b[0;34m=\u001b[0m\u001b[0;34m'msa'\u001b[0m\u001b[0;34m)\u001b[0m\u001b[0;34m\u001b[0m\u001b[0m\n\u001b[0m\u001b[1;32m     19\u001b[0m \u001b[0me\u001b[0m \u001b[0;34m=\u001b[0m \u001b[0mtime\u001b[0m\u001b[0;34m.\u001b[0m\u001b[0mtime\u001b[0m\u001b[0;34m(\u001b[0m\u001b[0;34m)\u001b[0m\u001b[0;34m\u001b[0m\u001b[0m\n\u001b[1;32m     20\u001b[0m \u001b[0mprint\u001b[0m\u001b[0;34m(\u001b[0m\u001b[0;34m'Merged in {0:,.0f} seconds.'\u001b[0m\u001b[0;34m.\u001b[0m\u001b[0mformat\u001b[0m\u001b[0;34m(\u001b[0m\u001b[0me\u001b[0m\u001b[0;34m-\u001b[0m\u001b[0ms\u001b[0m\u001b[0;34m)\u001b[0m\u001b[0;34m)\u001b[0m\u001b[0;34m\u001b[0m\u001b[0m\n",
      "\u001b[0;32m~/miniconda3/lib/python3.6/site-packages/pandas/core/frame.py\u001b[0m in \u001b[0;36mmerge\u001b[0;34m(self, right, how, on, left_on, right_on, left_index, right_index, sort, suffixes, copy, indicator, validate)\u001b[0m\n\u001b[1;32m   6387\u001b[0m                      \u001b[0mright_on\u001b[0m\u001b[0;34m=\u001b[0m\u001b[0mright_on\u001b[0m\u001b[0;34m,\u001b[0m \u001b[0mleft_index\u001b[0m\u001b[0;34m=\u001b[0m\u001b[0mleft_index\u001b[0m\u001b[0;34m,\u001b[0m\u001b[0;34m\u001b[0m\u001b[0m\n\u001b[1;32m   6388\u001b[0m                      \u001b[0mright_index\u001b[0m\u001b[0;34m=\u001b[0m\u001b[0mright_index\u001b[0m\u001b[0;34m,\u001b[0m \u001b[0msort\u001b[0m\u001b[0;34m=\u001b[0m\u001b[0msort\u001b[0m\u001b[0;34m,\u001b[0m \u001b[0msuffixes\u001b[0m\u001b[0;34m=\u001b[0m\u001b[0msuffixes\u001b[0m\u001b[0;34m,\u001b[0m\u001b[0;34m\u001b[0m\u001b[0m\n\u001b[0;32m-> 6389\u001b[0;31m                      copy=copy, indicator=indicator, validate=validate)\n\u001b[0m\u001b[1;32m   6390\u001b[0m \u001b[0;34m\u001b[0m\u001b[0m\n\u001b[1;32m   6391\u001b[0m     \u001b[0;32mdef\u001b[0m \u001b[0mround\u001b[0m\u001b[0;34m(\u001b[0m\u001b[0mself\u001b[0m\u001b[0;34m,\u001b[0m \u001b[0mdecimals\u001b[0m\u001b[0;34m=\u001b[0m\u001b[0;36m0\u001b[0m\u001b[0;34m,\u001b[0m \u001b[0;34m*\u001b[0m\u001b[0margs\u001b[0m\u001b[0;34m,\u001b[0m \u001b[0;34m**\u001b[0m\u001b[0mkwargs\u001b[0m\u001b[0;34m)\u001b[0m\u001b[0;34m:\u001b[0m\u001b[0;34m\u001b[0m\u001b[0m\n",
      "\u001b[0;32m~/miniconda3/lib/python3.6/site-packages/pandas/core/reshape/merge.py\u001b[0m in \u001b[0;36mmerge\u001b[0;34m(left, right, how, on, left_on, right_on, left_index, right_index, sort, suffixes, copy, indicator, validate)\u001b[0m\n\u001b[1;32m     60\u001b[0m                          \u001b[0mcopy\u001b[0m\u001b[0;34m=\u001b[0m\u001b[0mcopy\u001b[0m\u001b[0;34m,\u001b[0m \u001b[0mindicator\u001b[0m\u001b[0;34m=\u001b[0m\u001b[0mindicator\u001b[0m\u001b[0;34m,\u001b[0m\u001b[0;34m\u001b[0m\u001b[0m\n\u001b[1;32m     61\u001b[0m                          validate=validate)\n\u001b[0;32m---> 62\u001b[0;31m     \u001b[0;32mreturn\u001b[0m \u001b[0mop\u001b[0m\u001b[0;34m.\u001b[0m\u001b[0mget_result\u001b[0m\u001b[0;34m(\u001b[0m\u001b[0;34m)\u001b[0m\u001b[0;34m\u001b[0m\u001b[0m\n\u001b[0m\u001b[1;32m     63\u001b[0m \u001b[0;34m\u001b[0m\u001b[0m\n\u001b[1;32m     64\u001b[0m \u001b[0;34m\u001b[0m\u001b[0m\n",
      "\u001b[0;32m~/miniconda3/lib/python3.6/site-packages/pandas/core/reshape/merge.py\u001b[0m in \u001b[0;36mget_result\u001b[0;34m(self)\u001b[0m\n\u001b[1;32m    566\u001b[0m                 self.left, self.right)\n\u001b[1;32m    567\u001b[0m \u001b[0;34m\u001b[0m\u001b[0m\n\u001b[0;32m--> 568\u001b[0;31m         \u001b[0mjoin_index\u001b[0m\u001b[0;34m,\u001b[0m \u001b[0mleft_indexer\u001b[0m\u001b[0;34m,\u001b[0m \u001b[0mright_indexer\u001b[0m \u001b[0;34m=\u001b[0m \u001b[0mself\u001b[0m\u001b[0;34m.\u001b[0m\u001b[0m_get_join_info\u001b[0m\u001b[0;34m(\u001b[0m\u001b[0;34m)\u001b[0m\u001b[0;34m\u001b[0m\u001b[0m\n\u001b[0m\u001b[1;32m    569\u001b[0m \u001b[0;34m\u001b[0m\u001b[0m\n\u001b[1;32m    570\u001b[0m         \u001b[0mldata\u001b[0m\u001b[0;34m,\u001b[0m \u001b[0mrdata\u001b[0m \u001b[0;34m=\u001b[0m \u001b[0mself\u001b[0m\u001b[0;34m.\u001b[0m\u001b[0mleft\u001b[0m\u001b[0;34m.\u001b[0m\u001b[0m_data\u001b[0m\u001b[0;34m,\u001b[0m \u001b[0mself\u001b[0m\u001b[0;34m.\u001b[0m\u001b[0mright\u001b[0m\u001b[0;34m.\u001b[0m\u001b[0m_data\u001b[0m\u001b[0;34m\u001b[0m\u001b[0m\n",
      "\u001b[0;32m~/miniconda3/lib/python3.6/site-packages/pandas/core/reshape/merge.py\u001b[0m in \u001b[0;36m_get_join_info\u001b[0;34m(self)\u001b[0m\n\u001b[1;32m    775\u001b[0m         \u001b[0;32melse\u001b[0m\u001b[0;34m:\u001b[0m\u001b[0;34m\u001b[0m\u001b[0m\n\u001b[1;32m    776\u001b[0m             (left_indexer,\n\u001b[0;32m--> 777\u001b[0;31m              right_indexer) = self._get_join_indexers()\n\u001b[0m\u001b[1;32m    778\u001b[0m \u001b[0;34m\u001b[0m\u001b[0m\n\u001b[1;32m    779\u001b[0m             \u001b[0;32mif\u001b[0m \u001b[0mself\u001b[0m\u001b[0;34m.\u001b[0m\u001b[0mright_index\u001b[0m\u001b[0;34m:\u001b[0m\u001b[0;34m\u001b[0m\u001b[0m\n",
      "\u001b[0;32m~/miniconda3/lib/python3.6/site-packages/pandas/core/reshape/merge.py\u001b[0m in \u001b[0;36m_get_join_indexers\u001b[0;34m(self)\u001b[0m\n\u001b[1;32m    754\u001b[0m                                   \u001b[0mself\u001b[0m\u001b[0;34m.\u001b[0m\u001b[0mright_join_keys\u001b[0m\u001b[0;34m,\u001b[0m\u001b[0;34m\u001b[0m\u001b[0m\n\u001b[1;32m    755\u001b[0m                                   \u001b[0msort\u001b[0m\u001b[0;34m=\u001b[0m\u001b[0mself\u001b[0m\u001b[0;34m.\u001b[0m\u001b[0msort\u001b[0m\u001b[0;34m,\u001b[0m\u001b[0;34m\u001b[0m\u001b[0m\n\u001b[0;32m--> 756\u001b[0;31m                                   how=self.how)\n\u001b[0m\u001b[1;32m    757\u001b[0m \u001b[0;34m\u001b[0m\u001b[0m\n\u001b[1;32m    758\u001b[0m     \u001b[0;32mdef\u001b[0m \u001b[0m_get_join_info\u001b[0m\u001b[0;34m(\u001b[0m\u001b[0mself\u001b[0m\u001b[0;34m)\u001b[0m\u001b[0;34m:\u001b[0m\u001b[0;34m\u001b[0m\u001b[0m\n",
      "\u001b[0;32m~/miniconda3/lib/python3.6/site-packages/pandas/core/reshape/merge.py\u001b[0m in \u001b[0;36m_get_join_indexers\u001b[0;34m(left_keys, right_keys, sort, how, **kwargs)\u001b[0m\n\u001b[1;32m   1146\u001b[0m     \u001b[0mjoin_func\u001b[0m \u001b[0;34m=\u001b[0m \u001b[0m_join_functions\u001b[0m\u001b[0;34m[\u001b[0m\u001b[0mhow\u001b[0m\u001b[0;34m]\u001b[0m\u001b[0;34m\u001b[0m\u001b[0m\n\u001b[1;32m   1147\u001b[0m \u001b[0;34m\u001b[0m\u001b[0m\n\u001b[0;32m-> 1148\u001b[0;31m     \u001b[0;32mreturn\u001b[0m \u001b[0mjoin_func\u001b[0m\u001b[0;34m(\u001b[0m\u001b[0mlkey\u001b[0m\u001b[0;34m,\u001b[0m \u001b[0mrkey\u001b[0m\u001b[0;34m,\u001b[0m \u001b[0mcount\u001b[0m\u001b[0;34m,\u001b[0m \u001b[0;34m**\u001b[0m\u001b[0mkwargs\u001b[0m\u001b[0;34m)\u001b[0m\u001b[0;34m\u001b[0m\u001b[0m\n\u001b[0m\u001b[1;32m   1149\u001b[0m \u001b[0;34m\u001b[0m\u001b[0m\n\u001b[1;32m   1150\u001b[0m \u001b[0;34m\u001b[0m\u001b[0m\n",
      "\u001b[0;32mpandas/_libs/join.pyx\u001b[0m in \u001b[0;36mpandas._libs.join.left_outer_join\u001b[0;34m()\u001b[0m\n",
      "\u001b[0;32mpandas/_libs/join.pyx\u001b[0m in \u001b[0;36mpandas._libs.join._get_result_indexer\u001b[0;34m()\u001b[0m\n",
      "\u001b[0;32m~/miniconda3/lib/python3.6/site-packages/pandas/core/algorithms.py\u001b[0m in \u001b[0;36mtake_nd\u001b[0;34m(arr, indexer, axis, out, fill_value, mask_info, allow_fill)\u001b[0m\n\u001b[1;32m   1651\u001b[0m             \u001b[0;31m# (s.t. df.values is c-contiguous and df._data.blocks[0] is its\u001b[0m\u001b[0;34m\u001b[0m\u001b[0;34m\u001b[0m\u001b[0m\n\u001b[1;32m   1652\u001b[0m             \u001b[0;31m# f-contiguous transpose)\u001b[0m\u001b[0;34m\u001b[0m\u001b[0;34m\u001b[0m\u001b[0m\n\u001b[0;32m-> 1653\u001b[0;31m             \u001b[0mout\u001b[0m \u001b[0;34m=\u001b[0m \u001b[0mnp\u001b[0m\u001b[0;34m.\u001b[0m\u001b[0mempty\u001b[0m\u001b[0;34m(\u001b[0m\u001b[0mout_shape\u001b[0m\u001b[0;34m,\u001b[0m \u001b[0mdtype\u001b[0m\u001b[0;34m=\u001b[0m\u001b[0mdtype\u001b[0m\u001b[0;34m,\u001b[0m \u001b[0morder\u001b[0m\u001b[0;34m=\u001b[0m\u001b[0;34m'F'\u001b[0m\u001b[0;34m)\u001b[0m\u001b[0;34m\u001b[0m\u001b[0m\n\u001b[0m\u001b[1;32m   1654\u001b[0m         \u001b[0;32melse\u001b[0m\u001b[0;34m:\u001b[0m\u001b[0;34m\u001b[0m\u001b[0m\n\u001b[1;32m   1655\u001b[0m             \u001b[0mout\u001b[0m \u001b[0;34m=\u001b[0m \u001b[0mnp\u001b[0m\u001b[0;34m.\u001b[0m\u001b[0mempty\u001b[0m\u001b[0;34m(\u001b[0m\u001b[0mout_shape\u001b[0m\u001b[0;34m,\u001b[0m \u001b[0mdtype\u001b[0m\u001b[0;34m=\u001b[0m\u001b[0mdtype\u001b[0m\u001b[0;34m)\u001b[0m\u001b[0;34m\u001b[0m\u001b[0m\n",
      "\u001b[0;31mMemoryError\u001b[0m: "
     ]
    }
   ],
   "source": [
    "print('Loading from backup...')\n",
    "loans_df = loans_df_bk\n",
    "print('Converting MSA to numeric...')\n",
    "loans_df['msa'] = pandas.to_numeric(loans_df['msa'], errors='coerce')\n",
    "\n",
    "print('Reading MSA list...')\n",
    "msa_df = pandas.read_csv('/home/idies/workspace/Storage/raddick/persistent/cra/metadata/msacodes.csv', encoding='utf-8')\n",
    "\n",
    "print('Merging...')\n",
    "s = time.time()\n",
    "msa_df = msa_df.rename(columns={'msa_code': 'msa'})\n",
    "\n",
    "#loans_df = loans_df.merge(\n",
    "#    msa_df[['msa_code', 'msa_title']][\n",
    "#        msa_df['msa_code'].notnull()\n",
    "#    ], how='left', left_on='msa', right_on='msa_code')\n",
    "\n",
    "loans_df = loans_df.merge(msa_df[['msa', 'msa_title']], how='left', on='msa')\n",
    "e = time.time()\n",
    "print('Merged in {0:,.0f} seconds.'.format(e-s))\n",
    "\n",
    "loans_df.groupby('msa_title').size().sort_values(ascending=False)"
   ]
  },
  {
   "cell_type": "code",
   "execution_count": null,
   "metadata": {
    "collapsed": true
   },
   "outputs": [],
   "source": [
    "loans_df.columns\n",
    "#loans_df.groupby('report_level').size()"
   ]
  },
  {
   "cell_type": "code",
   "execution_count": null,
   "metadata": {
    "collapsed": true
   },
   "outputs": [],
   "source": [
    "#loans_df.columns\n",
    "#loans_df[loans_df['state'] == 24].groupby('msa').size()#.sort_values()\n",
    "\n",
    "loans_df = loans_df_bk\n",
    "\n",
    "#os.getcwd()\n",
    "s = time.time()\n",
    "msa_df = pandas.read_csv('/home/idies/workspace/Storage/raddick/persistent/cra/metadata/msacodes.csv', encoding='utf-8')\n",
    "e = time.time()\n",
    "print('Loaded {0:,.0f} metro areas in {1:,.0f} seconds.'.format(len(msa_df), e-s))\n",
    "\n",
    "#msa_df.groupby('cbsa_code').size().sort_values(ascending=False)\n",
    "#msa_df['cbsa_code'].drop_duplicates()\n",
    "#msa_df\n",
    "#loans_df.groupby('msa').size()\n",
    "print('\\nConverting to numeric...')\n",
    "s = time.time()\n",
    "loans_df['msa'] = pandas.to_numeric(loans_df['msa'], downcast='integer', errors='coerce')\n",
    "e = time.time()\n",
    "print('Done in {0:,.0f} seconds'.format(e-s))\n",
    "\n",
    "print('\\nMerging...')\n",
    "s = time.time()\n",
    "print('By CBSA...')\n",
    "loans_df = loans_df.merge(\n",
    "    msa_df[['cbsa_code', 'cbsa_title']], \n",
    "    how='left', left_on='msa', right_on='cbsa_code')\n",
    "\n",
    "print('By MSA...')\n",
    "loans_df = loans_df[(loans_df['cbsa_title'].isnull()) & (loans_df['msa'].notnull())].merge(msa_df[['msa_code', 'msa_title']], how='left', left_on='msa', right_on='msa_code')\n",
    "\n",
    "e = time.time()\n",
    "print('Done in {0:,.0f} seconds.'.format(e-s))\n",
    "loans_df.gropuby('msa_title').size().sort_values(ascending=False)\n",
    "#loans_df.groupby('msa').size()\n",
    "#msa_df.dtypes\n",
    "#loans_df.groupby('cbsa_title').size()\n",
    "\n",
    "#loans_df = loans_df.merge(\n",
    "#    msa_df[['cbsa_code', 'cbsa_title']], \n",
    "#    how='left', left_on='msa', right_on='cbsa_code')\n"
   ]
  },
  {
   "cell_type": "code",
   "execution_count": null,
   "metadata": {
    "collapsed": true
   },
   "outputs": [],
   "source": [
    "\n"
   ]
  },
  {
   "cell_type": "code",
   "execution_count": null,
   "metadata": {
    "collapsed": true
   },
   "outputs": [],
   "source": []
  },
  {
   "cell_type": "code",
   "execution_count": null,
   "metadata": {
    "collapsed": true
   },
   "outputs": [],
   "source": []
  }
 ],
 "metadata": {
  "kernelspec": {
   "display_name": "Python 3",
   "language": "python",
   "name": "python3"
  },
  "language_info": {
   "codemirror_mode": {
    "name": "ipython",
    "version": 3
   },
   "file_extension": ".py",
   "mimetype": "text/x-python",
   "name": "python",
   "nbconvert_exporter": "python",
   "pygments_lexer": "ipython3",
   "version": "3.6.6"
  }
 },
 "nbformat": 4,
 "nbformat_minor": 2
}
