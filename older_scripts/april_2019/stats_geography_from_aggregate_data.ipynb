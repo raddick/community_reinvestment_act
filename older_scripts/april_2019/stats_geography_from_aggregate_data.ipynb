{
 "cells": [
  {
   "cell_type": "code",
   "execution_count": 1,
   "metadata": {},
   "outputs": [
    {
     "name": "stdout",
     "output_type": "stream",
     "text": [
      "imported\n"
     ]
    }
   ],
   "source": [
    "import numpy as np\n",
    "import pandas\n",
    "import geopandas\n",
    "import scipy\n",
    "import re\n",
    "from IPython.display import display, HTML\n",
    "from matplotlib import pyplot as plt\n",
    "thisdir = '/home/idies/workspace/Storage/raddick/Baltimore/community_reinvestment_act/'\n",
    "datadir = thisdir + 'datasets/'\n",
    "figdir = thisdir + 'figures/'\n",
    "#tiger_dir = '/home/idies/workspace/Temporary/raddick/census_scratch/geography/TRACT_SHAPEFILES/'\n",
    "shapefiledir = '/home/idies/workspace/Storage/raddick/Baltimore/shapefiles/'\n",
    "\n",
    "print('imported')"
   ]
  },
  {
   "cell_type": "code",
   "execution_count": 2,
   "metadata": {
    "scrolled": false
   },
   "outputs": [
    {
     "name": "stdout",
     "output_type": "stream",
     "text": [
      "File has been read!\n"
     ]
    }
   ],
   "source": [
    "gdf = geopandas.read_file(datadir+'cra_data_final_for_mac_2015.shp')\n",
    "\n",
    "with open(datadir+'column_names.csv', 'r') as f:\n",
    "    y = f.read()\n",
    "thecolumns = re.split(', ', y)\n",
    "thecolumns = [x.replace(\"\\\\,'\", \",\") for x in thecolumns]\n",
    "\n",
    "gdf.columns = thecolumns\n",
    "\n",
    "gdf = gdf.set_index('census_tract')\n",
    "\n",
    "print('File has been read!')\n",
    "#gdf.head(1).T\n",
    "#thecolumns\n"
   ]
  },
  {
   "cell_type": "markdown",
   "metadata": {},
   "source": [
    "# Make some plots"
   ]
  },
  {
   "cell_type": "code",
   "execution_count": 3,
   "metadata": {},
   "outputs": [
    {
     "name": "stdout",
     "output_type": "stream",
     "text": [
      "reading water features...\n",
      "Done\n"
     ]
    }
   ],
   "source": [
    "print('reading water features...')\n",
    "water_gdf = geopandas.read_file(shapefiledir+'water/water.shp', encoding='utf-8')\n",
    "water_gdf = water_gdf.set_index('OBJECTID')\n",
    "water_gdf.sort_values('Shape_Area', ascending=False)\n",
    "water_gdf = water_gdf.to_crs(gdf.crs)\n",
    "print('Done')\n",
    "# Lowest decile is 45 jobs, so let's have a cutoff at 50\n",
    "#gdf['Total number of jobs'].quantile([0.1, 0.5, 0.75])\n"
   ]
  },
  {
   "cell_type": "code",
   "execution_count": null,
   "metadata": {
    "scrolled": false
   },
   "outputs": [],
   "source": [
    "gdf.columns.tolist()\n",
    "gdf = gdf.assign(\n",
    "    not_hopkins_jobs = gdf['Number of jobs for workers at firms with Firm Size: 0-19 Employees'] + \n",
    "        gdf['Number of jobs for workers at firms with Firm Size: 20-49 Employees'] +\n",
    "        gdf['Number of jobs for workers at firms with Firm Size: 50-249 Employees'] +\n",
    "        gdf['Number of jobs for workers at firms with Firm Size: 250-499 Employees'] +\n",
    "        gdf['Number of jobs for workers at firms with Firm Size: 500+ Employees']\n",
    ")\n",
    "print('Done')"
   ]
  },
  {
   "cell_type": "code",
   "execution_count": null,
   "metadata": {},
   "outputs": [],
   "source": [
    "scale = 1\n",
    "show_tract_labels = True\n",
    "output_figure = False\n",
    "\n",
    "fig, (ax1, ax2) = plt.subplots(1, 2, sharex=True, sharey=True, figsize=(60*scale,34*scale))\n",
    "\n",
    "ax1 = gdf.plot(ax=ax1, color='pink')\n",
    "\n",
    "\n",
    "ax1 = gdf[gdf['not_hopkins_jobs'] >= 50].plot(ax=ax1, column='amtWorkingLoans_per_job', cmap='viridis', edgecolor='black')\n",
    "ax1.set_title('Total amount working loans per not-Hopkins job', fontsize=44*scale)\n",
    "ax1.set_aspect('equal')\n",
    "water_gdf[water_gdf['NAME'] == 'Harbor'].plot(ax=ax1, color='w')\n",
    "\n",
    "if (show_tract_labels):\n",
    "    for ix, thisrow in gdf.iterrows():#[tract_shapes_gdf['population'].notnull()].iterrows():\n",
    "        annotator = str(ix)\n",
    "        annotator += '\\n' + '${0:,.0f}'.format(thisrow['amtLoansTotal_per_job'])\n",
    "        annocolor = 'black'\n",
    "        if (thisrow['not_hopkins_jobs'] >= 50):\n",
    "            annotator += '\\n' + '${0:,.0f}'.format(thisrow['amtLoansTotal_per_job'])\n",
    "            annocolor = 'black'\n",
    "        else:\n",
    "            annocolor = 'grey'\n",
    "        ax1.annotate(annotator, \n",
    "                    xy=(thisrow.geometry.centroid.x, thisrow.geometry.centroid.y), \n",
    "                    xytext=(thisrow.geometry.centroid.x, thisrow.geometry.centroid.y), \n",
    "                    ha='center', va='center', color=annocolor, backgroundcolor='white', fontsize=11*scale)\n",
    "\n",
    "ax2 = gdf.plot(ax=ax2, color='pink')\n",
    "ax2 = gdf[(gdf['pct_white'].notnull())].plot(ax=ax2, column='pct_white', cmap='Greys', edgecolor='yellow')\n",
    "ax2.set_title('Percent black residents', fontsize=44*scale)\n",
    "ax2.set_aspect('equal')\n",
    "water_gdf[water_gdf['NAME'] == 'Harbor'].plot(ax=ax2)\n",
    "if (show_tract_labels):\n",
    "    for ix, thisrow in gdf.iterrows():#[tract_shapes_gdf['population'].notnull()].iterrows():\n",
    "        annotator = str(ix)\n",
    "        #if ((thisrow['Total number of jobs'] >= 50) & (thisrow['pct_white'] != np.nan)):\n",
    "        if (thisrow['pct_white'] != np.nan):\n",
    "            annotator += '\\n' + '{0:.1%}'.format(thisrow['pct_white'])\n",
    "            annocolor = 'black'\n",
    "        else:\n",
    "            annocolor = 'grey'\n",
    "        ax2.annotate(annotator, \n",
    "                    xy=(thisrow.geometry.centroid.x, thisrow.geometry.centroid.y), \n",
    "                    xytext=(thisrow.geometry.centroid.x, thisrow.geometry.centroid.y), \n",
    "                    ha='center', va='center', color=annocolor, backgroundcolor='white', fontsize=11*scale)\n",
    "\n",
    "ax1.tick_params(axis='both', which='both', bottom=False, left=False, labelleft=False, labelbottom=False)\n",
    "ax2.tick_params(axis='both', which='both', bottom=False, left=False, labelleft=False, labelbottom=False)\n",
    "\n",
    "# add colorbar\n",
    "cax1 = fig.add_axes([0.12, 0.15, 0.36, 0.03])\n",
    "\n",
    "sm1 = plt.cm.ScalarMappable(cmap='viridis', norm=plt.Normalize(vmin=0, vmax=gdf['amtLoansTotal_per_job'].max()))\n",
    "\n",
    "# fake up the array of the scalar mappable. Urgh...\n",
    "sm1._A = []\n",
    "\n",
    "cbar1 = fig.colorbar(sm1, cax=cax1, orientation='horizontal')\n",
    "\n",
    "cax1.tick_params(labelsize=38*scale)\n",
    "cbar1.set_label('Amount of CRA loans per job', fontsize=46*scale)\n",
    "\n",
    "\n",
    "# add colorbar\n",
    "\n",
    "sm2 = plt.cm.ScalarMappable(cmap='Greys', norm=plt.Normalize(vmin=0, vmax=100))\n",
    "\n",
    "# fake up the array of the scalar mappable. Urgh...\n",
    "sm2._A = []\n",
    "\n",
    "cax2 = fig.add_axes([0.545, 0.15, 0.36, 0.03])\n",
    "cbar2 = fig.colorbar(sm2, cax=cax2, format='%.0f', ticks=np.arange(0, 110, 10), orientation='horizontal')\n",
    "cax2.tick_params(labelsize=38*scale)\n",
    "cbar2.set_label('Percent black residents', fontsize=46*scale)\n",
    "\n",
    "\n",
    "if (output_figure):\n",
    "    plt.savefig(figdir+'a_new_loans_per_job_vs_pct_black.svg', format='svg')\n",
    "    print('Figure saved!')\n",
    "else:\n",
    "    plt.show()\n",
    "print('done')\n"
   ]
  },
  {
   "cell_type": "code",
   "execution_count": null,
   "metadata": {
    "scrolled": false
   },
   "outputs": [],
   "source": [
    "gdf['Total number of jobs'].loc[1301.00]#.sort_values(ascending=False)"
   ]
  },
  {
   "cell_type": "code",
   "execution_count": null,
   "metadata": {},
   "outputs": [],
   "source": [
    "gdf = gdf.assign(cra_level = np.nan)\n",
    "\n",
    "gdf.loc[(gdf['income_group_code'] >= 1) & (gdf['income_group_code'] <= 5), 'cra_level'] = 'low'\n",
    "gdf.loc[(gdf['income_group_code'] >= 6) & (gdf['income_group_code'] <= 8), 'cra_level'] = 'moderate'\n",
    "gdf.loc[(gdf['income_group_code'] >= 9) & (gdf['income_group_code'] <= 12), 'cra_level'] = 'middle'\n",
    "gdf.loc[(gdf['income_group_code'] == 13), 'cra_level'] = 'upper'\n",
    "gdf.loc[(gdf['income_group_code'] == 14), 'cra_level'] = 'unknown'\n",
    "\n",
    "data_by_levels_df = pandas.DataFrame(data=gdf.groupby('cra_level')['amtWorkingLoans_per_job'].count())\n",
    "\n",
    "data_by_levels_df = data_by_levels_df.rename(columns={'amtWorkingLoans_per_job': 'nTracts'})\n",
    "\n",
    "data_by_levels_df = data_by_levels_df.assign(mean_amtWorkingLoans_per_job = gdf.groupby('cra_level')['amtLoansTotal_per_job'].mean())\n",
    "data_by_levels_df = data_by_levels_df.assign(sem_amtWorkingLoans_per_job = gdf.groupby('cra_level')['amtLoansTotal_per_job'].sem())\n",
    "\n",
    "data_by_levels_df = data_by_levels_df.reindex(['low', 'middle', 'moderate', 'upper', 'unknown'])\n",
    "\n",
    "plt.errorbar(\n",
    "    data_by_levels_df[data_by_levels_df.index != 'unknown'].index.values, \n",
    "    data_by_levels_df[data_by_levels_df.index != 'unknown']['mean_amtWorkingLoans_per_job'], \n",
    "    data_by_levels_df[data_by_levels_df.index != 'unknown']['sem_amtWorkingLoans_per_job'],\n",
    "    linestyle='none', marker='s', markersize=8)\n",
    "plt.ylim((0,3000))\n",
    "plt.xlabel('Income level')\n",
    "plt.ylabel('Mean amount of working loans per job')\n",
    "plt.title('Mean working loans to census tracts in Baltimore City, 2015')\n",
    "plt.show()\n",
    "\n",
    "#annotator = \n",
    "#plt.annotate(data_by_levels_df)\n",
    "htmlString = ''\n",
    "htmlString += '<table>'\n",
    "htmlString += '<tr>'\n",
    "htmlString += '<th>Income level</th>'\n",
    "htmlString += '<th>Number of census tracts</th>'\n",
    "htmlString += '<th>Mean CRA loan per job</th>'\n",
    "htmlString += '<th>Standard error of the mean</th>'\n",
    "htmlString += '</tr>'\n",
    "\n",
    "for ix, thisrow in data_by_levels_df.iterrows():\n",
    "    htmlString += '<tr><td>{0:}</td><td>{1:.0f}</td><td>${2:.0f}</td><td>${3:.0f}</td></tr>'.format(ix, thisrow['nTracts'], thisrow['mean_amtWorkingLoans_per_job'], thisrow['sem_amtWorkingLoans_per_job'])\n",
    "htmlString += '<table>'\n",
    "\n",
    "display(HTML(htmlString))\n",
    "#data_by_levels_df\n",
    "#data_by_levels_df\n"
   ]
  },
  {
   "cell_type": "code",
   "execution_count": null,
   "metadata": {},
   "outputs": [],
   "source": []
  },
  {
   "cell_type": "code",
   "execution_count": 12,
   "metadata": {
    "scrolled": false
   },
   "outputs": [
    {
     "data": {
      "image/png": "[encoded data removed]",
      "text/plain": [
       "<Figure size 432x288 with 1 Axes>"
      ]
     },
     "metadata": {
      "needs_background": "light"
     },
     "output_type": "display_data"
    },
    {
     "data": {
      "text/html": [
       "<table><tr><th>MFI Quintile</th><th>Number of census tracts</th><th>Mean working loands per job</th><th>Standard error of the mean</th></tr><tr><td>1</td><td>39</td><td>$1676</td><td>$370</td></tr><tr><td>2</td><td>39</td><td>$1491</td><td>$352</td></tr><tr><td>3</td><td>38</td><td>$2061</td><td>$572</td></tr><tr><td>4</td><td>40</td><td>$1813</td><td>$554</td></tr><tr><td>5</td><td>39</td><td>$2013</td><td>$297</td></tr><table>"
      ],
      "text/plain": [
       "<IPython.core.display.HTML object>"
      ]
     },
     "metadata": {},
     "output_type": "display_data"
    }
   ],
   "source": [
    "mfi_1q_top_cutoff = gdf['mfi'].quantile(0.20)\n",
    "mfi_2q_top_cutoff = gdf['mfi'].quantile(0.40)\n",
    "mfi_3q_top_cutoff = gdf['mfi'].quantile(0.60)\n",
    "mfi_4q_top_cutoff = gdf['mfi'].quantile(0.80)\n",
    "\n",
    "gdf = gdf.assign(mfi_quintile = np.nan)\n",
    "\n",
    "gdf.loc[gdf['mfi'] < mfi_1q_top_cutoff, 'mfi_quintile'] = 1\n",
    "gdf.loc[(gdf['mfi'] >= mfi_1q_top_cutoff) & (gdf['mfi'] < mfi_2q_top_cutoff), 'mfi_quintile'] = 2\n",
    "gdf.loc[(gdf['mfi'] >= mfi_2q_top_cutoff) & (gdf['mfi'] < mfi_3q_top_cutoff), 'mfi_quintile'] = 3\n",
    "gdf.loc[(gdf['mfi'] >= mfi_3q_top_cutoff) & (gdf['mfi'] < mfi_4q_top_cutoff), 'mfi_quintile'] = 4\n",
    "gdf.loc[gdf['mfi'] >= mfi_4q_top_cutoff, 'mfi_quintile'] = 5\n",
    "gdf.loc[gdf['mfi'].isnull(), 'mfi_quintile'] = -9999\n",
    "\n",
    "data_by_mfi_quntile_df = pandas.DataFrame(data=gdf.groupby('mfi_quintile')['amtWorkingLoans_per_job'].count())\n",
    "\n",
    "data_by_mfi_quntile_df = data_by_mfi_quntile_df.rename(columns={'amtWorkingLoans_per_job': 'nTracts'})\n",
    "\n",
    "data_by_mfi_quntile_df = data_by_mfi_quntile_df.assign(mean_amtWorkingLoans_per_job = gdf.groupby('mfi_quintile')['amtWorkingLoans_per_job'].mean())\n",
    "data_by_mfi_quntile_df = data_by_mfi_quntile_df.assign(sem_amtWorkingLoans_per_job = gdf.groupby('mfi_quintile')['amtWorkingLoans_per_job'].sem())\n",
    "\n",
    "plt.errorbar(\n",
    "    data_by_mfi_quntile_df[data_by_mfi_quntile_df.index > 0].index.values, \n",
    "    data_by_mfi_quntile_df[data_by_mfi_quntile_df.index > 0]['mean_amtWorkingLoans_per_job'], \n",
    "    data_by_mfi_quntile_df[data_by_mfi_quntile_df.index > 0]['sem_amtWorkingLoans_per_job'],\n",
    "    linestyle='none', marker='s', markersize=8)\n",
    "plt.ylim((0,3000))\n",
    "plt.xlabel('MFI Quintile')\n",
    "plt.ylabel('Mean amount of working loans per job')\n",
    "plt.title('Mean working loans to census tracts in Baltimore City, 2015')\n",
    "plt.show()\n",
    "\n",
    "#annotator = \n",
    "#plt.annotate(data_by_mfi_quntile_df)\n",
    "\n",
    "htmlString = ''\n",
    "htmlString += '<table>'\n",
    "htmlString += '<tr>'\n",
    "htmlString += '<th>MFI Quintile</th>'\n",
    "htmlString += '<th>Number of census tracts</th>'\n",
    "htmlString += '<th>Mean working loands per job</th>'\n",
    "htmlString += '<th>Standard error of the mean</th>'\n",
    "htmlString += '</tr>'\n",
    "\n",
    "for ix, thisrow in data_by_mfi_quntile_df[data_by_mfi_quntile_df.index > 0].iterrows():\n",
    "    htmlString += '<tr><td>{0:.0f}</td><td>{1:.0f}</td><td>${2:.0f}</td><td>${3:.0f}</td></tr>'.format(ix, thisrow['nTracts'], thisrow['mean_amtWorkingLoans_per_job'], thisrow['sem_amtWorkingLoans_per_job'])\n",
    "htmlString += '<table>'\n",
    "\n",
    "display(HTML(htmlString))\n",
    "#data_by_levels_df\n",
    "#data_by_levels_df\n"
   ]
  },
  {
   "cell_type": "code",
   "execution_count": null,
   "metadata": {},
   "outputs": [],
   "source": []
  }
 ],
 "metadata": {
  "kernelspec": {
   "display_name": "Python 3",
   "language": "python",
   "name": "python3"
  },
  "language_info": {
   "codemirror_mode": {
    "name": "ipython",
    "version": 3
   },
   "file_extension": ".py",
   "mimetype": "text/x-python",
   "name": "python",
   "nbconvert_exporter": "python",
   "pygments_lexer": "ipython3",
   "version": "3.6.6"
  }
 },
 "nbformat": 4,
 "nbformat_minor": 2
}
