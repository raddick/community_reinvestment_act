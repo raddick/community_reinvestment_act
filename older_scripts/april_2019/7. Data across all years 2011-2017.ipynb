{
 "cells": [
  {
   "cell_type": "code",
   "execution_count": 1,
   "metadata": {},
   "outputs": [
    {
     "name": "stdout",
     "output_type": "stream",
     "text": [
      "Importing packages...\n",
      "done\n"
     ]
    }
   ],
   "source": [
    "debug = 1\n",
    "print('Importing packages...')\n",
    "import os\n",
    "import pandas\n",
    "import time\n",
    "import numpy as np\n",
    "from matplotlib import pyplot as plt\n",
    "import geopandas\n",
    "from shapely.geometry import Point\n",
    "pandas.set_option('display.max_colwidth', -1)\n",
    "\n",
    "#basedir = '/home/idies/workspace/Storage/raddick/Baltimore/community_reinvestment_act/datasets/acs5/'\n",
    "#census_data_basedir = '/home/idies/workspace/Storage/raddick/Baltimore/community_reinvestment_act/datasets/acs5/'\n",
    "\n",
    "thisdir = '/home/idies/workspace/Storage/raddick/Baltimore/community_reinvestment_act/'\n",
    "datadir = thisdir + 'datasets_for_analysis/'\n",
    "#census_data_dir = datadir + 'acs5/'\n",
    "#census_acs5_rawdata_basedir = '/home/idies/workspace/Temporary/raddick/census_scratch/acs5/'\n",
    "\n",
    "shapefile_basedir = '/home/idies/workspace/Storage/raddick/Baltimore/shapefiles/'\n",
    "census_shapefile_tiger_basedir = '/home/idies/workspace/Temporary/raddick/census_scratch/shapefiles/'\n",
    "\n",
    "#inflation_dir = '/home/idies/workspace/Storage/raddick/Baltimore/community_reinvestment_act/datasets/inflation/'\n",
    "\n",
    "figdir = thisdir + 'figures/'\n",
    "mapdir = thisdir + 'maps/'\n",
    "#outdir = thisdir + 'datasets_for_analysis/'\n",
    "\n",
    "for x in [datadir, figdir, mapdir]:\n",
    "    if not(os.path.exists(x)):\n",
    "        os.makedirs(x)\n",
    "\n",
    "os.chdir(thisdir)\n",
    "os.getcwd()\n",
    "\n",
    "print('done')"
   ]
  },
  {
   "cell_type": "markdown",
   "metadata": {},
   "source": [
    "# Read data to be mapped\n",
    "\n",
    "The file being read here is the output from script 5"
   ]
  },
  {
   "cell_type": "code",
   "execution_count": 2,
   "metadata": {},
   "outputs": [
    {
     "name": "stdout",
     "output_type": "stream",
     "text": [
      "backing up...\n",
      "ok\n",
      "backing up...\n",
      "Done\n"
     ]
    }
   ],
   "source": [
    "df = pandas.read_csv(datadir+'reinvestment_by_census_tract_for_smallest_businesses.csv', encoding='utf-8')#, index_col=['census_tract', 'activity_year'])\n",
    "print('backing up...')\n",
    "df_bk = df\n",
    "\n",
    "cra_loan_columns = ['census_tract']#, 'activity_year']\n",
    "cra_loan_columns += ['nLoans1', 'nLoans100k', 'nLoans250k', 'nLoansToSmallest', 'nLoansTotal', 'nWorkingLoans']\n",
    "cra_loan_columns += ['amtLoans1_adj', 'amtLoans100k_adj', 'amtLoans250k_adj', 'amtLoansToSmallest_adj']\n",
    "cra_loan_columns += ['amtLoansTotal_adj', 'amtWorkingLoans_adj']\n",
    "\n",
    "cra_tract_columns = ['census_tract']#, 'activity_year']\n",
    "cra_tract_columns += ['GEOID', 'income_group_code', 'income_group', 'cra_level']\n",
    "\n",
    "census_columns = ['census_tract', 'activity_year']\n",
    "census_columns += ['pop_total', 'total_householders', 'pop_white', 'pop_black']\n",
    "census_columns += ['black_householder', 'white_householder', 'owner_occ_housing_units', 'mfi_adj']\n",
    "census_columns += ['female_householder', 'unemployed_16plus', 'poverty_past_12_months']\n",
    "census_columns += ['median_home_value', 'median_year_built']\n",
    "census_columns += ['labor_force_16plus', 'poverty_status_known_last12months_total']\n",
    "census_columns += ['hs_grad_25plus', 'pop_25plus']\n",
    "\n",
    "census_columns += ['pop_total_err','total_householders_err', 'pop_white_err', 'pop_black_err']\n",
    "census_columns += ['black_householder_err', 'white_householder_err', 'owner_occ_housing_units_err']\n",
    "census_columns += ['mfi_err', 'female_householder_err', 'unemployed_16plus_err']\n",
    "census_columns += ['poverty_past_12_months_err', 'median_home_value_err', 'median_year_built_err']\n",
    "census_columns += ['labor_force_16plus_err', 'poverty_status_known_last12months_total_err']\n",
    "census_columns += ['hs_grad_25plus_serr', 'pop_25plus_serr']\n",
    "\n",
    "jobs_columns = ['census_tract', 'activity_year']\n",
    "jobs_columns += ['Total number of jobs', 'Number of jobs for workers age 29 or younger']\n",
    "jobs_columns += ['Number of jobs for workers age 30 to 54', 'Number of jobs for workers age 55 or older']\n",
    "jobs_columns += ['Number of jobs with earnings $1250/month or less']\n",
    "jobs_columns += ['Number of jobs with earnings $1251/month to $3333/month']\n",
    "jobs_columns += ['Number of jobs with earnings greater than $3333/month']\n",
    "jobs_columns += ['Number of jobs in NAICS sector 11 (Agriculture, Forestry, Fishing and Hunting)']\n",
    "jobs_columns += ['Number of jobs in NAICS sector 21 (Mining, Quarrying, and Oil and Gas Extraction)']\n",
    "jobs_columns += ['Number of jobs in NAICS sector 22 (Utilities)']\n",
    "jobs_columns += ['Number of jobs in NAICS sector 23 (Construction)']\n",
    "jobs_columns += ['Number of jobs in NAICS sector 31-33 (Manufacturing)']\n",
    "jobs_columns += ['Number of jobs in NAICS sector 42 (Wholesale Trade)']\n",
    "jobs_columns += ['Number of jobs in NAICS sector 44-45 (Retail Trade)']\n",
    "jobs_columns += ['Number of jobs in NAICS sector 48-49 (Transportation and Warehousing)']\n",
    "jobs_columns += ['Number of jobs in NAICS sector 51 (Information)']\n",
    "jobs_columns += ['Number of jobs in NAICS sector 52 (Finance and Insurance)']\n",
    "jobs_columns += ['Number of jobs in NAICS sector 53 (Real Estate and Rental and Leasing)']\n",
    "jobs_columns += ['Number of jobs in NAICS sector 54 (Professional, Scientific, and Technical Services)']\n",
    "jobs_columns += ['Number of jobs in NAICS sector 55 (Management of Companies and Enterprises)']\n",
    "jobs_columns += ['Number of jobs in NAICS sector 56 (Administrative and Support and Waste Management and Remediation Services)']\n",
    "jobs_columns += ['Number of jobs in NAICS sector 61 (Educational Services)']\n",
    "jobs_columns += ['Number of jobs in NAICS sector 62 (Health Care and Social Assistance)']\n",
    "jobs_columns += ['Number of jobs in NAICS sector 71 (Arts, Entertainment, and Recreation)']\n",
    "jobs_columns += ['Number of jobs in NAICS sector 72 (Accommodation and Food Services)']\n",
    "jobs_columns += ['Number of jobs in NAICS sector 81 (Other Services [except Public Administration])']\n",
    "jobs_columns += ['Number of jobs in NAICS sector 92 (Public Administration)']\n",
    "jobs_columns += ['Number of jobs for workers with Race: White, Alone']\n",
    "jobs_columns += ['Number of jobs for workers with Race: Black or African American Alone']\n",
    "jobs_columns += ['Number of jobs for workers with Race: American Indian or Alaska Native Alone']\n",
    "jobs_columns += ['Number of jobs for workers with Race: Asian Alone']\n",
    "jobs_columns += ['Number of jobs for workers with Race: Native Hawaiian or Other Pacific Islander Alone']\n",
    "jobs_columns += ['Number of jobs for workers with Race: Two or More Race Groups']\n",
    "jobs_columns += ['Number of jobs for workers with Ethnicity: Not Hispanic or Latino']\n",
    "jobs_columns += ['Number of jobs for workers with Ethnicity: Hispanic or Latino']\n",
    "jobs_columns += ['Number of jobs for workers with Educational Attainment: Less than high school']\n",
    "jobs_columns += ['Number of jobs for workers with Educational Attainment: High school or equivalent, no college']\n",
    "jobs_columns += ['Number of jobs for workers with Educational Attainment: Some college or Associate degree']\n",
    "jobs_columns += [\"Number of jobs for workers with Educational Attainment: Bachelor's degree or advanced degree\"]\n",
    "jobs_columns += ['Number of jobs for workers with Sex: Male']\n",
    "jobs_columns += ['Number of jobs for workers with Sex: Female']\n",
    "jobs_columns += ['Number of jobs for workers at firms with Firm Age: 0-1 Years']\n",
    "jobs_columns += ['Number of jobs for workers at firms with Firm Age: 2-3 Years']\n",
    "jobs_columns += ['Number of jobs for workers at firms with Firm Age: 4-5 Years']\n",
    "jobs_columns += ['Number of jobs for workers at firms with Firm Age: 6-10 Years']\n",
    "jobs_columns += ['Number of jobs for workers at firms with Firm Age: 11+ Years']\n",
    "jobs_columns += ['Number of jobs for workers at firms with Firm Size: 0-19 Employees']\n",
    "jobs_columns += ['Number of jobs for workers at firms with Firm Size: 20-49 Employees']\n",
    "jobs_columns += ['Number of jobs for workers at firms with Firm Size: 50-249 Employees']\n",
    "jobs_columns += ['Number of jobs for workers at firms with Firm Size: 250-499 Employees']\n",
    "jobs_columns += ['Number of jobs for workers at firms with Firm Size: 500+ Employees']\n",
    "print('ok')\n",
    "\n",
    "#df[cra_loan_columns]\n",
    "\n",
    "all_loans_df = df[cra_tract_columns].set_index('census_tract')\n",
    "all_loans_df = all_loans_df.join(df[cra_loan_columns].groupby('census_tract').sum())\n",
    "\n",
    "print('backing up...')\n",
    "all_loans_df_bk = all_loans_df\n",
    "\n",
    "print('Done')"
   ]
  },
  {
   "cell_type": "code",
   "execution_count": 3,
   "metadata": {},
   "outputs": [
    {
     "name": "stdout",
     "output_type": "stream",
     "text": [
      "retrieving from backup...\n",
      "backing up...\n",
      "ok\n"
     ]
    }
   ],
   "source": [
    "print('retrieving from backup...')\n",
    "all_loans_df = all_loans_df_bk\n",
    "\n",
    "jobs_2015_df = df[jobs_columns][df['activity_year'] == 2015].set_index('census_tract')\n",
    "jobs_2015_df = jobs_2015_df.drop('activity_year', axis=1)\n",
    "\n",
    "# Ignore any tracts with 10 or fewer small business jobs\n",
    "#jobs_2015_df['Number of jobs for workers at firms with Firm Size: 0-19 Employees'].sort_values(ascending=True)\n",
    "\n",
    "# JOIN the small business jobs column only\n",
    "#all_loans_df = all_loans_df.join(jobs_2015_df['Number of jobs for workers at firms with Firm Size: 0-19 Employees'][\n",
    "#    (jobs_2015_df['Number of jobs for workers at firms with Firm Size: 0-19 Employees'] >= 10)\n",
    "#], how='left')\n",
    "\n",
    "# JOIN all job columns\n",
    "all_loans_df = all_loans_df.join(jobs_2015_df[\n",
    "    (jobs_2015_df['Number of jobs for workers at firms with Firm Size: 0-19 Employees'] >= 10)\n",
    "], how='left')\n",
    "\n",
    "\n",
    "all_loans_df = all_loans_df.assign(nWorkingLoans_per_sbjob2015 = all_loans_df['nWorkingLoans'] / all_loans_df['Number of jobs for workers at firms with Firm Size: 0-19 Employees'])\n",
    "all_loans_df = all_loans_df.assign(amtWorkingLoans_per_sbjob2015_adj = all_loans_df['amtWorkingLoans_adj'] / all_loans_df['Number of jobs for workers at firms with Firm Size: 0-19 Employees'])\n",
    "\n",
    "print('backing up...')\n",
    "all_loans_df_bk = all_loans_df\n",
    "\n",
    "print('ok')\n"
   ]
  },
  {
   "cell_type": "markdown",
   "metadata": {},
   "source": [
    "## Write out dataset before plotting things"
   ]
  },
  {
   "cell_type": "code",
   "execution_count": 4,
   "metadata": {},
   "outputs": [
    {
     "name": "stdout",
     "output_type": "stream",
     "text": [
      "retrieving from backup...\n",
      "Outfile written: /home/idies/workspace/Storage/raddick/Baltimore/community_reinvestment_act/datasets_for_analysis/loans_and_job_allyears_alldata.csv\n"
     ]
    }
   ],
   "source": [
    "print('retrieving from backup...')\n",
    "all_loans_df = all_loans_df_bk\n",
    "outfile = datadir+'loans_and_job_allyears_alldata.csv'\n",
    "all_loans_df.to_csv(outfile, encoding='utf-8')\n",
    "print('Outfile written: {0:}'.format(outfile))"
   ]
  },
  {
   "cell_type": "code",
   "execution_count": null,
   "metadata": {},
   "outputs": [],
   "source": [
    "#x = pandas.read_csv(outfile, encoding='utf-8', low_memory=False, index_col='census_tract')\n",
    "#x"
   ]
  },
  {
   "cell_type": "markdown",
   "metadata": {},
   "source": [
    "# Join data to 2017 shapefiles"
   ]
  },
  {
   "cell_type": "markdown",
   "metadata": {},
   "source": [
    "## Get shapefiles (2017)"
   ]
  },
  {
   "cell_type": "code",
   "execution_count": null,
   "metadata": {},
   "outputs": [],
   "source": [
    "thisyear = 2017\n",
    "\n",
    "if (debug > 0):\n",
    "    print('Getting census tract shapefiles for {0:.0f}...'.format(thisyear))\n",
    "tract_shapes_gdf = geopandas.read_file(census_shapefile_tiger_basedir +'{0:.0f}/TRACT/tl_{0:.0f}_24_tract.shp'.format(thisyear))\n",
    "tract_shapes_gdf = tract_shapes_gdf[tract_shapes_gdf['COUNTYFP'] == '510']\n",
    "tract_shapes_gdf.loc[:, 'NAME'] = pandas.to_numeric(tract_shapes_gdf['NAME'], errors='coerce')\n",
    "tract_shapes_gdf = tract_shapes_gdf.assign(census_tract = pandas.to_numeric(tract_shapes_gdf['GEOID'].apply(lambda x: x[5:9]+'.'+x[9:]), errors='coerce'))\n",
    "tract_shapes_gdf = tract_shapes_gdf.drop('GEOID', axis=1)\n",
    "tract_shapes_gdf = tract_shapes_gdf.set_index('census_tract')\n",
    "\n",
    "print('backing up...')\n",
    "tract_shapes_gdf_bk = tract_shapes_gdf\n",
    "print('Done!')\n",
    "\n",
    "tract_shapes_gdf.plot(color='darkgreen', edgecolor='white')\n",
    "\n",
    "plt.show()\n"
   ]
  },
  {
   "cell_type": "markdown",
   "metadata": {},
   "source": [
    "## Cutting out harbor"
   ]
  },
  {
   "cell_type": "code",
   "execution_count": null,
   "metadata": {
    "scrolled": true
   },
   "outputs": [],
   "source": [
    "print('getting from backup...')\n",
    "tract_shapes_gdf = tract_shapes_gdf_bk\n",
    "\n",
    "fig, ax = plt.subplots(1,1)\n",
    "\n",
    "#tract_shapes_gdf.plot(color='darkgreen', edgecolor='white', ax=ax)\n",
    "\n",
    "water_gdf = geopandas.read_file(shapefile_basedir+'water/water.shp')\n",
    "water_gdf = water_gdf.to_crs(tract_shapes_gdf.crs)\n",
    "\n",
    "tract_shapes_gdf = geopandas.overlay(tract_shapes_gdf, water_gdf[water_gdf['NAME'] == 'Harbor'], how='difference')\n",
    "\n",
    "tract_shapes_gdf.plot(ax=ax, color='red', edgecolor='white')\n",
    "\n",
    "print('backing up...')\n",
    "tract_shapes_gdf_bk = tract_shapes_gdf\n",
    "\n",
    "print('Done!')\n",
    "\n",
    "plt.show()\n"
   ]
  },
  {
   "cell_type": "markdown",
   "metadata": {},
   "source": [
    "## Join shapefiles onto loan data"
   ]
  },
  {
   "cell_type": "code",
   "execution_count": null,
   "metadata": {},
   "outputs": [],
   "source": [
    "print('retrieving from backup...')\n",
    "all_loans_df = all_loans_df_bk\n",
    "tract_shapes_gdf = tract_shapes_gdf_bk\n",
    "\n",
    "all_loans_df = all_loans_df.join(tract_shapes_gdf, how='left')#, lsuffix='_loans', rsuffix='_shapes')#[['GEOID_loans', 'GEOID_shapes']]\n",
    "all_loans_gdf = geopandas.GeoDataFrame(all_loans_df, crs=tract_shapes_gdf.crs)\n",
    "\n",
    "print('backing up...')\n",
    "all_loans_gdf_bk = all_loans_gdf\n",
    "\n",
    "print('ok')\n"
   ]
  },
  {
   "cell_type": "markdown",
   "metadata": {},
   "source": [
    "# PLOT!"
   ]
  },
  {
   "cell_type": "code",
   "execution_count": null,
   "metadata": {
    "scrolled": false
   },
   "outputs": [],
   "source": [
    "print('getting from backup...')\n",
    "all_loans_gdf = all_loans_gdf_bk\n",
    "\n",
    "scale = 2\n",
    "\n",
    "fig, ax = plt.subplots(1,1,figsize=(20*scale,20*scale))\n",
    "plt.title('Total working loans per small business job by census tract (with 11+ jobs), 2011-2017', fontsize=24*scale)\n",
    "\n",
    "all_loans_gdf.plot(ax=ax, color='pink') # show nans as pink\n",
    "\n",
    "all_loans_gdf[\n",
    "    all_loans_gdf['amtWorkingLoans_per_sbjob2015_adj'].notnull()\n",
    "].plot(column='amtWorkingLoans_per_sbjob2015_adj', ax=ax, cmap='viridis')\n",
    "\n",
    "\n",
    "for ix, thisrow in all_loans_gdf[all_loans_gdf['amtWorkingLoans_per_sbjob2015_adj'].notnull()].iterrows():\n",
    "    annotator = str(ix).replace('-', '- ')\n",
    "    annotator = annotator.replace('/', '/ ')\n",
    "    annotator = annotator.replace(' ', '\\n')\n",
    "    if (thisrow['amtWorkingLoans_per_sbjob2015_adj'] > 0):\n",
    "        annotator += '\\n'\n",
    "        annotator += '${:,.0f}'.format(thisrow['amtWorkingLoans_per_sbjob2015_adj'])\n",
    "    annotator = annotator.upper()\n",
    "    ax.annotate(annotator, \n",
    "                xy=(thisrow.geometry.centroid.x, thisrow.geometry.centroid.y), \n",
    "                xytext=(thisrow.geometry.centroid.x, thisrow.geometry.centroid.y), \n",
    "                ha='center', va='center', fontsize=8*scale, color='black', \n",
    "                backgroundcolor='white')\n",
    "\n",
    "ax.tick_params(axis='both', which='both', bottom=False, top=False, left=False, right=False, labelbottom=False, labelleft=False)\n",
    "\n",
    "cax = fig.add_axes([0.125, 0.08, 0.775, 0.03])\n",
    "#print(all_loans_gdf['amtWorkingLoans_per_sbjob2015_adj'].max()) # $254,879\n",
    "sm = plt.cm.ScalarMappable(cmap='cividis', norm=plt.Normalize(vmin=0, vmax=all_loans_gdf['amtWorkingLoans_per_sbjob2015_adj'].max()))\n",
    "#sm = plt.cm.ScalarMappable(cmap='viridis', norm=plt.Normalize(vmin=0, vmax=300000))\n",
    "## fake up the array of the scalar mappable. Urgh...\n",
    "sm._A = []\n",
    "\n",
    "cbar = fig.colorbar(sm, cax=cax, format='$%.0f', ticks=np.arange(0, all_loans_gdf['amtWorkingLoans_per_sbjob2015_adj'].max(), 50000), orientation='horizontal')\n",
    "\n",
    "cax.tick_params(labelsize=18*scale)\n",
    "\n",
    "cbar.set_label('Average total of working loans per job (2017USD)', fontsize=20*scale)\n",
    "\n",
    "plt.savefig(figdir+'loans_per_sbjob_all_years_by_tract_11jobs.svg', format='svg')\n",
    "print('Figure saved!')\n",
    "\n",
    "#plt.show()\n"
   ]
  },
  {
   "cell_type": "code",
   "execution_count": null,
   "metadata": {
    "scrolled": false
   },
   "outputs": [],
   "source": []
  },
  {
   "cell_type": "markdown",
   "metadata": {},
   "source": [
    "## Investigate weird value at tract 2803.02"
   ]
  },
  {
   "cell_type": "code",
   "execution_count": null,
   "metadata": {},
   "outputs": [],
   "source": [
    "loans_by_tract_gdf.loc[2803.02]"
   ]
  },
  {
   "cell_type": "markdown",
   "metadata": {},
   "source": [
    "# CENSUS DATA STUFF - COME BACK TO THIS!"
   ]
  },
  {
   "cell_type": "code",
   "execution_count": null,
   "metadata": {},
   "outputs": [],
   "source": [
    "def find_pop_white_pct(row):\n",
    "    try:\n",
    "        return pandas.to_numeric(row['pop_white'] / row['pop_total'], errors='coerce')\n",
    "    except ZeroDivisionError:\n",
    "        return np.nan\n",
    "def find_pop_black_pct(row):\n",
    "    try:\n",
    "        return pandas.to_numeric(row['pop_black'] / row['pop_total'], errors='coerce')\n",
    "    except ZeroDivisionError:\n",
    "        return np.nan\n",
    "\n",
    "def find_white_householder_pct(row):\n",
    "    try:\n",
    "        return pandas.to_numeric(row['white_householder'] / row['total_householders'], errors='coerce')\n",
    "    except ZeroDivisionError:\n",
    "        return np.nan\n",
    "def find_black_householder_pct(row):\n",
    "    try:\n",
    "        return pandas.to_numeric(row['black_householder'] / row['total_householders'], errors='coerce')\n",
    "    except ZeroDivisionError:\n",
    "        return np.nan\n",
    "def find_female_householder_pct(row):\n",
    "    try:\n",
    "        return pandas.to_numeric(row['female_householder'] / row['total_householders'], errors='coerce')\n",
    "    except ZeroDivisionError:\n",
    "        return np.nan\n",
    "\n",
    "def find_hs_grad_25plus_pct(row):\n",
    "    try:\n",
    "        return pandas.to_numeric(row['hs_grad_25plus'] / row['pop_25plus'], errors='coerce')\n",
    "    except ZeroDivisionError:\n",
    "        return np.nan\n",
    "def find_unemployed_16plus_pct(row):\n",
    "    try:\n",
    "        return pandas.to_numeric(row['unemployed_16plus'] / row['labor_force_16plus'], errors='coerce')\n",
    "    except ZeroDivisionError:\n",
    "        return np.nan\n",
    "def find_poverty_past_12_months_pct(row):\n",
    "    try:\n",
    "        return pandas.to_numeric(row['poverty_past_12_months'] / row['poverty_status_known_last12months_total'], errors='coerce')\n",
    "    except ZeroDivisionError:\n",
    "        return np.nan\n",
    "    \n",
    "print('Defined functions to calculate percentages!')\n",
    "print('ok')"
   ]
  },
  {
   "cell_type": "code",
   "execution_count": null,
   "metadata": {
    "scrolled": false
   },
   "outputs": [],
   "source": [
    "census_2017_df = df[census_columns][df['activity_year'] == 2017]\n",
    "census_2017_df = census_2017_df.set_index('census_tract')\n",
    "\n",
    "print('\\ncalculating percentages...')\n",
    "print('...white...')\n",
    "census_2017_df = census_2017_df.assign(pop_white_pct = pandas.to_numeric(census_2017_df.apply(lambda row: find_pop_white_pct(row), axis=1), errors='coerce'))\n",
    "print('...black...')\n",
    "census_2017_df = census_2017_df.assign(census_2017_df = pandas.to_numeric(census_2017_df.apply(lambda row: find_pop_black_pct(row), axis=1), errors='coerce'))\n",
    "print('...white householder...')\n",
    "census_2017_df = census_2017_df.assign(white_householder_pct = pandas.to_numeric(census_2017_df.apply(lambda row: find_white_householder_pct(row), axis=1), errors='coerce'))\n",
    "print('...black householder...')\n",
    "census_2017_df = census_2017_df.assign(census_2017_df = pandas.to_numeric(census_2017_df.apply(lambda row: find_black_householder_pct(row), axis=1), errors='coerce'))\n",
    "print('...female householder...')\n",
    "census_2017_df = census_2017_df.assign(female_householder_pct = pandas.to_numeric(census_2017_df.apply(lambda row: find_female_householder_pct(row), axis=1), errors='coerce'))\n",
    "\n",
    "print('...hs graduates age 25 and over...')\n",
    "census_2017_df = census_2017_df.assign(hs_grad_25plus_pct = pandas.to_numeric(census_2017_df.apply(lambda row: find_hs_grad_25plus_pct(row), axis=1), errors='coerce'))\n",
    "print('...unemployed age 16 and over...')\n",
    "census_2017_df = census_2017_df.assign(unemployed_16plus_pct = pandas.to_numeric(census_2017_df.apply(lambda row: find_unemployed_16plus_pct(row), axis=1), errors='coerce'))\n",
    "print('...poverty status last 12 months...')\n",
    "census_2017_df = census_2017_df.assign(poverty_past_12_months_pct = pandas.to_numeric(census_2017_df.apply(lambda row: find_poverty_past_12_months_pct(row), axis=1), errors='coerce'))\n",
    "\n",
    "census_2017_df\n",
    "\n",
    "#df"
   ]
  },
  {
   "cell_type": "code",
   "execution_count": null,
   "metadata": {},
   "outputs": [],
   "source": [
    "print('getting from backup...')\n",
    "reinvestment_df = reinvestment_df_bk\n",
    "\n",
    "# compare to pop_total: pop_white, pop_black\n",
    "# compare to total_householders: black_householder, white_householder, female_householder\n",
    "# compare to pop_25plus: hs_grad_25plus\n",
    "# compare to labor_force_16plus: unemployed_16plus\n",
    "# compare to poverty_status_known_last12months_total: poverty_past_12_months\n",
    "\n",
    "print('\\ncalculating percentages...')\n",
    "print('...white...')\n",
    "reinvestment_df = reinvestment_df.assign(pop_white_pct = reinvestment_df.apply(lambda row: find_pop_white_pct(row), axis=1))\n",
    "print('...black...')\n",
    "reinvestment_df = reinvestment_df.assign(pop_black_pct = reinvestment_df.apply(lambda row: find_pop_black_pct(row), axis=1))\n",
    "print('...white householder...')\n",
    "reinvestment_df = reinvestment_df.assign(white_householder_pct = reinvestment_df.apply(lambda row: find_white_householder_pct(row), axis=1))\n",
    "print('...black householder...')\n",
    "reinvestment_df = reinvestment_df.assign(black_householder_pct = reinvestment_df.apply(lambda row: find_black_householder_pct(row), axis=1))\n",
    "print('...female householder...')\n",
    "reinvestment_df = reinvestment_df.assign(female_householder_pct = reinvestment_df.apply(lambda row: find_female_householder_pct(row), axis=1))\n",
    "\n",
    "print('...hs graduates age 25 and over...')\n",
    "reinvestment_df = reinvestment_df.assign(hs_grad_25plus_pct = reinvestment_df.apply(lambda row: find_hs_grad_25plus_pct(row), axis=1))\n",
    "print('...unemployed age 16 and over...')\n",
    "reinvestment_df = reinvestment_df.assign(unemployed_16plus_pct = reinvestment_df.apply(lambda row: find_unemployed_16plus_pct(row), axis=1))\n",
    "print('...poverty status last 12 months...')\n",
    "reinvestment_df = reinvestment_df.assign(poverty_past_12_months_pct = reinvestment_df.apply(lambda row: find_poverty_past_12_months_pct(row), axis=1))\n",
    "\n",
    "print('\\nbacking up...')\n",
    "reinvestment_df_bk = reinvestment_df\n",
    "\n",
    "percentified_vars = ['pop_white_pct', 'pop_black_pct', 'white_householder_pct', 'black_householder_pct', 'hs_grad_25plus_pct', 'unemployed_16plus_pct', 'poverty_past_12_months_pct']\n",
    "#reinvestment_df[percentified_vars]\n",
    "print('ok')\n",
    "#reinvestment_df[vars_for_percentification].sample(1).T"
   ]
  },
  {
   "cell_type": "code",
   "execution_count": null,
   "metadata": {},
   "outputs": [],
   "source": []
  },
  {
   "cell_type": "code",
   "execution_count": null,
   "metadata": {},
   "outputs": [],
   "source": []
  },
  {
   "cell_type": "code",
   "execution_count": null,
   "metadata": {},
   "outputs": [],
   "source": []
  },
  {
   "cell_type": "code",
   "execution_count": null,
   "metadata": {},
   "outputs": [],
   "source": []
  },
  {
   "cell_type": "markdown",
   "metadata": {},
   "source": [
    "## Read some other datasets useful for mapping"
   ]
  },
  {
   "cell_type": "code",
   "execution_count": null,
   "metadata": {},
   "outputs": [],
   "source": [
    "print('Reading city boundary...')\n",
    "outline_filename = shapefile_basedir + 'baltimore_city_polygon/baltimore_city_polygon.shp'\n",
    "city_outline_gdf = geopandas.read_file(outline_filename)\n",
    "city_outline_gdf = city_outline_gdf.to_crs(tract_shapes_gdf.crs)\n",
    "\n",
    "print('Reading water features...')\n",
    "water_filename = shapefile_basedir + 'water/water.shp'\n",
    "water_gdf = geopandas.read_file(water_filename)\n",
    "water_gdf = water_gdf.set_index('OBJECTID')\n",
    "water_gdf = water_gdf.to_crs(tract_shapes_gdf.crs)\n",
    "\n",
    "\n",
    "#print('Finding location of JHU...')\n",
    "#businesses = []\n",
    "#biz1dict = {'name': 'Johns Hopkins University', 'address': '3400 N. Charles St. Baltimore, MD'}\n",
    "##businesses.append(biz1dict)\n",
    "##biz2dict = {'name': 'Refereshing Life Ministries', 'address': '2603 Baker St. Baltimore, MD'}\n",
    "##businesses.append(biz2dict)\n",
    "#g = geocoder.bing(biz1dict['address'], key='Agrc_VFxa6iK3mVYNIC1Mcao2TwVTPG5tDbok7UbDcCYf5PRGmnaeLF_Wm_znHeo')\n",
    "#thegeometry = Point(g.latlng)\n",
    "#g_df = pandas.DataFrame(data=g.latlng)\n",
    "#g_df = g_df.T\n",
    "#g_df = g_df.rename(columns={0: 'lat', 1: 'long'})\n",
    "#g_df = g_df.assign(geometry=Point(g_df['long'], g_df['lat']))\n",
    "#g_gdf = geopandas.GeoDataFrame(data=g_df, geometry='geometry')\n",
    "#g_gdf.crs = {'init': 'epsg:4326'}\n",
    "#g_gdf = g_gdf.to_crs(tract_shapes_gdf.crs)\n",
    "\n",
    "print('Reading streets...')\n",
    "s = time.time()\n",
    "streets_filename = shapefile_basedir + 'streets/streetcl.shp'\n",
    "streets_gdf = geopandas.read_file(streets_filename)\n",
    "streets_gdf = streets_gdf.set_index('OBJECTID')\n",
    "streets_gdf = streets_gdf.to_crs(tract_shapes_gdf.crs)\n",
    "e = time.time()\n",
    "print('Read {0:,.0f} street centerlines in {1:,.1f} seconds.'.format(len(streets_gdf), e-s))\n",
    "\n",
    "print('Done!')\n",
    "#g_gdf\n"
   ]
  },
  {
   "cell_type": "code",
   "execution_count": null,
   "metadata": {},
   "outputs": [],
   "source": []
  },
  {
   "cell_type": "code",
   "execution_count": null,
   "metadata": {},
   "outputs": [],
   "source": [
    "print('getting from backup...')\n",
    "df = df_bk\n",
    "\n",
    "scale = 1#0.25\n",
    "\n",
    "fig, ax = plt.subplots(1,1, figsize=(48*scale,48*scale))\n",
    "\n",
    "xdf = df.xs(thisyear, level=1).reset_index().merge(tract_shapes_gdf, how='left', on='census_tract').set_index('census_tract')\n",
    "\n",
    "xdf = xdf[xdf['amtWorkingLoans_per_sbjob_adj'] != np.inf]\n",
    "\n",
    "xgdf = geopandas.GeoDataFrame(xdf)\n",
    "xgdf.crs = tract_shapes_gdf.crs    \n",
    "\n",
    "xgdf.plot(column='amtWorkingLoans_per_sbjob_adj', ax=ax)\n",
    "water_gdf.plot(ax=ax, color='white')\n",
    "\n",
    "ax.set_aspect('equal')\n",
    "ax.tick_params(axis='both', which='both', bottom=False, top=False, left=False, right=False, labelbottom=False, labeltop=False, labelleft=False, labelright=False)\n",
    "ax.set_title('Working loans per small business job (0-19 employees) in {:.0f}'.format(thisyear), fontsize=64*scale)\n",
    "\n",
    "for ix, thisrow in xgdf.iterrows():\n",
    "    if (thisrow['amtWorkingLoans_per_sbjob_adj'] > 0):\n",
    "        annotator = str(ix).replace('-', '- ')\n",
    "        annotator = annotator.replace('/', '/ ')\n",
    "        annotator = annotator.replace(' ', '\\n')\n",
    "        annotator += '\\n'\n",
    "        annotator += '${:,.0f}'.format(thisrow['amtWorkingLoans_per_sbjob_adj'])\n",
    "        annotator = annotator.upper()\n",
    "        ax.annotate(annotator, \n",
    "                    xy=(thisrow.geometry.centroid.x, thisrow.geometry.centroid.y), \n",
    "                    xytext=(thisrow.geometry.centroid.x, thisrow.geometry.centroid.y), \n",
    "                    ha='center', va='center', fontsize=24*scale, color='black', \n",
    "                    fontweight='bold', backgroundcolor='white')\n",
    "\n",
    "cax = fig.add_axes([0.125, 0.08, 0.775, 0.03])\n",
    "sm = plt.cm.ScalarMappable(cmap='viridis', norm=plt.Normalize(vmin=0, vmax=90000))\n",
    "# fake up the array of the scalar mappable. Urgh...\n",
    "sm._A = []\n",
    "\n",
    "cbar = fig.colorbar(sm, cax=cax, format='%.0f', ticks=np.arange(0, 90001, 10000), orientation='horizontal')\n",
    "\n",
    "cax.tick_params(labelsize=48*scale)\n",
    "\n",
    "cbar.set_label('Average total of working loans per job (2017USD)', fontsize=56*scale)\n",
    "\n",
    "plt.savefig(mapdir+'2017_sb.svg', format='svg')\n",
    "print('done')\n",
    "#plt.show()\n"
   ]
  },
  {
   "cell_type": "code",
   "execution_count": null,
   "metadata": {},
   "outputs": [],
   "source": [
    "xdf['amtWorkingLoans_per_sbjob_adj'].max()"
   ]
  },
  {
   "cell_type": "code",
   "execution_count": null,
   "metadata": {},
   "outputs": [],
   "source": [
    "df.columns"
   ]
  },
  {
   "cell_type": "code",
   "execution_count": null,
   "metadata": {},
   "outputs": [],
   "source": []
  }
 ],
 "metadata": {
  "kernelspec": {
   "display_name": "Python 3",
   "language": "python",
   "name": "python3"
  },
  "language_info": {
   "codemirror_mode": {
    "name": "ipython",
    "version": 3
   },
   "file_extension": ".py",
   "mimetype": "text/x-python",
   "name": "python",
   "nbconvert_exporter": "python",
   "pygments_lexer": "ipython3",
   "version": "3.6.6"
  }
 },
 "nbformat": 4,
 "nbformat_minor": 2
}
