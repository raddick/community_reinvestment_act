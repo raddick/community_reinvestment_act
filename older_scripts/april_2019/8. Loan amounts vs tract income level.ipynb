{
 "cells": [
  {
   "cell_type": "code",
   "execution_count": 1,
   "metadata": {},
   "outputs": [
    {
     "name": "stdout",
     "output_type": "stream",
     "text": [
      "ok\n"
     ]
    }
   ],
   "source": [
    "import numpy as np\n",
    "import pandas\n",
    "from matplotlib import pyplot as plt\n",
    "from IPython.display import display, HTML\n",
    "thisdir = '/home/idies/workspace/Storage/raddick/Baltimore/community_reinvestment_act/'\n",
    "datadir = thisdir + 'datasets_for_analysis/'\n",
    "\n",
    "print('ok')"
   ]
  },
  {
   "cell_type": "code",
   "execution_count": 2,
   "metadata": {},
   "outputs": [
    {
     "name": "stdout",
     "output_type": "stream",
     "text": [
      "backing up...\n",
      "ok\n"
     ]
    }
   ],
   "source": [
    "df = pandas.read_csv(datadir+'reinvestment_by_census_tract_for_smallest_businesses.csv', encoding='utf-8')#, index_col=['census_tract', 'activity_year'])\n",
    "census_tract_list = df['census_tract'].dropna().drop_duplicates().sort_values().tolist()\n",
    "\n",
    "census_tracts_df = pandas.DataFrame(census_tract_list, columns=['census_tract'])\n",
    "census_tracts_df = census_tracts_df.set_index('census_tract')\n",
    "census_tracts_df = census_tracts_df.assign(nYears = df.groupby('census_tract').size())\n",
    "\n",
    "loan_columns = [x for x in df.columns.tolist() if (('nLoans' in x or 'amtLoans' in x or 'nWorking' in x or 'amtWorking' in x) and ('per_sbjob' not in x))]\n",
    "\n",
    "census_tracts_df = census_tracts_df.join(df.groupby('census_tract')[loan_columns].sum(), how='left')\n",
    "\n",
    "census_tracts_df = census_tracts_df.join(df[['census_tract', 'Number of jobs for workers at firms with Firm Size: 0-19 Employees']][df['activity_year'] == 2015].set_index('census_tract'), how='left')\n",
    "census_tracts_df = census_tracts_df.rename(columns = {'Number of jobs for workers at firms with Firm Size: 0-19 Employees': 'sbjobs_2015'})\n",
    "census_tracts_df = census_tracts_df.join(df[['census_tract', 'income_group_code', 'income_group', 'cra_level']][df['activity_year'] == 2017].set_index('census_tract'), how='left')\n",
    "\n",
    "cra_level_df = pandas.DataFrame(census_tracts_df[census_tracts_df['nYears'] == 7].groupby('cra_level').size(), columns=['nTracts'])\n",
    "cra_level_df = cra_level_df.join(census_tracts_df[census_tracts_df['nYears'] == 7].groupby('cra_level')[loan_columns].sum(), how='left')\n",
    "cra_level_df = cra_level_df.join(census_tracts_df[census_tracts_df['nYears'] == 7].groupby('cra_level')['sbjobs_2015'].sum(), how='left')\n",
    "\n",
    "cra_level_df = cra_level_df.assign(nLoans1_per_sbjob = cra_level_df['nLoans1'] / cra_level_df['sbjobs_2015'])\n",
    "cra_level_df = cra_level_df.assign(amtLoans1_adj_per_sbjob = cra_level_df['amtLoans1_adj'] / cra_level_df['sbjobs_2015'])\n",
    "cra_level_df = cra_level_df.assign(nLoans100k_per_sbjob = cra_level_df['nLoans100k'] / cra_level_df['sbjobs_2015'])\n",
    "cra_level_df = cra_level_df.assign(amtLoans100k_adj_per_sbjob = cra_level_df['amtLoans100k_adj'] / cra_level_df['sbjobs_2015'])\n",
    "cra_level_df = cra_level_df.assign(nLoans250k_per_sbjob = cra_level_df['nLoans250k'] / cra_level_df['sbjobs_2015'])\n",
    "cra_level_df = cra_level_df.assign(amtLoans250k_adj_per_sbjob = cra_level_df['amtLoans250k_adj'] / cra_level_df['sbjobs_2015'])\n",
    "cra_level_df = cra_level_df.assign(nLoansToSmallest_per_sbjob = cra_level_df['nLoansToSmallest'] / cra_level_df['sbjobs_2015'])\n",
    "cra_level_df = cra_level_df.assign(amtLoansToSmallest_adj_per_sbjob = cra_level_df['amtLoansToSmallest_adj'] / cra_level_df['sbjobs_2015'])\n",
    "cra_level_df = cra_level_df.assign(nLoansTotal_per_sbjob = cra_level_df['nLoansTotal'] / cra_level_df['sbjobs_2015'])\n",
    "cra_level_df = cra_level_df.assign(amtLoansTotal_adj_per_sbjob = cra_level_df['amtLoansTotal_adj'] / cra_level_df['sbjobs_2015'])\n",
    "cra_level_df = cra_level_df.assign(nWorkingLoans_per_sbjob = cra_level_df['nWorkingLoans'] / cra_level_df['sbjobs_2015'])\n",
    "cra_level_df = cra_level_df.assign(amtWorkingLoans_adj_per_sbjob = cra_level_df['amtWorkingLoans_adj'] / cra_level_df['sbjobs_2015'])\n",
    "\n",
    "print('backing up...')\n",
    "cra_level_df_bk = cra_level_df\n",
    "print('ok')\n"
   ]
  },
  {
   "cell_type": "code",
   "execution_count": 3,
   "metadata": {},
   "outputs": [
    {
     "name": "stdout",
     "output_type": "stream",
     "text": [
      "retrieving from backup...\n"
     ]
    },
    {
     "data": {
      "text/html": [
       "<table><tr><th>CRA level</th><th>Tracts</th><th>Amount of working loans</th><th>Small business jobs</th><th>Amt working loans per sb job</th></tr><tr><td>low</td><td>77</td><td>$435,503,551</td><td>7,617</td><td>$57,175</td></tr><tr><td>middle</td><td>27</td><td>$535,115,476</td><td>9,443</td><td>$56,668</td></tr><tr><td>moderate</td><td>61</td><td>$451,566,089</td><td>8,988</td><td>$50,241</td></tr><tr><td>upper</td><td>18</td><td>$340,691,128</td><td>6,202</td><td>$54,932</td></tr></table>"
      ],
      "text/plain": [
       "<IPython.core.display.HTML object>"
      ]
     },
     "metadata": {},
     "output_type": "display_data"
    },
    {
     "data": {
      "image/png": "[encoded data removed]",
      "text/plain": [
       "<Figure size 432x288 with 1 Axes>"
      ]
     },
     "metadata": {
      "needs_background": "light"
     },
     "output_type": "display_data"
    }
   ],
   "source": [
    "print('retrieving from backup...')\n",
    "cra_level_df = cra_level_df_bk\n",
    "thehtml = '<table>'\n",
    "thehtml += '<tr><th>CRA level</th><th>Tracts</th><th>Amount of working loans</th><th>Small business jobs</th><th>Amt working loans per sb job</th></tr>'\n",
    "\n",
    "\n",
    "for ix, thisrow in cra_level_df.iterrows():\n",
    "    if (ix != 'unknown'):\n",
    "        thehtml += '<tr>'\n",
    "        thehtml += '<td>{0:}</td>'.format(ix)\n",
    "        thehtml += '<td>{0:.0f}</td>'.format(thisrow['nTracts'])\n",
    "        thehtml += '<td>${0:,.0f}</td>'.format(thisrow['amtWorkingLoans_adj'])\n",
    "        thehtml += '<td>{0:,.0f}</td>'.format(thisrow['sbjobs_2015'])\n",
    "        thehtml += '<td>${0:,.0f}</td>'.format(thisrow['amtWorkingLoans_adj_per_sbjob'])\n",
    "        thehtml += '</tr>'\n",
    "thehtml += '</table>'\n",
    "\n",
    "display(HTML(thehtml))\n",
    "\n",
    "fig, ax = plt.subplots(1,1)\n",
    "cra_level_df[cra_level_df.index != 'unknown'].plot(y = 'amtWorkingLoans_adj_per_sbjob', ax=ax, marker='.', ms=10)\n",
    "#plt.xticks(cra_level_df.index.values.tolist())\n",
    "plt.xlabel('CRA income level', fontsize=14)\n",
    "plt.xticks(np.arange(0,4), cra_level_df.index.tolist())\n",
    "plt.ylim([50000,58000])\n",
    "plt.ylabel('Working loan amount\\nper small business job\\n(USD2017)', fontsize=14)\n",
    "ax.get_legend().remove()\n",
    "plt.show()\n",
    "\n",
    "\n",
    "    "
   ]
  },
  {
   "cell_type": "code",
   "execution_count": 5,
   "metadata": {},
   "outputs": [
    {
     "data": {
      "text/plain": [
       "Index(['nYears', 'nLoans1', 'amtLoans1', 'nLoans100k', 'amtLoans100k',\n",
       "       'nLoans250k', 'amtLoans250k', 'nLoansToSmallest', 'amtLoansToSmallest',\n",
       "       'nLoansTotal', 'amtLoansTotal', 'nWorkingLoans', 'amtWorkingLoans',\n",
       "       'amtLoans1_adj', 'amtLoans100k_adj', 'amtLoans250k_adj',\n",
       "       'amtLoansToSmallest_adj', 'amtLoansTotal_adj', 'amtWorkingLoans_adj',\n",
       "       'sbjobs_2015', 'income_group_code', 'income_group', 'cra_level'],\n",
       "      dtype='object')"
      ]
     },
     "execution_count": 5,
     "metadata": {},
     "output_type": "execute_result"
    }
   ],
   "source": [
    "census_tracts_df.columns"
   ]
  },
  {
   "cell_type": "code",
   "execution_count": null,
   "metadata": {
    "scrolled": false
   },
   "outputs": [],
   "source": [
    "\n",
    "#print('backing up...')\n",
    "df = df[[x for x in df.columns.tolist() if 'per_sbjob' not in x]]\n",
    "#df = df[df.columns.tolist()[:-26]]\n",
    "\n",
    "reference_columns = ['census_tract', 'activity_year']\n",
    "\n",
    "cra_info_columns = ['CSA2010', 'income_group_code', 'income_group', 'cra_level']\n",
    "\n",
    "loan_columns = [x for x in df.columns.tolist() if ('nLoans' in x or 'amtLoans' in x)]\n",
    "\n",
    "get_columns = reference_columns + cra_info_columns + loan_columns\n",
    "\n",
    "print('backing up...')\n",
    "df_bk = df\n",
    "print('ok')\n",
    "#df[get_columns]\n",
    "\n",
    "\n"
   ]
  },
  {
   "cell_type": "code",
   "execution_count": null,
   "metadata": {},
   "outputs": [],
   "source": [
    "print('getting from backup...') \n",
    "df = df_bk\n",
    "\n",
    "#in2015_df = df[['census_tract', 'CSA2010', 'income_group_code', 'income_group', 'cra_level', 'Number of jobs for workers at firms with Firm Size: 0-19 Employees']][\n",
    "#    df['activity_year'] == 2015\n",
    "#].set_index('census_tract')\n",
    "\n",
    "in2015_df.index.tolist()\n"
   ]
  },
  {
   "cell_type": "code",
   "execution_count": null,
   "metadata": {
    "scrolled": false
   },
   "outputs": [],
   "source": [
    "\n",
    "df.columns.tolist()\n",
    "#df.set_index('census_tract').join(in2015_df, how='left')\n",
    "\n",
    "columns_to_sum = ['nLoans1', 'amtLoans1', 'nLoans100k', 'amtLoans100k', 'nLoans250k', 'amtLoans250k']\n",
    "columns_to_sum += ['nLoansToSmallest', 'amtLoansToSmallest', 'nLoansTotal', 'amtLoansTotal', 'nWorkingLoans', 'amtWorkingLoans']\n",
    "columns_to_sum += ['amtLoans1_adj', 'amtLoans100k_adj', 'amtLoans250k_adj', 'amtLoansToSmallest_adj']\n",
    "columns_to_sum += ['amtLoansTotal_adj', 'amtWorkingLoans_adj']\n",
    "\n",
    "summed_df = df.groupby('census_tract')[columns_to_sum].sum().join(in2015_df, how='left')\n",
    "\n",
    "summed_df = summed_df.rename(columns={'income_group_code': 'income_group_code_2015', 'income_group': 'income_group_2015', 'cra_level': 'cra_level_2015', 'Number of jobs for workers at firms with Firm Size: 0-19 Employees': 'sbjobs2015'})\n",
    "summed_df = summed_df.assign(nLoans1_per_sbjob = summed_df['nLoans1'] / summed_df['sbjobs2015'])\n",
    "summed_df = summed_df.assign(amtLoans1_adj_per_sbjob = summed_df['amtLoans1_adj'] / summed_df['sbjobs2015'])\n",
    "summed_df = summed_df.assign(nLoans100k_per_sbjob = summed_df['nLoans100k'] / summed_df['sbjobs2015'])\n",
    "summed_df = summed_df.assign(amtLoans100k_adj_per_sbjob = summed_df['amtLoans100k_adj'] / summed_df['sbjobs2015'])\n",
    "summed_df = summed_df.assign(nLoans250k_per_sbjob = summed_df['nLoans250k'] / summed_df['sbjobs2015'])\n",
    "summed_df = summed_df.assign(amtLoans250k_adj_per_sbjob = summed_df['amtLoans250k_adj'] / summed_df['sbjobs2015'])\n",
    "summed_df = summed_df.assign(nLoansToSmallest_per_sbjob = summed_df['nLoansToSmallest'] / summed_df['sbjobs2015'])\n",
    "summed_df = summed_df.assign(amtLoansToSmallest_adj_per_sbjob = summed_df['amtLoansToSmallest_adj'] / summed_df['sbjobs2015'])\n",
    "summed_df = summed_df.assign(nLoansTotal_per_sbjob = summed_df['nLoansTotal'] / summed_df['sbjobs2015'])\n",
    "summed_df = summed_df.assign(amtLoansTotal_adj_per_sbjob = summed_df['amtLoansTotal_adj'] / summed_df['sbjobs2015'])\n",
    "summed_df = summed_df.assign(nWorkingLoans_per_sbjob = summed_df['nWorkingLoans'] / summed_df['sbjobs2015'])\n",
    "summed_df = summed_df.assign(amtWorkingLoans_adj_per_sbjob = summed_df['amtWorkingLoans_adj'] / summed_df['sbjobs2015'])\n",
    "\n",
    "summed_df['nLoans1_per_sbjob'].dropna()\n",
    "\n",
    "\n",
    "    "
   ]
  },
  {
   "cell_type": "code",
   "execution_count": null,
   "metadata": {},
   "outputs": [],
   "source": [
    "\n",
    "\n",
    "cra_level_df = pandas.DataFrame(summed_df.groupby('cra_level_2015').size(), columns=['nTracts'])\n",
    "\n",
    "cra_level_df = cra_level_df.assign(nLoans1_per_sbjob = summed_df.groupby('cra_level_2015')['nLoans1_per_sbjob'].sum())\n",
    "'''\n",
    "cra_level_df = cra_level_df.assign(nLoans100k = df.groupby('cra_level')['nLoans100k'].sum())\n",
    "cra_level_df = cra_level_df.assign(nLoans250k = df.groupby('cra_level')['nLoans250k'].sum())\n",
    "cra_level_df = cra_level_df.assign(nLoansToSmallest = df.groupby('cra_level')['nLoansToSmallest'].sum())\n",
    "cra_level_df = cra_level_df.assign(nLoansTotal = df.groupby('cra_level')['nLoansTotal'].sum())\n",
    "cra_level_df = cra_level_df.assign(nWorkingLoans = df.groupby('cra_level')['nWorkingLoans'].sum())#\n",
    "\n",
    "cra_level_df = cra_level_df.assign(amtLoans1_adj = df.groupby('cra_level')['amtLoans1_adj'].sum())\n",
    "cra_level_df = cra_level_df.assign(amtLoans100k_adj = df.groupby('cra_level')['amtLoans100k_adj'].sum())\n",
    "cra_level_df = cra_level_df.assign(amtLoans250k_adj = df.groupby('cra_level')['amtLoans250k_adj'].sum())\n",
    "cra_level_df = cra_level_df.assign(amtLoansToSmallest_adj = df.groupby('cra_level')['amtLoansToSmallest_adj'].sum())\n",
    "cra_level_df = cra_level_df.assign(amtLoansTotal_adj = df.groupby('cra_level')['amtLoansTotal_adj'].sum())\n",
    "cra_level_df = cra_level_df.assign(amtWorkingLoans_adj = df.groupby('cra_level')['amtWorkingLoans_adj'].sum())\n",
    "\n",
    "cra_level_df = cra_level_df.drop('unknown', axis=0)\n",
    "'''\n",
    "cra_level_df\n",
    "\n"
   ]
  },
  {
   "cell_type": "code",
   "execution_count": null,
   "metadata": {
    "scrolled": false
   },
   "outputs": [],
   "source": [
    "\n",
    "cra_level_df = cra_level_df.assign(sbjobs = df.groupby('cra_level')['Number of jobs for workers at firms with Firm Size: 0-19 Employees'].sum())\n",
    "\n",
    "cra_level_df = cra_level_df.assign(nLoans1_per_sbjob = cra_level_df['nLoans1'] / cra_level_df['sbjobs'])\n",
    "cra_level_df = cra_level_df.assign(nLoans100k_per_sbjob = cra_level_df['nLoans100k'] / cra_level_df['sbjobs'])\n",
    "cra_level_df = cra_level_df.assign(nLoans250k_per_sbjob = cra_level_df['nLoans250k'] / cra_level_df['sbjobs'])\n",
    "cra_level_df = cra_level_df.assign(nLoansToSmallest_per_sbjob = cra_level_df['nLoansToSmallest'] / cra_level_df['sbjobs'])\n",
    "cra_level_df = cra_level_df.assign(nLoansTotal_per_sbjob = cra_level_df['nLoansTotal'] / cra_level_df['sbjobs'])\n",
    "cra_level_df = cra_level_df.assign(nWorkingLoans_per_sbjob = cra_level_df['nWorkingLoans'] / cra_level_df['sbjobs'])\n",
    "\n",
    "cra_level_df = cra_level_df.assign(amtLoans1_adj_per_sbjob = cra_level_df['amtLoans1_adj'] / cra_level_df['sbjobs'])\n",
    "cra_level_df = cra_level_df.assign(amtLoans100k_adj_per_sbjob = cra_level_df['amtLoans100k_adj'] / cra_level_df['sbjobs'])\n",
    "cra_level_df = cra_level_df.assign(amtLoans250k_adj_per_sbjob = cra_level_df['amtLoans250k_adj'] / cra_level_df['sbjobs'])\n",
    "cra_level_df = cra_level_df.assign(amtLoansToSmallest_adj_per_sbjob = cra_level_df['amtLoansToSmallest_adj'] / cra_level_df['sbjobs'])\n",
    "cra_level_df = cra_level_df.assign(amtLoansTotal_adj_per_sbjob = cra_level_df['amtLoansTotal_adj'] / cra_level_df['sbjobs'])\n",
    "cra_level_df = cra_level_df.assign(amtWorkingLoans_adj_per_sbjob = cra_level_df['amtWorkingLoans_adj'] / cra_level_df['sbjobs'])\n",
    "\n",
    "cra_level_df = cra_level_df.drop('unknown', axis=0)\n",
    "\n",
    "print('Done!')\n",
    "#amtLoans1_adj\tamtLoans100k_adj\tamtLoans250k_adj\tamtLoansToSmallest_adj\tamtLoansTotal_adj"
   ]
  },
  {
   "cell_type": "code",
   "execution_count": null,
   "metadata": {
    "scrolled": false
   },
   "outputs": [],
   "source": []
  },
  {
   "cell_type": "code",
   "execution_count": null,
   "metadata": {},
   "outputs": [],
   "source": []
  }
 ],
 "metadata": {
  "kernelspec": {
   "display_name": "Python 3",
   "language": "python",
   "name": "python3"
  },
  "language_info": {
   "codemirror_mode": {
    "name": "ipython",
    "version": 3
   },
   "file_extension": ".py",
   "mimetype": "text/x-python",
   "name": "python",
   "nbconvert_exporter": "python",
   "pygments_lexer": "ipython3",
   "version": "3.6.6"
  }
 },
 "nbformat": 4,
 "nbformat_minor": 2
}
