{
 "cells": [
  {
   "cell_type": "code",
   "execution_count": null,
   "metadata": {},
   "outputs": [],
   "source": [
    "#!pip install --upgrade pip\n",
    "#!pip install numpy\n",
    "#!pip install pandas\n",
    "#!pip install xlrd"
   ]
  },
  {
   "cell_type": "code",
   "execution_count": null,
   "metadata": {},
   "outputs": [],
   "source": [
    "# Unit of analysis: census tract\n",
    "# DV: nLoans1, amtLoans1, etc. Also: (overall minus \"credit card loans\")\n",
    "#### where credit card loans\" are <$100k to businesses with <$10k budget\n",
    "\n",
    "# IV: [population by race; owner-occupied units; MFI; hs grad pct; \n",
    "### female hoh pct; unemployment pct; poverty pct; median home value;\n",
    "### median home year built"
   ]
  },
  {
   "cell_type": "code",
   "execution_count": 1,
   "metadata": {},
   "outputs": [
    {
     "name": "stdout",
     "output_type": "stream",
     "text": [
      "packages imported...\n",
      "directories set...\n",
      "Done!\n"
     ]
    }
   ],
   "source": [
    "import numpy as np\n",
    "import pandas\n",
    "import os\n",
    "from IPython.display import display, HTML\n",
    "import time\n",
    "print('packages imported...')\n",
    "\n",
    "pandas.set_option('display.max_colwidth', -1)\n",
    "basedir = '/home/idies/workspace/Temporary/raddick/census_scratch/acs5/'\n",
    "vardir = basedir + 'variables/'\n",
    "geodir = basedir + 'geography/'\n",
    "estimates_dir = basedir + 'estimates/'\n",
    "margin_of_error_dir = basedir + 'margin_of_error/'\n",
    "outdir = '/home/idies/workspace/Storage/raddick/Baltimore/community_reinvestment_act/datasets/acs5/'\n",
    "\n",
    "print('directories set...')\n",
    "print('Done!')"
   ]
  },
  {
   "cell_type": "code",
   "execution_count": 3,
   "metadata": {},
   "outputs": [
    {
     "name": "stdout",
     "output_type": "stream",
     "text": [
      "writing outfile...\n",
      "Done!\n"
     ]
    }
   ],
   "source": [
    "metadata_df = pandas.DataFrame()\n",
    "\n",
    "categories = ['demographics', 'ancestry', 'birthplace', 'residence', 'transportation', 'household', 'education']\n",
    "categories += ['language', 'poverty', 'disability', 'income', 'veteran', 'employment', 'housing', 'health', 'qa']\n",
    "for thiscategory in categories:\n",
    "    df = pandas.read_csv(vardir+'variables_acs2017_tract_{0:}.csv'.format(thiscategory))\n",
    "    metadata_df = metadata_df.append(df)\n",
    "metadata_df = metadata_df.drop('0', axis=1)\n",
    "\n",
    "print('writing outfile...')\n",
    "metadata_df.to_csv(outdir+'metadata.csv', encoding='utf-8')\n",
    "print('Done!')"
   ]
  },
  {
   "cell_type": "code",
   "execution_count": 4,
   "metadata": {},
   "outputs": [
    {
     "name": "stdout",
     "output_type": "stream",
     "text": [
      "reading estimates for demographics...\n",
      "reading estimates for ancestry...\n",
      "reading estimates for birthplace...\n",
      "reading estimates for residence...\n",
      "reading estimates for transportation...\n",
      "reading estimates for household...\n",
      "reading estimates for education...\n",
      "reading estimates for language...\n",
      "reading estimates for poverty...\n",
      "reading estimates for disability...\n",
      "reading estimates for income...\n",
      "reading estimates for veteran...\n",
      "reading estimates for employment...\n",
      "reading estimates for housing...\n",
      "reading estimates for health...\n",
      "reading estimates for qa...\n",
      "Read estimates of 27,447 variables for 200 census tracts in 790 seconds!\n",
      "Writing outfile...\n",
      "Wrote outfile in 16 seconds...\n",
      "Done!\n"
     ]
    }
   ],
   "source": [
    "s = time.time()\n",
    "estimates_baltimore_city_tracts_allvars_df = pandas.DataFrame()\n",
    "categories[0]\n",
    "for thiscategory in categories:\n",
    "    print('reading estimates for {0:}...'.format(thiscategory))\n",
    "    df = pandas.read_csv(estimates_dir+'estimates_acs2017_tract_{0:}.csv'.format(thiscategory), low_memory=False, index_col='GEOID')\n",
    "    #df = df.set_index('GEOID')\n",
    "    bdf = df[df.index.map(lambda x: x[0:12] == '14000US24510')] # Find Baltimore City census tracts\n",
    "    estimates_baltimore_city_tracts_allvars_df = pandas.concat((estimates_baltimore_city_tracts_allvars_df, bdf), axis=1)\n",
    "##    metadata_df = metadata_df.append(df)\n",
    "e = time.time()\n",
    "print('Read estimates of {0:,.0f} variables for {1:,.0f} census tracts in {2:.0f} seconds!'.format(estimates_baltimore_city_tracts_allvars_df.shape[1], estimates_baltimore_city_tracts_allvars_df.shape[0], e-s))\n",
    "#baltimore_city_tracts_df.shape[0]\n",
    "print('Writing outfile...')\n",
    "s = time.time()\n",
    "estimates_baltimore_city_tracts_allvars_df.to_csv(outdir+'estimates_baltimore_city_allvars.csv', encoding='utf-8')\n",
    "e = time.time()\n",
    "print('Wrote outfile in {0:,.0f} seconds...'.format(e-s))\n",
    "print('Done!')"
   ]
  },
  {
   "cell_type": "code",
   "execution_count": 5,
   "metadata": {},
   "outputs": [
    {
     "name": "stdout",
     "output_type": "stream",
     "text": [
      "reading margin of error for demographics...\n",
      "reading margin of error for ancestry...\n",
      "reading margin of error for birthplace...\n",
      "reading margin of error for residence...\n",
      "reading margin of error for transportation...\n",
      "reading margin of error for household...\n",
      "reading margin of error for education...\n",
      "reading margin of error for language...\n",
      "reading margin of error for poverty...\n",
      "reading margin of error for disability...\n",
      "reading margin of error for income...\n",
      "reading margin of error for veteran...\n",
      "reading margin of error for employment...\n",
      "reading margin of error for housing...\n",
      "reading margin of error for health...\n",
      "reading margin of error for qa...\n",
      "Read margin of error of 27,447 variables for 200 census tracts in 832 seconds!\n",
      "Writing outfile...\n",
      "Wrote outfile in 16 seconds...\n",
      "Done!\n"
     ]
    }
   ],
   "source": [
    "s = time.time()\n",
    "margin_of_error_baltimore_city_tracts_allvars_df = pandas.DataFrame()\n",
    "categories[0]\n",
    "for thiscategory in categories:\n",
    "    print('reading margin of error for {0:}...'.format(thiscategory))\n",
    "    df = pandas.read_csv(margin_of_error_dir+'margin_of_error_acs2017_tract_{0:}.csv'.format(thiscategory), low_memory=False, index_col='GEOID')\n",
    "    #df = df.set_index('GEOID')\n",
    "    bdf = df[df.index.map(lambda x: x[0:12] == '14000US24510')] # Find Baltimore City census tracts\n",
    "    margin_of_error_baltimore_city_tracts_allvars_df = pandas.concat((margin_of_error_baltimore_city_tracts_allvars_df, bdf), axis=1)\n",
    "##    metadata_df = metadata_df.append(df)\n",
    "e = time.time()\n",
    "print('Read margin of error of {0:,.0f} variables for {1:,.0f} census tracts in {2:.0f} seconds!'.format(margin_of_error_baltimore_city_tracts_allvars_df.shape[1], margin_of_error_baltimore_city_tracts_allvars_df.shape[0], e-s))\n",
    "#baltimore_city_tracts_df.shape[0]\n",
    "print('Writing outfile...')\n",
    "s = time.time()\n",
    "margin_of_error_baltimore_city_tracts_allvars_df.to_csv(outdir+'margin_of_error_baltimore_city_allvars.csv', encoding='utf-8')\n",
    "e = time.time()\n",
    "print('Wrote outfile in {0:,.0f} seconds...'.format(e-s))\n",
    "print('Done!')"
   ]
  },
  {
   "cell_type": "code",
   "execution_count": null,
   "metadata": {},
   "outputs": [],
   "source": []
  }
 ],
 "metadata": {
  "kernelspec": {
   "display_name": "Python 3",
   "language": "python",
   "name": "python3"
  },
  "language_info": {
   "codemirror_mode": {
    "name": "ipython",
    "version": 3
   },
   "file_extension": ".py",
   "mimetype": "text/x-python",
   "name": "python",
   "nbconvert_exporter": "python",
   "pygments_lexer": "ipython3",
   "version": "3.6.6"
  }
 },
 "nbformat": 4,
 "nbformat_minor": 2
}
