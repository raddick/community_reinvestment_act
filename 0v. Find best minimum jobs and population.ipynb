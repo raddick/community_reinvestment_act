{
 "cells": [
  {
   "cell_type": "code",
   "execution_count": 1,
   "metadata": {},
   "outputs": [
    {
     "name": "stdout",
     "output_type": "stream",
     "text": [
      "Importing packages...\n",
      "Now in directory: /home/idies/workspace/Storage/raddick/Baltimore/community_reinvestment_act\n",
      "ok\n"
     ]
    }
   ],
   "source": [
    "# ANALYSIS OPTIONS\n",
    "jobs_lower_limit = 50\n",
    "pop_lower_limit = 1000\n",
    "\n",
    "print('Importing packages...')\n",
    "import os\n",
    "import pandas\n",
    "import numpy as np\n",
    "import time\n",
    "from matplotlib import pyplot as plt\n",
    "from IPython.display import display, HTML\n",
    "import matplotlib.patches as mpatches\n",
    "import geopandas\n",
    "from shapely.geometry import Point\n",
    "import scipy\n",
    "from scipy import stats as stats\n",
    "#from mpl_toolkits.axes_grid1 import make_axes_locatable\n",
    "\n",
    "pandas.set_option('display.max_colwidth', -1)\n",
    "debug = 1\n",
    "summary = {}\n",
    "\n",
    "# Directories to look in\n",
    "thisdir = '/home/idies/workspace/Storage/raddick/Baltimore/community_reinvestment_act/'\n",
    "data_dir = '/home/idies/workspace/Temporary/raddick/cra_scratch_final/'\n",
    "census_dir = data_dir + 'acs5/'\n",
    "baltimore_dir = thisdir + 'baltimore/'\n",
    "city_data_dir = thisdir + 'city_data/'\n",
    "code_lookup_dir = thisdir + 'code_guide_lookups/'\n",
    "inflation_dir = '/home/idies/workspace/Storage/raddick/Baltimore/community_reinvestment_act/datasets/inflation/'\n",
    "figdir = thisdir + 'figures/'\n",
    "mapdir = thisdir + 'maps/'\n",
    "shapefile_basedir = '/home/idies/workspace/Storage/raddick/Baltimore/shapefiles/'\n",
    "census_shapefile_tiger_basedir = '/home/idies/workspace/Temporary/raddick/census_scratch/shapefiles/'\n",
    "\n",
    "\n",
    "\n",
    "# MAPPING OPTIONS\n",
    "scale = 0.125\n",
    "thecolormap = 'viridis'\n",
    "show_tract_labels = False\n",
    "show_plot_labels = True\n",
    "\n",
    "g = 0  # keep track of grand total of processing time\n",
    "os.chdir(thisdir)\n",
    "print('Now in directory: {0:}'.format(os.getcwd()))\n",
    "print('ok')"
   ]
  },
  {
   "cell_type": "markdown",
   "metadata": {},
   "source": [
    "# DONE!!!!!!!!!!!!!!!!! NOW WE CAN ANALYZE!!!!!!!!!!!!!!!!!!!!"
   ]
  },
  {
   "cell_type": "markdown",
   "metadata": {},
   "source": [
    "## Get data"
   ]
  },
  {
   "cell_type": "code",
   "execution_count": 2,
   "metadata": {},
   "outputs": [
    {
     "name": "stdout",
     "output_type": "stream",
     "text": [
      "Done\n"
     ]
    }
   ],
   "source": [
    "df = pandas.read_csv(city_data_dir+'baltimore_alldata.csv', encoding='utf-8', index_col=['census_tract','activity_year'])\n",
    "print('Done')"
   ]
  },
  {
   "cell_type": "code",
   "execution_count": 3,
   "metadata": {},
   "outputs": [
    {
     "name": "stdout",
     "output_type": "stream",
     "text": [
      "Summing loans across all years for each tract...\n",
      "Keeping only tracts that were the same across all years...\n",
      "Keeping only tracts with loans every year: 187 out of 207 total tracts...\n",
      "ok\n"
     ]
    }
   ],
   "source": [
    "print('Summing loans across all years for each tract...')\n",
    "tract_columns = ['nLoans1','nLoans100k','nLoans250k','nLoansToSmallest']\n",
    "tract_columns += ['nLoans','nWorkingLoans']\n",
    "tract_columns += ['nLoans1_per_totaljob','nLoans100k_per_totaljob']\n",
    "tract_columns += ['nLoans250k_per_totaljob','nLoansToSmallest_per_totaljob']\n",
    "tract_columns += ['nLoans_per_totaljob','nWorkingLoans_per_totaljob']\n",
    "tract_columns += ['nLoans1_per_sbjob','nLoans100k_per_sbjob','nLoans250k_per_sbjob']\n",
    "tract_columns += ['nLoansToSmallest_per_sbjob','nLoans_per_sbjob','nWorkingLoans_per_sbjob']\n",
    "tract_columns += ['amtLoans1_adj','amtLoans100k_adj', 'amtLoans250k_adj']\n",
    "tract_columns += ['amtLoansToSmallest_adj','amtLoans_adj', 'amtWorkingLoans_adj']\n",
    "tract_columns += ['amtLoans1_per_totaljob_adj','amtLoans100k_per_totaljob_adj']\n",
    "tract_columns += ['amtLoans250k_per_totaljob_adj','amtLoansToSmallest_per_totaljob_adj']\n",
    "tract_columns += ['amtLoans_per_totaljob_adj','amtWorkingLoans_per_totaljob_adj']\n",
    "tract_columns += ['amtLoans1_per_sbjob_adj','amtLoans100k_per_sbjob_adj']\n",
    "tract_columns += ['amtLoans250k_per_sbjob_adj','amtLoansToSmallest_per_sbjob_adj']\n",
    "tract_columns += ['amtLoans_per_sbjob_adj','amtWorkingLoans_per_sbjob_adj']\n",
    "\n",
    "tracts_df = df.reset_index().groupby('census_tract')[tract_columns].sum()\n",
    "\n",
    "print('Keeping only tracts that were the same across all years...')\n",
    "nYears_s = df.reset_index().groupby('census_tract').size()\n",
    "nYears_s.name = 'nYears'\n",
    "tracts_df = tracts_df.join(nYears_s)\n",
    "\n",
    "nTractsTotal = len(tracts_df)\n",
    "##tracts_df.groupby('nYears').size()\n",
    "nTracts7years = len(tracts_df[tracts_df['nYears'] == 7])\n",
    "\n",
    "print('Keeping only tracts with loans every year: {0:,.0f} out of {1:,.0f} total tracts...'.format(nTracts7years, nTractsTotal))\n",
    "tracts_df = tracts_df[tracts_df['nYears'] == 7]\n",
    "\n",
    "print('ok')\n"
   ]
  },
  {
   "cell_type": "code",
   "execution_count": 4,
   "metadata": {},
   "outputs": [
    {
     "name": "stdout",
     "output_type": "stream",
     "text": [
      "joining CRA levels...\n",
      "Done\n"
     ]
    }
   ],
   "source": [
    "print('joining CRA levels...')\n",
    "tract_info_2017_df = df.reset_index().set_index('census_tract')[df.reset_index().set_index('census_tract')['activity_year'] == 2017][['CSA2010', 'income_group_code', 'income_group', 'cra_level']]\n",
    "tract_info_2017_df = tract_info_2017_df.rename(columns={'income_group_code': 'income_group_code_2017', 'income_group': 'income_group_2017', 'cra_level': 'cra_level_2017'})\n",
    "tracts_df = tracts_df.join(tract_info_2017_df, how='left')\n",
    "\n",
    "print('Done')"
   ]
  },
  {
   "cell_type": "code",
   "execution_count": 5,
   "metadata": {},
   "outputs": [
    {
     "name": "stdout",
     "output_type": "stream",
     "text": [
      "reading job data...\n"
     ]
    },
    {
     "name": "stderr",
     "output_type": "stream",
     "text": [
      "/home/idies/miniconda3/lib/python3.6/site-packages/numpy/lib/arraysetops.py:472: FutureWarning: elementwise comparison failed; returning scalar instead, but in the future will perform elementwise comparison\n",
      "  mask |= (ar1 == a)\n"
     ]
    },
    {
     "name": "stdout",
     "output_type": "stream",
     "text": [
      "Read 1,691,314 rows in 13 seconds!\n",
      "finding census tracts...\n",
      "grouping by census tract...\n",
      "joining jobs...\n",
      "Done!\n"
     ]
    }
   ],
   "source": [
    "print('reading job data...')\n",
    "s = time.time()\n",
    "raw_jobs_df = pandas.read_csv(baltimore_dir+'wac_jobs_df.csv', index_col='rownumber')\n",
    "e = time.time()\n",
    "raw_jobs_2015_df = raw_jobs_df[raw_jobs_df['year'] == 2015]\n",
    "print('Read {0:,.0f} rows in {1:,.0f} seconds!'.format(len(raw_jobs_df), e-s))\n",
    "\n",
    "print('finding census tracts...')\n",
    "raw_jobs_2015_df = raw_jobs_2015_df.assign(census_tract = pandas.to_numeric(raw_jobs_2015_df['w_geocode'].apply(lambda x: str(x)[5:9] + '.' + str(x)[9:11]), errors='coerce'))#.drop_duplicates().sort_values()[0:3]\n",
    "sum_columns = ['census_tract']\n",
    "sum_columns += [x for x in raw_jobs_df.columns.tolist() if x not in ('w_geocode', 'createdate', 'year')]\n",
    "\n",
    "print('grouping by census tract...')\n",
    "jobs_2015_df = raw_jobs_2015_df[sum_columns].groupby('census_tract').sum()\n",
    "\n",
    "print('joining jobs...')\n",
    "tracts_df = tracts_df.join(jobs_2015_df[['C000', 'CFS01']], how='left')\n",
    "tracts_df = tracts_df.rename(columns={'C000': 'total_jobs', 'CFS01': 'sb_jobs'})\n",
    "print('Done!')\n"
   ]
  },
  {
   "cell_type": "code",
   "execution_count": 6,
   "metadata": {},
   "outputs": [
    {
     "name": "stdout",
     "output_type": "stream",
     "text": [
      "joining ACS 5-year estimates and margins of error...\n",
      "Done!\n"
     ]
    }
   ],
   "source": [
    "census_columns = ['pop_total', 'total_householders', 'pop_white', 'pop_black']\n",
    "census_columns += ['black_householder', 'white_householder', 'female_householder', 'owner_occ_housing_units']\n",
    "census_columns += ['mfi_adj', 'unemployed_16plus', 'poverty_past_12_months']\n",
    "census_columns += ['median_home_value', 'median_year_built', 'labor_force_16plus']\n",
    "census_columns += ['poverty_status_known', 'hs_grad_25plus', 'pop_25plus']\n",
    "\n",
    "census_error_columns = ['pop_total_err', 'total_householders_serr', 'pop_white_err', 'pop_black_err']\n",
    "census_error_columns += ['black_householder_err', 'white_householder_err', 'owner_occ_housing_units_err']\n",
    "census_error_columns += ['mfi_err', 'female_householder_err', 'unemployed_16plus_err']\n",
    "census_error_columns += ['poverty_past_12_months_err', 'median_home_value_err', 'median_year_built_err']\n",
    "census_error_columns += ['labor_force_16plus_err', 'poverty_status_known_err']\n",
    "census_error_columns += ['hs_grad_25plus_serr', 'pop_25plus_serr']\n",
    "\n",
    "print('joining ACS 5-year estimates and margins of error...')\n",
    "tracts_acs5_2017 = df.reset_index()[df.reset_index()['activity_year'] == 2017].set_index('census_tract')[census_columns]\n",
    "tracts_acs5_err_2017 = df.reset_index()[df.reset_index()['activity_year'] == 2017].set_index('census_tract')[census_error_columns]\n",
    "\n",
    "tracts_df = tracts_df.join(tracts_acs5_2017, how='left')\n",
    "tracts_df = tracts_df.join(tracts_acs5_err_2017, how='left')\n",
    "\n",
    "summary['pop_total'] = tracts_df['pop_total'].sum()\n",
    "#tracts_df.head(1).T\n",
    "print('Done!')\n"
   ]
  },
  {
   "cell_type": "code",
   "execution_count": 7,
   "metadata": {},
   "outputs": [
    {
     "name": "stdout",
     "output_type": "stream",
     "text": [
      "Defined functions to calculate standard errors in percentages!\n",
      "ok\n"
     ]
    }
   ],
   "source": [
    "#Guide on how to do this:\n",
    "#### https://www.census.gov/content/dam/Census/library/publications/2018/acs/acs_general_handbook_2018_ch08.pdf\n",
    "\n",
    "# X and Y are the measured values (not the errors) - X for the subsgroup and Y for the whole sample\n",
    "# Let P = X/Y  (the proportion we calculated in the last step)\n",
    "# dX and dY are the measured errors\n",
    "# dP = (1/Y) * np.sqrt(dX**2 - (P**2 * dY**2))\n",
    "# Standard error of P is dP/1.645\n",
    "#### this calculation is done verbosely in fnid_pop_white_serr, quickly in other functions\n",
    "\n",
    "def find_errors_in_pct(X, Y, dX, dY, verboselevel = 0):\n",
    "    try:\n",
    "        P = X / Y\n",
    "        oneoverY = 1 / Y\n",
    "        dXsq = dX**2\n",
    "        dYsq = dY**2\n",
    "        Psq = P**2\n",
    "        PsqdYsq = Psq * dYsq\n",
    "        if (PsqdYsq <= dXsq):\n",
    "            underroot = dXsq - PsqdYsq\n",
    "        else:\n",
    "            underroot = dXsq + PsqdYsq\n",
    "        rooty = np.sqrt(underroot)\n",
    "        dP = oneoverY * rooty\n",
    "        SE = dP / 1.645\n",
    "        if (verboselevel >= 2):\n",
    "#            print('X = pop_white, Y = pop_total')\n",
    "            print('X = {0:.0f}, dX = {1:.0f} ({2:.1%} error)'.format(X, dX, dX/X))\n",
    "            print('Y = {0:.0f}, dY = {1:.0f} ({2:.1%} error)'.format(Y, dY, dY/Y))\n",
    "        if (verboselevel >= 3):\n",
    "            print('P = {0:.3f}'.format(P))\n",
    "            print('dXsq = {0:.0f}, dYsq = {1:.0f}, Psq = {2:.3f}'.format(dXsq, dYsq, Psq))\n",
    "            print('PsqdYsq = {0:.0f}, underroot = {1:.0f}, rooty = {2:.3f}'.format(PsqdYsq, underroot, rooty))\n",
    "            print('dP = {0:.3f}'.format(dP))\n",
    "            print('SE = {0:.3f}'.format(SE))\n",
    "        if (verboselevel >= 2):\n",
    "            print('RESULT: {0:.2%} +/- {1:.2%}'.format(P, SE)) \n",
    "            print('\\n')\n",
    "        return pandas.to_numeric(SE, errors='coerce')\n",
    "    except ZeroDivisionError:\n",
    "        return np.nan\n",
    "print('Defined functions to calculate standard errors in percentages!')\n",
    "print('ok')"
   ]
  },
  {
   "cell_type": "code",
   "execution_count": 8,
   "metadata": {},
   "outputs": [
    {
     "name": "stdout",
     "output_type": "stream",
     "text": [
      "Calculating percentage values...\n",
      "Calculating errors in percentages...\n",
      "backing up...\n",
      "Processed 187 rows in 2.47 seconds!\n"
     ]
    }
   ],
   "source": [
    "s = time.time()\n",
    "verboselevel = 0\n",
    "\n",
    "print('Calculating percentage values...')\n",
    "tracts_df = tracts_df.assign(pct_white = tracts_df['pop_white'] / tracts_df['pop_total'])\n",
    "tracts_df = tracts_df.assign(pct_black = tracts_df['pop_black'] / tracts_df['pop_total'])\n",
    "tracts_df = tracts_df.assign(pct_white_householders = tracts_df['white_householder'] / tracts_df['total_householders'])\n",
    "tracts_df = tracts_df.assign(pct_black_householders = tracts_df['black_householder'] / tracts_df['total_householders'])\n",
    "tracts_df = tracts_df.assign(pct_female_householders = tracts_df['female_householder'] / tracts_df['total_householders'])\n",
    "tracts_df = tracts_df.assign(pct_hs_grad = tracts_df['hs_grad_25plus'] / tracts_df['pop_25plus'])\n",
    "tracts_df = tracts_df.assign(pct_unemployed = tracts_df['unemployed_16plus'] / tracts_df['labor_force_16plus'])\n",
    "tracts_df = tracts_df.assign(pct_poverty = tracts_df['poverty_past_12_months'] / tracts_df['poverty_status_known'])\n",
    "\n",
    "print('Calculating errors in percentages...')\n",
    "tracts_df = tracts_df.assign(pct_white_serr = np.nan)\n",
    "tracts_df = tracts_df.assign(pct_black_serr = np.nan)\n",
    "tracts_df = tracts_df.assign(pct_white_householders_serr = np.nan)\n",
    "tracts_df = tracts_df.assign(pct_black_householders_serr = np.nan)\n",
    "tracts_df = tracts_df.assign(pct_female_householders_serr = np.nan)\n",
    "tracts_df = tracts_df.assign(pct_hs_grad_serr = np.nan)\n",
    "tracts_df = tracts_df.assign(pct_unemployed_serr = np.nan)\n",
    "tracts_df = tracts_df.assign(pct_poverty_serr = np.nan)\n",
    "\n",
    "\n",
    "\n",
    "for ix, thisrow in tracts_df.iterrows():\n",
    "    if (verboselevel >= 2):\n",
    "        print('Census tract {0:}...'.format(ix))\n",
    "    tracts_df.loc[ix, 'pct_white_serr'] = find_errors_in_pct(thisrow['pop_white'], thisrow['pop_total'], thisrow['pop_white_err'], thisrow['pop_total_err'], verboselevel)\n",
    "    tracts_df.loc[ix, 'pct_black_serr'] = find_errors_in_pct(thisrow['pop_black'], thisrow['pop_total'], thisrow['pop_black_err'], thisrow['pop_total_err'], verboselevel)\n",
    "    tracts_df.loc[ix, 'pct_white_householders_serr'] = find_errors_in_pct(thisrow['white_householder'], thisrow['total_householders'], thisrow['white_householder_err'], thisrow['total_householders_serr'], verboselevel)\n",
    "    tracts_df.loc[ix, 'pct_black_householders_serr'] = find_errors_in_pct(thisrow['black_householder'], thisrow['total_householders'], thisrow['black_householder_err'], thisrow['total_householders_serr'], verboselevel)\n",
    "    tracts_df.loc[ix, 'pct_female_householders_serr'] = find_errors_in_pct(thisrow['female_householder'], thisrow['total_householders'], thisrow['black_householder_err'], thisrow['total_householders_serr'], verboselevel)\n",
    "    tracts_df.loc[ix, 'pct_hs_grad_serr'] = find_errors_in_pct(thisrow['hs_grad_25plus'], thisrow['pop_25plus'], thisrow['hs_grad_25plus_serr'], thisrow['pop_25plus_serr'], verboselevel)\n",
    "    tracts_df.loc[ix, 'pct_unemployed_serr'] = find_errors_in_pct(thisrow['unemployed_16plus'], thisrow['labor_force_16plus'], thisrow['hs_grad_25plus_serr'], thisrow['labor_force_16plus_err'], verboselevel)\n",
    "    tracts_df.loc[ix, 'pct_poverty_serr'] = find_errors_in_pct(thisrow['poverty_past_12_months'], thisrow['poverty_status_known'], thisrow['poverty_past_12_months_err'], thisrow['poverty_status_known_err'], verboselevel)\n",
    "\n",
    "if (verboselevel >= 1):\n",
    "    for ix, thisrow in tracts_df.iterrows():\n",
    "        print('Census tract {0:,.0f}'.format(ix))\n",
    "        print('{0:,.0f} +/- {1:,.0f} white'.format(\n",
    "            thisrow['pop_white'], thisrow['pop_white_err']\n",
    "        ))\n",
    "        print('{0:,.0f} +/- {1:,.0f} total'.format(\n",
    "            thisrow['pop_total'], thisrow['pop_total_err']\n",
    "        ))\n",
    "        print('{0:.1%} +/- {1:.1%}'.format(\n",
    "            thisrow['pct_white'], thisrow['pct_white_serr']\n",
    "        ))\n",
    "        print('\\n')\n",
    "\n",
    "print('backing up...')\n",
    "tracts_df_bk = tracts_df\n",
    "\n",
    "e = time.time()\n",
    "print('Processed {0:,.0f} rows in {1:,.2f} seconds!'.format(len(tracts_df), e-s))\n"
   ]
  },
  {
   "cell_type": "code",
   "execution_count": 9,
   "metadata": {},
   "outputs": [
    {
     "name": "stdout",
     "output_type": "stream",
     "text": [
      "Getting census tract shapefiles for 2017...\n",
      "cutting out harbor...\n",
      "joining shapefiles onto data...\n",
      "backing up geodataframe...\n",
      "Done!\n"
     ]
    }
   ],
   "source": [
    "thisyear = 2017\n",
    "\n",
    "if (debug > 0):\n",
    "    print('Getting census tract shapefiles for {0:.0f}...'.format(thisyear))\n",
    "tract_shapes_gdf = geopandas.read_file(census_shapefile_tiger_basedir +'{0:.0f}/TRACT/tl_{0:.0f}_24_tract.shp'.format(thisyear))\n",
    "tract_shapes_gdf = tract_shapes_gdf[tract_shapes_gdf['COUNTYFP'] == '510']\n",
    "tract_shapes_gdf.loc[:, 'NAME'] = pandas.to_numeric(tract_shapes_gdf['NAME'], errors='coerce')\n",
    "tract_shapes_gdf = tract_shapes_gdf.assign(census_tract = pandas.to_numeric(tract_shapes_gdf['GEOID'].apply(lambda x: x[5:9]+'.'+x[9:]), errors='coerce'))\n",
    "tract_shapes_gdf = tract_shapes_gdf.drop('GEOID', axis=1)\n",
    "tract_shapes_gdf = tract_shapes_gdf.set_index('census_tract')\n",
    "\n",
    "print('cutting out harbor...')\n",
    "water_gdf = geopandas.read_file(shapefile_basedir+'water/water.shp')\n",
    "water_gdf = water_gdf.to_crs(tract_shapes_gdf.crs)\n",
    "\n",
    "tract_shapes_gdf = geopandas.overlay(tract_shapes_gdf, water_gdf[water_gdf['NAME'] == 'Harbor'], how='difference')\n",
    "\n",
    "print('joining shapefiles onto data...')\n",
    "#tracts_df = tracts_df.join(tract_shapes_gdf, how='left')#, lsuffix='_loans', rsuffix='_shapes')#[['GEOID_loans', 'GEOID_shapes']]\n",
    "tracts_gdf = geopandas.GeoDataFrame(tracts_df.join(tract_shapes_gdf, how='left'), crs=tract_shapes_gdf.crs)\n",
    "\n",
    "print('backing up geodataframe...')\n",
    "tracts_gdf_bk = tracts_gdf\n",
    "\n",
    "print(\"Done!\")\n",
    "#tracts_df.head(1).T\n"
   ]
  },
  {
   "cell_type": "code",
   "execution_count": 10,
   "metadata": {},
   "outputs": [
    {
     "name": "stdout",
     "output_type": "stream",
     "text": [
      "getting from backup...\n",
      "identifying tracts with much or little poverty...\n",
      "calculating excess white and excess black tracts...\n",
      "City-wide percent of white residents: 37%\n",
      "City-wide percent of black residents: 55%\n",
      "Done!\n"
     ]
    }
   ],
   "source": [
    "print('getting from backup...')\n",
    "tracts_df = tracts_df_bk\n",
    "\n",
    "tracts_included_df = tracts_df[\n",
    "    (tracts_df['sb_jobs'] >= jobs_lower_limit)\n",
    "    & (tracts_df['pop_total'] >= pop_lower_limit)\n",
    "    & (tracts_df['cra_level_2017'] != 'unknown')\n",
    "]\n",
    "tracts_included_gdf = tracts_gdf[\n",
    "    (tracts_gdf['sb_jobs'] >= jobs_lower_limit)\n",
    "    & (tracts_gdf['pop_total'] >= pop_lower_limit)\n",
    "    & (tracts_df['cra_level_2017'] != 'unknown')\n",
    "]\n",
    "\n",
    "print('identifying tracts with much or little poverty...')\n",
    "\n",
    "tracts_included_df = tracts_included_df.assign(poverty_rate = tracts_df['poverty_past_12_months'] / tracts_df['poverty_status_known'])\n",
    "\n",
    "#print('Quantiles of poverty rate in Baltimore city:')\n",
    "#print('Median {0:.1%}, richest decile {1:.1%}, richest quartile {2:.1%}, poorest quartile {3:.1%}, poorest decile {4:.1%}'.format(\n",
    "#    tracts_df['poverty_rate'].quantile(0.5), \n",
    "#    tracts_df['poverty_rate'].quantile(0.1), \n",
    "#    tracts_df['poverty_rate'].quantile(0.25), \n",
    "#    tracts_df['poverty_rate'].quantile(0.75), \n",
    "#    tracts_df['poverty_rate'].quantile(0.9)\n",
    "#))\n",
    "\n",
    "#print('\\n')\n",
    "#htmlstring = ''\n",
    "#htmlstring += \"<p>OK, sure, let's use Chicago's definition of high poverty as >= 10% poverty rate</p>\"\n",
    "\n",
    "tracts_included_df = tracts_included_df.assign(poverty_class = np.nan)\n",
    "tracts_included_df.loc[tracts_included_df['poverty_rate'] > 0.3, 'poverty_class'] = 'much'\n",
    "tracts_included_df.loc[tracts_included_df['poverty_rate'] < 0.1, 'poverty_class'] = 'little'\n",
    "\n",
    "print('calculating excess white and excess black tracts...')\n",
    "city_pct_white = tracts_included_df['pop_white'].sum() / tracts_included_df['pop_total'].sum()\n",
    "city_pct_black = tracts_included_df['pop_black'].sum() / tracts_included_df['pop_total'].sum()\n",
    "print('City-wide percent of white residents: {0:.0%}'.format(city_pct_white))\n",
    "print('City-wide percent of black residents: {0:.0%}'.format(city_pct_black))\n",
    "\n",
    "tracts_df = tracts_df.assign(excess_race = 'none')\n",
    "\n",
    "tracts_included_df.loc[tracts_df['pct_white'] > city_pct_white, 'excess_race'] = 'white'\n",
    "tracts_included_df.loc[tracts_df['pct_black'] > city_pct_black, 'excess_race'] = 'black'\n",
    "\n",
    "summary['nTracts'] = len(tracts_included_df)\n",
    "summary['pop_total'] = tracts_included_df['pop_total'].sum()\n",
    "summary['nSBjobs'] = tracts_included_df['sb_jobs'].sum()\n",
    "\n",
    "\n",
    "summary['nWorkingLoans'] = tracts_included_df['nWorkingLoans'].sum()\n",
    "summary['amtWorkingLoans_adj'] = tracts_included_df['amtWorkingLoans_adj'].sum()\n",
    "\n",
    "summary['city_pct_black'] = city_pct_black\n",
    "\n",
    "print('Done!')"
   ]
  },
  {
   "cell_type": "code",
   "execution_count": 11,
   "metadata": {},
   "outputs": [
    {
     "name": "stdout",
     "output_type": "stream",
     "text": [
      "BALTIMORE\n",
      "making basic plot...\n",
      "setting options...\n",
      "adding colorbar...\n"
     ]
    },
    {
     "data": {
      "text/html": [
       "<p><strong>JOBS lower limit: 50</strong></p><p><strong>POPULATION lower limit: 1,000</strong></p><table><tr><th>Excess Race</th><th>Number of tracts</th><th>Mean loan amount<br />per small business job</th><th>Standard error<br />of the mean</th></tr><tr><td>White</td><td>55</td><td>$61,011</td><td>$4,531</td></tr><tr><td>Black</td><td>66</td><td>$36,083</td><td>$3,673</td></tr><tr><td>White / Black</td><td>-</td><td>1.69</td><td>-</td></table>"
      ],
      "text/plain": [
       "<IPython.core.display.HTML object>"
      ]
     },
     "metadata": {},
     "output_type": "display_data"
    },
    {
     "name": "stdout",
     "output_type": "stream",
     "text": [
      "Number of tracts included in analysis: 124\n",
      "Population included: 415,228\n",
      "Percent black residents: 55.4%\n",
      "\n",
      "\n",
      "Number of working loans: 33,404\n",
      "Total amount of working loans: $1,669,639,675\n",
      "Number of small business jobs: 30,184\n",
      "\n",
      "\n",
      "Ratio of lending to white vs. black tracts: 1.69\n",
      "Linear fit of lending to percent black slope: $-338\n",
      "Linear fit of lending to percent black r^2 value: 0.114\n"
     ]
    },
    {
     "data": {
      "image/png": "[encoded data removed]",
      "text/plain": [
       "<Figure size 432x432 with 2 Axes>"
      ]
     },
     "metadata": {
      "needs_background": "light"
     },
     "output_type": "display_data"
    }
   ],
   "source": [
    "print('BALTIMORE')\n",
    "\n",
    "htmlstring = ''\n",
    "htmlstring += '<p><strong>JOBS lower limit: {0:,.0f}</strong></p>'.format(jobs_lower_limit)\n",
    "htmlstring += '<p><strong>POPULATION lower limit: {0:,.0f}</strong></p>'.format(pop_lower_limit)\n",
    "\n",
    "print('making basic plot...')\n",
    "map1, ax = plt.subplots(1,1, figsize=(48*scale, 48*scale))\n",
    "\n",
    "tract_shapes_gdf.plot(ax=ax, color='pink')\n",
    "\n",
    "vmax = tracts_included_gdf['amtWorkingLoans_per_sbjob_adj'].max()\n",
    "\n",
    "tracts_included_gdf.plot(column='amtWorkingLoans_per_sbjob_adj', ax=ax, cmap=thecolormap, edgecolor='white')\n",
    "\n",
    "print('setting options...')\n",
    "ax.tick_params(axis='both', which='both', bottom=False, top=False, left=False, right=False, labelbottom=False, labelleft=False)\n",
    "plt.title('Baltimore City census tracts (n = {0:,.0f})'.format(\n",
    "    len(tracts_included_gdf), fontsize=80*scale))\n",
    "\n",
    "pink_patch = mpatches.Patch(color='pink', label='Insufficient data')\n",
    "plt.legend(handles=[pink_patch], loc='lower left', fontsize=52*scale)\n",
    "\n",
    "print('adding colorbar...')\n",
    "\n",
    "cax = map1.add_axes([0.125, 0.08, 0.775, 0.03])\n",
    "\n",
    "sm = plt.cm.ScalarMappable(cmap=thecolormap, norm=plt.Normalize(\n",
    "    vmin=0, \n",
    "    vmax=vmax\n",
    "))\n",
    "## fake up the array of the scalar mappable. Urgh...\n",
    "sm._A = []\n",
    "\n",
    "cbar = map1.colorbar(sm, cax=cax, format='$%.0f', \n",
    "                    ticks=np.arange(0, \n",
    "                                    vmax, \n",
    "                                    25000), \n",
    "                    orientation='horizontal')\n",
    "\n",
    "cax.set_xticklabels(['${:,.0f}'.format(x/1000) for x in np.arange(0, vmax, 25000)], fontsize=56*scale)\n",
    "cbar.set_label('Total working loans per job (Thousand 2017USD)', fontsize=68*scale)\n",
    "\n",
    "if (show_tract_labels):\n",
    "    print('adding tract labels...')\n",
    "    for ix, thisrow in tracts_gdf.iterrows():\n",
    "        annotator = str(ix).replace('-', '- ')\n",
    "        annotator = annotator.replace('/', '/ ')\n",
    "        annotator = annotator.replace(' ', '\\n')\n",
    "        annotator = annotator.upper()\n",
    "        annotator += '\\n'\n",
    "        annotator += '${0:,.0f}k'.format(thisrow['amtWorkingLoans_per_sbjob_adj']/1000)\n",
    "        ax.annotate(annotator, \n",
    "                    xy=(thisrow.geometry.centroid.x, thisrow.geometry.centroid.y), \n",
    "                    xytext=(thisrow.geometry.centroid.x, thisrow.geometry.centroid.y), \n",
    "                    backgroundcolor = 'white',\n",
    "                    horizontalalignment='center',\n",
    "                    verticalalignment='center',\n",
    "                    fontsize=24*scale)\n",
    "        map_outfile_name = 'balt_overall_map_labeled.jpg'\n",
    "else:\n",
    "    map_outfile_name = 'balt_overall_map_unlabeled.jpg'\n",
    "\n",
    "htmlstring += '<table>'\n",
    "htmlstring += '<tr><th>Excess Race</th><th>Number of tracts</th><th>Mean loan amount<br />per small business job</th><th>Standard error<br />of the mean</th></tr>'\n",
    "htmlstring += '<tr><td>{0:}</td><td>{1:.0f}</td><td>${2:,.0f}</td><td>${3:,.0f}</td></tr>'.format(\n",
    "    'White', \n",
    "    len(tracts_included_df['amtWorkingLoans_per_sbjob_adj'][tracts_included_df['excess_race'] == 'white']), \n",
    "    tracts_included_df['amtWorkingLoans_per_sbjob_adj'][tracts_included_df['excess_race'] == 'white'].mean(),\n",
    "    tracts_included_df['amtWorkingLoans_per_sbjob_adj'][tracts_included_df['excess_race'] == 'white'].sem()\n",
    ")\n",
    "htmlstring += '<tr><td>{0:}</td><td>{1:.0f}</td><td>${2:,.0f}</td><td>${3:,.0f}</td></tr>'.format(\n",
    "    'Black', \n",
    "    len(tracts_included_df['amtWorkingLoans_per_sbjob_adj'][tracts_included_df['excess_race'] == 'black']), \n",
    "    tracts_included_df['amtWorkingLoans_per_sbjob_adj'][tracts_included_df['excess_race'] == 'black'].mean(),\n",
    "    tracts_included_df['amtWorkingLoans_per_sbjob_adj'][tracts_included_df['excess_race'] == 'black'].sem()\n",
    ")\n",
    "htmlstring += '<tr><td>{0:}</td><td>-</td><td>{1:.2f}</td><td>-</td>'.format('White / Black', \n",
    "                                                    tracts_included_df['amtWorkingLoans_per_sbjob_adj'][tracts_included_df['excess_race'] == 'white'].mean() /\n",
    "                                                    tracts_included_df['amtWorkingLoans_per_sbjob_adj'][tracts_included_df['excess_race'] == 'black'].mean()\n",
    "                                                   )\n",
    "htmlstring += '</table>'\n",
    "display(HTML(htmlstring))\n",
    "\n",
    "slope, intercept, r_value, p_value, std_err = scipy.stats.linregress(\n",
    "    tracts_included_df['pct_black'].apply(lambda x: x * 100).values, \n",
    "    tracts_included_df['amtWorkingLoans_per_sbjob_adj'].values\n",
    ")\n",
    "\n",
    "summary['lending_ratio_race'] = tracts_included_df['amtWorkingLoans_per_sbjob_adj'][tracts_included_df['excess_race'] == 'white'].mean() / tracts_included_df['amtWorkingLoans_per_sbjob_adj'][tracts_included_df['excess_race'] == 'black'].mean()\n",
    "summary['lending_race_linear_fit'] = slope\n",
    "summary['lending_race_linear_rsq'] = r_value ** 2\n",
    "\n",
    "print('Number of tracts included in analysis: {0:.0f}'.format(summary['nTracts']))\n",
    "print('Population included: {0:,.0f}'.format(summary['pop_total']))\n",
    "print('Percent black residents: {0:.1%}'.format(summary['city_pct_black']))\n",
    "print('\\n')\n",
    "print('Number of working loans: {0:,.0f}'.format(summary['nWorkingLoans']))\n",
    "print('Total amount of working loans: ${0:,.0f}'.format(summary['amtWorkingLoans_adj']))\n",
    "print('Number of small business jobs: {0:,.0f}'.format(summary['nSBjobs']))\n",
    "print('\\n')\n",
    "print('Ratio of lending to white vs. black tracts: {0:,.2f}'.format(summary['lending_ratio_race']))\n",
    "print('Linear fit of lending to percent black slope: ${0:,.0f}'.format(summary['lending_race_linear_fit']))\n",
    "print('Linear fit of lending to percent black r^2 value: {0:,.3f}'.format(summary['lending_race_linear_rsq']))\n",
    "\n",
    "plt.show()"
   ]
  },
  {
   "cell_type": "code",
   "execution_count": null,
   "metadata": {},
   "outputs": [],
   "source": []
  },
  {
   "cell_type": "code",
   "execution_count": null,
   "metadata": {},
   "outputs": [],
   "source": []
  }
 ],
 "metadata": {
  "kernelspec": {
   "display_name": "Python 3",
   "language": "python",
   "name": "python3"
  },
  "language_info": {
   "codemirror_mode": {
    "name": "ipython",
    "version": 3
   },
   "file_extension": ".py",
   "mimetype": "text/x-python",
   "name": "python",
   "nbconvert_exporter": "python",
   "pygments_lexer": "ipython3",
   "version": "3.6.6"
  }
 },
 "nbformat": 4,
 "nbformat_minor": 2
}
