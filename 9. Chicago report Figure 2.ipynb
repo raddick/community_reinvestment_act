{
 "cells": [
  {
   "cell_type": "code",
   "execution_count": 1,
   "metadata": {},
   "outputs": [
    {
     "name": "stdout",
     "output_type": "stream",
     "text": [
      "ok\n"
     ]
    }
   ],
   "source": [
    "import numpy as np\n",
    "import pandas\n",
    "from matplotlib import pyplot as plt\n",
    "from IPython.display import display, HTML\n",
    "import geopandas\n",
    "thisdir = '/home/idies/workspace/Storage/raddick/Baltimore/community_reinvestment_act/'\n",
    "datadir = thisdir + 'datasets_for_analysis/'\n",
    "shapefile_basedir = '/home/idies/workspace/Storage/raddick/Baltimore/shapefiles/'\n",
    "census_shapefile_tiger_basedir = '/home/idies/workspace/Temporary/raddick/census_scratch/shapefiles/'\n",
    "\n",
    "debug = 1\n",
    "\n",
    "print('ok')"
   ]
  },
  {
   "cell_type": "code",
   "execution_count": 2,
   "metadata": {
    "scrolled": false
   },
   "outputs": [
    {
     "name": "stdout",
     "output_type": "stream",
     "text": [
      "backing up...\n",
      "ok\n"
     ]
    }
   ],
   "source": [
    "df = pandas.read_csv(datadir+'reinvestment_by_census_tract_for_smallest_businesses.csv', encoding='utf-8')#, index_col=['census_tract', 'activity_year'])\n",
    "df.columns.tolist()\n",
    "\n",
    "cra_info_columns = ['census_tract', 'activity_year', 'income_group_code', 'income_group', 'cra_level']\n",
    "\n",
    "cra_loan_columns = ['census_tract', 'nLoans1', 'nLoans100k', 'nLoans250k']\n",
    "cra_loan_columns += ['nLoansToSmallest', 'nLoansTotal', 'nWorkingLoans']\n",
    "cra_loan_columns += ['amtLoans1_adj', 'amtLoans100k_adj', 'amtLoans250k_adj']\n",
    "cra_loan_columns += ['amtLoansToSmallest_adj', 'amtLoansTotal_adj', 'amtWorkingLoans_adj']\n",
    "\n",
    "census_columns = ['census_tract', 'pop_total', 'total_householders', 'pop_white', 'pop_black']\n",
    "census_columns += ['black_householder', 'white_householder', 'owner_occ_housing_units', 'mfi']\n",
    "census_columns += ['female_householder', 'hs_grad_25plus', 'unemployed_16plus']\n",
    "census_columns += ['poverty_past_12_months', 'median_home_value', 'median_year_built']\n",
    "census_columns += ['pop_25plus', 'labor_force_16plus', 'poverty_status_known_last12months_total']\n",
    "\n",
    "census_error_columns = ['census_tract', 'pop_total_err', 'total_householders_err', 'pop_white_err', 'pop_black_err']\n",
    "census_error_columns += ['black_householder_err', 'white_householder_err', 'owner_occ_housing_units_err', 'mfi_err']\n",
    "census_error_columns += ['female_householder_err', 'hs_grad_25plus_serr', 'unemployed_16plus_err']\n",
    "census_error_columns += ['poverty_past_12_months_err', 'median_home_value_err', 'median_year_built_err']\n",
    "census_error_columns += ['pop_25plus_serr', 'labor_force_16plus_err', 'poverty_status_known_last12months_total_err']\n",
    "\n",
    "jobs_columns = ['census_tract']\n",
    "jobs_columns += [x for x in df.columns.tolist() if 'jobs' in x.lower()]\n",
    "\n",
    "\n",
    "census_tract_list = df['census_tract'].dropna().drop_duplicates().sort_values().tolist()\n",
    "\n",
    "census_tracts_df = pandas.DataFrame(census_tract_list, columns=['census_tract'])\n",
    "census_tracts_df = census_tracts_df.set_index('census_tract')\n",
    "census_tracts_df = census_tracts_df.assign(nYears = df.groupby('census_tract').size())\n",
    "census_tracts_df = census_tracts_df.join(df.groupby('census_tract')[cra_loan_columns].sum(), how='left')\n",
    "\n",
    "census_tracts_df = census_tracts_df.join(df[jobs_columns][df['activity_year'] == 2015].set_index('census_tract'), how='left')\n",
    "\n",
    "census_tracts_df = census_tracts_df.join(df[census_columns][df['activity_year'] == 2017].set_index('census_tract'), how='left')\n",
    "census_tracts_df = census_tracts_df.join(df[census_error_columns][df['activity_year'] == 2017].set_index('census_tract'), how='left')\n",
    "\n",
    "#census_tracts_df[census_tracts_df['nYears'] == 7].sample(1).T\n",
    "#df.columns.tolist()\n",
    "\n",
    "\n",
    "#et_columns = cra_loan_columns + ['Number of jobs for workers at firms with Firm Size: 0-19 Employees']\n",
    "census_tracts_df = census_tracts_df.assign(nLoans1_per_sbjob = census_tracts_df['nLoans1'] / census_tracts_df['Number of jobs for workers at firms with Firm Size: 0-19 Employees'])\n",
    "census_tracts_df = census_tracts_df.assign(nLoans100k_per_sbjob = census_tracts_df['nLoans100k'] / census_tracts_df['Number of jobs for workers at firms with Firm Size: 0-19 Employees'])\n",
    "census_tracts_df = census_tracts_df.assign(nLoans250k_per_sbjob = census_tracts_df['nLoans250k'] / census_tracts_df['Number of jobs for workers at firms with Firm Size: 0-19 Employees'])\n",
    "census_tracts_df = census_tracts_df.assign(nLoansToSmallest_per_sbjob = census_tracts_df['nLoansToSmallest'] / census_tracts_df['Number of jobs for workers at firms with Firm Size: 0-19 Employees'])\n",
    "census_tracts_df = census_tracts_df.assign(nLoansTotal_per_sbjob = census_tracts_df['nLoansTotal'] / census_tracts_df['Number of jobs for workers at firms with Firm Size: 0-19 Employees'])\n",
    "census_tracts_df = census_tracts_df.assign(nWorkingLoans_per_sbjob = census_tracts_df['nWorkingLoans'] / census_tracts_df['Number of jobs for workers at firms with Firm Size: 0-19 Employees'])\n",
    "census_tracts_df = census_tracts_df.assign(amtLoans1_adj_per_sbjob = census_tracts_df['amtLoans1_adj'] / census_tracts_df['Number of jobs for workers at firms with Firm Size: 0-19 Employees'])\n",
    "census_tracts_df = census_tracts_df.assign(amtLoans100k_adj_per_sbjob = census_tracts_df['amtLoans100k_adj'] / census_tracts_df['Number of jobs for workers at firms with Firm Size: 0-19 Employees'])\n",
    "census_tracts_df = census_tracts_df.assign(amtLoans250k_adj_per_sbjob = census_tracts_df['amtLoans250k_adj'] / census_tracts_df['Number of jobs for workers at firms with Firm Size: 0-19 Employees'])\n",
    "census_tracts_df = census_tracts_df.assign(amtLoansTotal_adj_per_sbjob = census_tracts_df['amtLoansTotal_adj'] / census_tracts_df['Number of jobs for workers at firms with Firm Size: 0-19 Employees'])\n",
    "census_tracts_df = census_tracts_df.assign(amtWorkingLoans_adj_per_sbjob = census_tracts_df['amtWorkingLoans_adj'] / census_tracts_df['Number of jobs for workers at firms with Firm Size: 0-19 Employees'])\n",
    "\n",
    "print('backing up...')\n",
    "census_tracts_df_bk = census_tracts_df\n",
    "print('ok')"
   ]
  },
  {
   "cell_type": "code",
   "execution_count": 4,
   "metadata": {
    "scrolled": false
   },
   "outputs": [
    {
     "name": "stdout",
     "output_type": "stream",
     "text": [
      "retrieving from backup...\n",
      "census tracts by majority race:\n",
      "majority_race\n",
      "black    129\n",
      "white     58\n",
      "dtype: int64\n",
      "\n",
      "\n",
      "Quantiles of poverty rate in Baltimore city:\n",
      "Median 22.1%, richest decile 7.6%, richest quartile 13.0%, poorest quartile 31.6%, poorest decile 41.2%\n",
      "\n",
      "\n",
      "OK, sure, let's use Chicago's definition of low poverty as <= 10% poverty rate\n",
      "census tracts by poverty class:\n",
      "poverty_class\n",
      "high    152\n",
      "low      34\n",
      "dtype: int64\n",
      "backing up...\n"
     ]
    }
   ],
   "source": [
    "print('retrieving from backup...')\n",
    "census_tracts_df_bk = census_tracts_df\n",
    "\n",
    "census_tracts_df = census_tracts_df.assign(poverty_rate = census_tracts_df['poverty_past_12_months'] / census_tracts_df['poverty_status_known_last12months_total'])\n",
    "census_tracts_df = census_tracts_df.assign(majority_race = np.nan)\n",
    "census_tracts_df.loc[census_tracts_df['pop_black'] >= census_tracts_df['pop_white'], 'majority_race'] = 'black'\n",
    "census_tracts_df.loc[census_tracts_df['pop_white'] > census_tracts_df['pop_black'], 'majority_race'] = 'white'\n",
    "\n",
    "print('census tracts by majority race:')\n",
    "print(census_tracts_df[census_tracts_df['nYears'] == 7].groupby('majority_race').size())\n",
    "\n",
    "print('\\n')\n",
    "\n",
    "print('Quantiles of poverty rate in Baltimore city:')\n",
    "print('Median {0:.1%}, richest decile {1:.1%}, richest quartile {2:.1%}, poorest quartile {3:.1%}, poorest decile {4:.1%}'.format(\n",
    "    census_tracts_df['poverty_rate'][census_tracts_df['nYears'] == 7].quantile(0.5), \n",
    "    census_tracts_df['poverty_rate'][census_tracts_df['nYears'] == 7].quantile(0.1), \n",
    "    census_tracts_df['poverty_rate'][census_tracts_df['nYears'] == 7].quantile(0.25), \n",
    "    census_tracts_df['poverty_rate'][census_tracts_df['nYears'] == 7].quantile(0.75), \n",
    "    census_tracts_df['poverty_rate'][census_tracts_df['nYears'] == 7].quantile(0.9)\n",
    "))\n",
    "                                           \n",
    "print('\\n')\n",
    "print(\"OK, sure, let's use Chicago's definition of low poverty as <= 10% poverty rate\")\n",
    "\n",
    "census_tracts_df = census_tracts_df.assign(poverty_class = np.nan)\n",
    "census_tracts_df.loc[census_tracts_df['poverty_rate'] < 0.1, 'poverty_class'] = 'low'\n",
    "census_tracts_df.loc[census_tracts_df['poverty_rate'] >= 0.1, 'poverty_class'] = 'high'\n",
    "\n",
    "print('census tracts by poverty class:')\n",
    "print(census_tracts_df[census_tracts_df['nYears'] == 7].groupby('poverty_class').size())\n",
    "\n",
    "print('backing up...')\n",
    "census_tracts_df_bk = census_tracts_df\n"
   ]
  },
  {
   "cell_type": "markdown",
   "metadata": {},
   "source": [
    "## Get shapefiles"
   ]
  },
  {
   "cell_type": "code",
   "execution_count": 5,
   "metadata": {},
   "outputs": [
    {
     "name": "stdout",
     "output_type": "stream",
     "text": [
      "Getting census tract shapefiles for 2017...\n",
      "cutting out harbor...\n",
      "backing up...\n"
     ]
    },
    {
     "data": {
      "image/png": "[encoded data removed]",
      "text/plain": [
       "<Figure size 432x288 with 1 Axes>"
      ]
     },
     "metadata": {
      "needs_background": "light"
     },
     "output_type": "display_data"
    }
   ],
   "source": [
    "thisyear = 2017\n",
    "\n",
    "if (debug > 0):\n",
    "    print('Getting census tract shapefiles for {0:.0f}...'.format(thisyear))\n",
    "tract_shapes_gdf = geopandas.read_file(census_shapefile_tiger_basedir +'{0:.0f}/TRACT/tl_{0:.0f}_24_tract.shp'.format(thisyear))\n",
    "tract_shapes_gdf = tract_shapes_gdf[tract_shapes_gdf['COUNTYFP'] == '510']\n",
    "tract_shapes_gdf.loc[:, 'NAME'] = pandas.to_numeric(tract_shapes_gdf['NAME'], errors='coerce')\n",
    "tract_shapes_gdf = tract_shapes_gdf.assign(census_tract = pandas.to_numeric(tract_shapes_gdf['GEOID'].apply(lambda x: x[5:9]+'.'+x[9:]), errors='coerce'))\n",
    "tract_shapes_gdf = tract_shapes_gdf.drop('GEOID', axis=1)\n",
    "tract_shapes_gdf = tract_shapes_gdf.set_index('census_tract')\n",
    "\n",
    "print('cutting out harbor...')\n",
    "water_gdf = geopandas.read_file(shapefile_basedir+'water/water.shp')\n",
    "water_gdf = water_gdf.to_crs(tract_shapes_gdf.crs)\n",
    "\n",
    "tract_shapes_gdf = geopandas.overlay(tract_shapes_gdf, water_gdf[water_gdf['NAME'] == 'Harbor'], how='difference')\n",
    "\n",
    "tract_shapes_gdf.plot(color='darkgreen', edgecolor='white')\n",
    "\n",
    "print('backing up...')\n",
    "tract_shapes_gdf_bk = tract_shapes_gdf\n",
    "\n",
    "plt.show()\n"
   ]
  },
  {
   "cell_type": "markdown",
   "metadata": {},
   "source": [
    "## Join shapefiles to data"
   ]
  },
  {
   "cell_type": "code",
   "execution_count": 6,
   "metadata": {},
   "outputs": [
    {
     "name": "stdout",
     "output_type": "stream",
     "text": [
      "getting from backup...\n",
      "backing up...\n",
      "ok\n"
     ]
    }
   ],
   "source": [
    "print('getting from backup...')\n",
    "census_tracts_df = census_tracts_df_bk\n",
    "tract_shapes_gdf = tract_shapes_gdf_bk\n",
    "\n",
    "census_tracts_df = census_tracts_df.join(tract_shapes_gdf, how='left')#, lsuffix='_loans', rsuffix='_shapes')#[['GEOID_loans', 'GEOID_shapes']]\n",
    "census_tracts_gdf = geopandas.GeoDataFrame(census_tracts_df, crs=tract_shapes_gdf.crs)\n",
    "\n",
    "print('backing up...')\n",
    "census_tracts_gdf_bk = census_tracts_gdf\n",
    "\n",
    "print('ok')\n"
   ]
  },
  {
   "cell_type": "code",
   "execution_count": null,
   "metadata": {},
   "outputs": [],
   "source": [
    "print('getting from backup...')\n",
    "census_tracts_gdf = census_tracts_gdf_bk\n",
    "\n",
    "census_tracts_gdf.plot()\n",
    "\n",
    "#scale = 2\n",
    "\n",
    "#fig, ax = plt.subplots(1,1,figsize=(20*scale,20*scale))"
   ]
  },
  {
   "cell_type": "code",
   "execution_count": 49,
   "metadata": {},
   "outputs": [
    {
     "data": {
      "text/html": [
       "<table><tr><th>Majority Race</th><th>Median loan amount per small business job</th></tr><tr><td>white</td><td>$53,452</td></tr><tr><td>black</td><td>$30,336</td></tr></table><p>&nbsp;</p><table><tr><th>Poverty class</th><th>Median loan amount per small business job</th></tr><tr><td>low</td><td>$43,138</td></tr><tr><td>high</td><td>$36,411</td></tr></table>"
      ],
      "text/plain": [
       "<IPython.core.display.HTML object>"
      ]
     },
     "metadata": {},
     "output_type": "display_data"
    },
    {
     "data": {
      "image/png": "[encoded data removed]",
      "text/plain": [
       "<Figure size 432x288 with 1 Axes>"
      ]
     },
     "metadata": {
      "needs_background": "light"
     },
     "output_type": "display_data"
    }
   ],
   "source": [
    "htmlstring = '<table>'\n",
    "htmlstring += '<tr><th>Majority Race</th><th>Median loan amount per small business job</th></tr>'\n",
    "htmlstring += '<tr><td>{0:}</td><td>${1:,.0f}</td></tr>'.format('white', census_tracts_df['amtWorkingLoans_adj_per_sbjob'][(census_tracts_df['nYears'] == 7) & (census_tracts_df['majority_race'] == 'white')].median())\n",
    "htmlstring += '<tr><td>{0:}</td><td>${1:,.0f}</td></tr>'.format('black', census_tracts_df['amtWorkingLoans_adj_per_sbjob'][(census_tracts_df['nYears'] == 7) & (census_tracts_df['majority_race'] == 'black')].median())\n",
    "htmlstring += '</table>'\n",
    "\n",
    "htmlstring += '<p>&nbsp;</p>'\n",
    "\n",
    "htmlstring += '<table>'\n",
    "htmlstring += '<tr><th>Poverty class</th><th>Median loan amount per small business job</th></tr>'\n",
    "htmlstring += '<tr><td>{0:}</td><td>${1:,.0f}</td></tr>'.format('low', census_tracts_df['amtWorkingLoans_adj_per_sbjob'][(census_tracts_df['nYears'] == 7) & (census_tracts_df['poverty_class'] == 'low')].median())\n",
    "htmlstring += '<tr><td>{0:}</td><td>${1:,.0f}</td></tr>'.format('high', census_tracts_df['amtWorkingLoans_adj_per_sbjob'][(census_tracts_df['nYears'] == 7) & (census_tracts_df['poverty_class'] == 'high')].median())\n",
    "htmlstring += '</table>'\n",
    "\n",
    "display(HTML(htmlstring))\n",
    "\n",
    "bar_chart_df = pandas.DataFrame(data=None, columns=['median_loan_amt_per_sbjob'])\n",
    "\n",
    "bar_chart_df.loc['low poverty / high poverty', 'median_loan_amt_per_sbjob'] = (census_tracts_df['amtWorkingLoans_adj_per_sbjob'][census_tracts_df['poverty_class'] == 'low'].median() / census_tracts_df['amtWorkingLoans_adj_per_sbjob'][(census_tracts_df['nYears'] == 7) & (census_tracts_df['poverty_class'] == 'high')].median())\n",
    "bar_chart_df.loc['majority white / majority black', 'median_loan_amt_per_sbjob'] = (census_tracts_df['amtWorkingLoans_adj_per_sbjob'][census_tracts_df['majority_race'] == 'white'].median() / census_tracts_df['amtWorkingLoans_adj_per_sbjob'][(census_tracts_df['nYears'] == 7) & (census_tracts_df['majority_race'] == 'black')].median())\n",
    "\n",
    "fig, ax = plt.subplots(1,1)\n",
    "\n",
    "bar_chart_df.plot.bar(ax=ax, color='gold')\n",
    "plt.xticks(np.arange(0,2), bar_chart_df.index.values, rotation='horizontal')\n",
    "plt.ylabel('Ratio of median lending per tract')\n",
    "plt.legend(['Median loan amount\\nper small business job\\n(2017 USD)'])\n",
    "plt.title('Chicago report Figure 2, but for Baltimore', fontsize=14)\n",
    "\n",
    "plt.show()"
   ]
  },
  {
   "cell_type": "code",
   "execution_count": null,
   "metadata": {},
   "outputs": [],
   "source": [
    "print('retrieving from backup...')\n",
    "cra_level_df = cra_level_df_bk\n",
    "thehtml = '<table>'\n",
    "thehtml += '<tr><th>CRA level</th><th>Tracts</th><th>Amount of working loans</th><th>Small business jobs</th><th>Amt working loans per sb job</th></tr>'\n",
    "\n",
    "\n",
    "for ix, thisrow in cra_level_df.iterrows():\n",
    "    if (ix != 'unknown'):\n",
    "        thehtml += '<tr>'\n",
    "        thehtml += '<td>{0:}</td>'.format(ix)\n",
    "        thehtml += '<td>{0:.0f}</td>'.format(thisrow['nTracts'])\n",
    "        thehtml += '<td>${0:,.0f}</td>'.format(thisrow['amtWorkingLoans_adj'])\n",
    "        thehtml += '<td>{0:,.0f}</td>'.format(thisrow['sbjobs_2015'])\n",
    "        thehtml += '<td>${0:,.0f}</td>'.format(thisrow['amtWorkingLoans_adj_per_sbjob'])\n",
    "        thehtml += '</tr>'\n",
    "thehtml += '</table>'\n",
    "\n",
    "display(HTML(thehtml))\n",
    "\n",
    "fig, ax = plt.subplots(1,1)\n",
    "cra_level_df[cra_level_df.index != 'unknown'].plot(y = 'amtWorkingLoans_adj_per_sbjob', ax=ax, marker='.', ms=10)\n",
    "#plt.xticks(cra_level_df.index.values.tolist())\n",
    "plt.xlabel('CRA income level', fontsize=14)\n",
    "plt.xticks(np.arange(0,4), cra_level_df.index.tolist())\n",
    "plt.ylim([50000,58000])\n",
    "plt.ylabel('Working loan amount\\nper small business job\\n(USD2017)', fontsize=14)\n",
    "ax.get_legend().remove()\n",
    "plt.show()\n",
    "\n",
    "\n",
    "    "
   ]
  },
  {
   "cell_type": "code",
   "execution_count": null,
   "metadata": {},
   "outputs": [],
   "source": []
  },
  {
   "cell_type": "code",
   "execution_count": null,
   "metadata": {
    "scrolled": false
   },
   "outputs": [],
   "source": [
    "\n",
    "#print('backing up...')\n",
    "df = df[[x for x in df.columns.tolist() if 'per_sbjob' not in x]]\n",
    "#df = df[df.columns.tolist()[:-26]]\n",
    "\n",
    "reference_columns = ['census_tract', 'activity_year']\n",
    "\n",
    "cra_info_columns = ['CSA2010', 'income_group_code', 'income_group', 'cra_level']\n",
    "\n",
    "loan_columns = [x for x in df.columns.tolist() if ('nLoans' in x or 'amtLoans' in x)]\n",
    "\n",
    "get_columns = reference_columns + cra_info_columns + loan_columns\n",
    "\n",
    "print('backing up...')\n",
    "df_bk = df\n",
    "print('ok')\n",
    "#df[get_columns]\n",
    "\n",
    "\n"
   ]
  },
  {
   "cell_type": "code",
   "execution_count": null,
   "metadata": {},
   "outputs": [],
   "source": [
    "print('getting from backup...') \n",
    "df = df_bk\n",
    "\n",
    "#in2015_df = df[['census_tract', 'CSA2010', 'income_group_code', 'income_group', 'cra_level', 'Number of jobs for workers at firms with Firm Size: 0-19 Employees']][\n",
    "#    df['activity_year'] == 2015\n",
    "#].set_index('census_tract')\n",
    "\n",
    "in2015_df.index.tolist()\n"
   ]
  },
  {
   "cell_type": "code",
   "execution_count": null,
   "metadata": {
    "scrolled": false
   },
   "outputs": [],
   "source": [
    "\n",
    "df.columns.tolist()\n",
    "#df.set_index('census_tract').join(in2015_df, how='left')\n",
    "\n",
    "columns_to_sum = ['nLoans1', 'amtLoans1', 'nLoans100k', 'amtLoans100k', 'nLoans250k', 'amtLoans250k']\n",
    "columns_to_sum += ['nLoansToSmallest', 'amtLoansToSmallest', 'nLoansTotal', 'amtLoansTotal', 'nWorkingLoans', 'amtWorkingLoans']\n",
    "columns_to_sum += ['amtLoans1_adj', 'amtLoans100k_adj', 'amtLoans250k_adj', 'amtLoansToSmallest_adj']\n",
    "columns_to_sum += ['amtLoansTotal_adj', 'amtWorkingLoans_adj']\n",
    "\n",
    "summed_df = df.groupby('census_tract')[columns_to_sum].sum().join(in2015_df, how='left')\n",
    "\n",
    "summed_df = summed_df.rename(columns={'income_group_code': 'income_group_code_2015', 'income_group': 'income_group_2015', 'cra_level': 'cra_level_2015', 'Number of jobs for workers at firms with Firm Size: 0-19 Employees': 'sbjobs2015'})\n",
    "summed_df = summed_df.assign(nLoans1_per_sbjob = summed_df['nLoans1'] / summed_df['sbjobs2015'])\n",
    "summed_df = summed_df.assign(amtLoans1_adj_per_sbjob = summed_df['amtLoans1_adj'] / summed_df['sbjobs2015'])\n",
    "summed_df = summed_df.assign(nLoans100k_per_sbjob = summed_df['nLoans100k'] / summed_df['sbjobs2015'])\n",
    "summed_df = summed_df.assign(amtLoans100k_adj_per_sbjob = summed_df['amtLoans100k_adj'] / summed_df['sbjobs2015'])\n",
    "summed_df = summed_df.assign(nLoans250k_per_sbjob = summed_df['nLoans250k'] / summed_df['sbjobs2015'])\n",
    "summed_df = summed_df.assign(amtLoans250k_adj_per_sbjob = summed_df['amtLoans250k_adj'] / summed_df['sbjobs2015'])\n",
    "summed_df = summed_df.assign(nLoansToSmallest_per_sbjob = summed_df['nLoansToSmallest'] / summed_df['sbjobs2015'])\n",
    "summed_df = summed_df.assign(amtLoansToSmallest_adj_per_sbjob = summed_df['amtLoansToSmallest_adj'] / summed_df['sbjobs2015'])\n",
    "summed_df = summed_df.assign(nLoansTotal_per_sbjob = summed_df['nLoansTotal'] / summed_df['sbjobs2015'])\n",
    "summed_df = summed_df.assign(amtLoansTotal_adj_per_sbjob = summed_df['amtLoansTotal_adj'] / summed_df['sbjobs2015'])\n",
    "summed_df = summed_df.assign(nWorkingLoans_per_sbjob = summed_df['nWorkingLoans'] / summed_df['sbjobs2015'])\n",
    "summed_df = summed_df.assign(amtWorkingLoans_adj_per_sbjob = summed_df['amtWorkingLoans_adj'] / summed_df['sbjobs2015'])\n",
    "\n",
    "summed_df['nLoans1_per_sbjob'].dropna()\n",
    "\n",
    "\n",
    "    "
   ]
  },
  {
   "cell_type": "code",
   "execution_count": null,
   "metadata": {},
   "outputs": [],
   "source": [
    "\n",
    "\n",
    "cra_level_df = pandas.DataFrame(summed_df.groupby('cra_level_2015').size(), columns=['nTracts'])\n",
    "\n",
    "cra_level_df = cra_level_df.assign(nLoans1_per_sbjob = summed_df.groupby('cra_level_2015')['nLoans1_per_sbjob'].sum())\n",
    "'''\n",
    "cra_level_df = cra_level_df.assign(nLoans100k = df.groupby('cra_level')['nLoans100k'].sum())\n",
    "cra_level_df = cra_level_df.assign(nLoans250k = df.groupby('cra_level')['nLoans250k'].sum())\n",
    "cra_level_df = cra_level_df.assign(nLoansToSmallest = df.groupby('cra_level')['nLoansToSmallest'].sum())\n",
    "cra_level_df = cra_level_df.assign(nLoansTotal = df.groupby('cra_level')['nLoansTotal'].sum())\n",
    "cra_level_df = cra_level_df.assign(nWorkingLoans = df.groupby('cra_level')['nWorkingLoans'].sum())#\n",
    "\n",
    "cra_level_df = cra_level_df.assign(amtLoans1_adj = df.groupby('cra_level')['amtLoans1_adj'].sum())\n",
    "cra_level_df = cra_level_df.assign(amtLoans100k_adj = df.groupby('cra_level')['amtLoans100k_adj'].sum())\n",
    "cra_level_df = cra_level_df.assign(amtLoans250k_adj = df.groupby('cra_level')['amtLoans250k_adj'].sum())\n",
    "cra_level_df = cra_level_df.assign(amtLoansToSmallest_adj = df.groupby('cra_level')['amtLoansToSmallest_adj'].sum())\n",
    "cra_level_df = cra_level_df.assign(amtLoansTotal_adj = df.groupby('cra_level')['amtLoansTotal_adj'].sum())\n",
    "cra_level_df = cra_level_df.assign(amtWorkingLoans_adj = df.groupby('cra_level')['amtWorkingLoans_adj'].sum())\n",
    "\n",
    "cra_level_df = cra_level_df.drop('unknown', axis=0)\n",
    "'''\n",
    "cra_level_df\n",
    "\n"
   ]
  },
  {
   "cell_type": "code",
   "execution_count": null,
   "metadata": {
    "scrolled": false
   },
   "outputs": [],
   "source": [
    "\n",
    "cra_level_df = cra_level_df.assign(sbjobs = df.groupby('cra_level')['Number of jobs for workers at firms with Firm Size: 0-19 Employees'].sum())\n",
    "\n",
    "cra_level_df = cra_level_df.assign(nLoans1_per_sbjob = cra_level_df['nLoans1'] / cra_level_df['sbjobs'])\n",
    "cra_level_df = cra_level_df.assign(nLoans100k_per_sbjob = cra_level_df['nLoans100k'] / cra_level_df['sbjobs'])\n",
    "cra_level_df = cra_level_df.assign(nLoans250k_per_sbjob = cra_level_df['nLoans250k'] / cra_level_df['sbjobs'])\n",
    "cra_level_df = cra_level_df.assign(nLoansToSmallest_per_sbjob = cra_level_df['nLoansToSmallest'] / cra_level_df['sbjobs'])\n",
    "cra_level_df = cra_level_df.assign(nLoansTotal_per_sbjob = cra_level_df['nLoansTotal'] / cra_level_df['sbjobs'])\n",
    "cra_level_df = cra_level_df.assign(nWorkingLoans_per_sbjob = cra_level_df['nWorkingLoans'] / cra_level_df['sbjobs'])\n",
    "\n",
    "cra_level_df = cra_level_df.assign(amtLoans1_adj_per_sbjob = cra_level_df['amtLoans1_adj'] / cra_level_df['sbjobs'])\n",
    "cra_level_df = cra_level_df.assign(amtLoans100k_adj_per_sbjob = cra_level_df['amtLoans100k_adj'] / cra_level_df['sbjobs'])\n",
    "cra_level_df = cra_level_df.assign(amtLoans250k_adj_per_sbjob = cra_level_df['amtLoans250k_adj'] / cra_level_df['sbjobs'])\n",
    "cra_level_df = cra_level_df.assign(amtLoansToSmallest_adj_per_sbjob = cra_level_df['amtLoansToSmallest_adj'] / cra_level_df['sbjobs'])\n",
    "cra_level_df = cra_level_df.assign(amtLoansTotal_adj_per_sbjob = cra_level_df['amtLoansTotal_adj'] / cra_level_df['sbjobs'])\n",
    "cra_level_df = cra_level_df.assign(amtWorkingLoans_adj_per_sbjob = cra_level_df['amtWorkingLoans_adj'] / cra_level_df['sbjobs'])\n",
    "\n",
    "cra_level_df = cra_level_df.drop('unknown', axis=0)\n",
    "\n",
    "print('Done!')\n",
    "#amtLoans1_adj\tamtLoans100k_adj\tamtLoans250k_adj\tamtLoansToSmallest_adj\tamtLoansTotal_adj"
   ]
  },
  {
   "cell_type": "code",
   "execution_count": null,
   "metadata": {
    "scrolled": false
   },
   "outputs": [],
   "source": []
  },
  {
   "cell_type": "code",
   "execution_count": null,
   "metadata": {},
   "outputs": [],
   "source": []
  }
 ],
 "metadata": {
  "kernelspec": {
   "display_name": "Python 3",
   "language": "python",
   "name": "python3"
  },
  "language_info": {
   "codemirror_mode": {
    "name": "ipython",
    "version": 3
   },
   "file_extension": ".py",
   "mimetype": "text/x-python",
   "name": "python",
   "nbconvert_exporter": "python",
   "pygments_lexer": "ipython3",
   "version": "3.6.6"
  }
 },
 "nbformat": 4,
 "nbformat_minor": 2
}
